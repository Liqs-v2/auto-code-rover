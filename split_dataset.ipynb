{
 "cells": [
  {
   "metadata": {},
   "cell_type": "markdown",
   "source": [
    "# Exploratory Data Analysis (EDA) of SWE-Bench Verified Annotation Data\n",
    "\n",
    "To determine which instances of SWE-Bench Verified are to be moved into the train- and which into the test-split and to develop the methodology for doing so, we will make use of the SWE-Bench Verified annotation data [provided by OpenAI.](https://openai.com/index/introducing-swe-bench-verified/)"
   ],
   "id": "9e01dfaca78caea1"
  },
  {
   "metadata": {},
   "cell_type": "markdown",
   "source": "## Get annotation data for SWE-Bench Verified samples",
   "id": "19a0771f51ffc647"
  },
  {
   "metadata": {
    "ExecuteTime": {
     "end_time": "2024-11-12T10:05:16.443790Z",
     "start_time": "2024-11-12T10:05:13.095540Z"
    }
   },
   "cell_type": "code",
   "source": [
    "from typing import Tuple\n",
    "\n",
    "from scipy.stats import chi2_contingency\n",
    "import numpy as np\n",
    "import pandas as pd\n",
    "import json\n",
    "import os\n",
    "import matplotlib.pyplot as plt\n",
    "from sklearn.model_selection import train_test_split"
   ],
   "id": "c2e53305cc6fe47b",
   "outputs": [],
   "execution_count": 1
  },
  {
   "cell_type": "code",
   "id": "initial_id",
   "metadata": {
    "collapsed": true,
    "ExecuteTime": {
     "end_time": "2024-11-12T10:05:16.514001Z",
     "start_time": "2024-11-12T10:05:16.450887Z"
    }
   },
   "source": [
    "annotation_data = pd.read_csv('swe-bench-annotation-results/samples_with_3_annotations_public.csv')\n",
    "ensembled_annotation_data = pd.read_csv('swe-bench-annotation-results/ensembled_annotations_public.csv')"
   ],
   "outputs": [],
   "execution_count": 2
  },
  {
   "metadata": {
    "ExecuteTime": {
     "end_time": "2024-11-12T10:05:16.613506Z",
     "start_time": "2024-11-12T10:05:16.608681Z"
    }
   },
   "cell_type": "code",
   "source": "annotation_data.info()",
   "id": "8e7135c648f5155b",
   "outputs": [
    {
     "name": "stdout",
     "output_type": "stream",
     "text": [
      "<class 'pandas.core.frame.DataFrame'>\n",
      "RangeIndex: 5097 entries, 0 to 5096\n",
      "Data columns (total 20 columns):\n",
      " #   Column                      Non-Null Count  Dtype  \n",
      "---  ------                      --------------  -----  \n",
      " 0   instance_id                 5097 non-null   object \n",
      " 1   user_id                     5097 non-null   int64  \n",
      " 2   difficulty                  5096 non-null   object \n",
      " 3   difficulty_notes            5077 non-null   object \n",
      " 4   underspecified              5093 non-null   float64\n",
      " 5   underspecified_notes        5096 non-null   object \n",
      " 6   false_negative              5092 non-null   float64\n",
      " 7   false_negative_notes        5095 non-null   object \n",
      " 8   other_major_issues          5068 non-null   float64\n",
      " 9   other_notes                 328 non-null    object \n",
      " 10  annotator_confidence        5097 non-null   int64  \n",
      " 11  claimed_at                  5097 non-null   object \n",
      " 12  updated_at                  5097 non-null   object \n",
      " 13  submitted_at                5097 non-null   object \n",
      " 14  reviews                     0 non-null      float64\n",
      " 15  comments                    0 non-null      float64\n",
      " 16  task_batch_name             5097 non-null   object \n",
      " 17  problematic                 5097 non-null   bool   \n",
      " 18  underspecified_problematic  5097 non-null   bool   \n",
      " 19  false_negative_problematic  5097 non-null   bool   \n",
      "dtypes: bool(3), float64(5), int64(2), object(10)\n",
      "memory usage: 692.0+ KB\n"
     ]
    }
   ],
   "execution_count": 3
  },
  {
   "metadata": {
    "ExecuteTime": {
     "end_time": "2024-11-12T10:05:16.642570Z",
     "start_time": "2024-11-12T10:05:16.638385Z"
    }
   },
   "cell_type": "code",
   "source": "ensembled_annotation_data.info()",
   "id": "bc368157122be446",
   "outputs": [
    {
     "name": "stdout",
     "output_type": "stream",
     "text": [
      "<class 'pandas.core.frame.DataFrame'>\n",
      "RangeIndex: 1699 entries, 0 to 1698\n",
      "Data columns (total 14 columns):\n",
      " #   Column                                  Non-Null Count  Dtype  \n",
      "---  ------                                  --------------  -----  \n",
      " 0   instance_id                             1699 non-null   object \n",
      " 1   underspecified                          1699 non-null   float64\n",
      " 2   underspecified_notes                    1699 non-null   object \n",
      " 3   false_negative                          1699 non-null   float64\n",
      " 4   false_negative_notes                    1699 non-null   object \n",
      " 5   other_major_issues                      1699 non-null   float64\n",
      " 6   other_notes                             203 non-null    object \n",
      " 7   difficulty                              1699 non-null   object \n",
      " 8   underspecified_decided_by               1699 non-null   int64  \n",
      " 9   false_negative_decided_by               1699 non-null   int64  \n",
      " 10  other_major_issues_decided_by           1699 non-null   int64  \n",
      " 11  difficulty_decided_by                   1699 non-null   object \n",
      " 12  difficulty_ensemble_decision_procedure  1699 non-null   object \n",
      " 13  filter_out                              1699 non-null   bool   \n",
      "dtypes: bool(1), float64(3), int64(3), object(7)\n",
      "memory usage: 174.3+ KB\n"
     ]
    }
   ],
   "execution_count": 4
  },
  {
   "metadata": {},
   "cell_type": "markdown",
   "source": "The ensembled annotation data file contains the annotations aggregate to an `instance_id` level with respect to the 1699 instance ids from SWE-Bench that they investigated. The data are aggregated by taking the maximum value, according to their blogpost. Let's quickly check this qualitatively.",
   "id": "155e62591c20f7cf"
  },
  {
   "metadata": {
    "ExecuteTime": {
     "end_time": "2024-11-12T10:05:16.703262Z",
     "start_time": "2024-11-12T10:05:16.695794Z"
    }
   },
   "cell_type": "code",
   "source": "ensembled_annotation_data[['instance_id','underspecified','false_negative', 'difficulty','other_major_issues']]",
   "id": "9d51ce6d741f70bc",
   "outputs": [
    {
     "data": {
      "text/plain": [
       "                 instance_id  underspecified  false_negative       difficulty  \\\n",
       "0     astropy__astropy-11693             1.0             3.0  15 min - 1 hour   \n",
       "1     astropy__astropy-12544             0.0             3.0        1-4 hours   \n",
       "2     astropy__astropy-12825             1.0             2.0        1-4 hours   \n",
       "3     astropy__astropy-12842             1.0             2.0        1-4 hours   \n",
       "4     astropy__astropy-12880             1.0             3.0      <15 min fix   \n",
       "...                      ...             ...             ...              ...   \n",
       "1694      sympy__sympy-24539             0.0             1.0      <15 min fix   \n",
       "1695      sympy__sympy-24562             0.0             0.0      <15 min fix   \n",
       "1696      sympy__sympy-24661             0.0             0.0  15 min - 1 hour   \n",
       "1697      sympy__sympy-24723             1.0             0.0      <15 min fix   \n",
       "1698      sympy__sympy-24909             1.0             2.0      <15 min fix   \n",
       "\n",
       "      other_major_issues  \n",
       "0                    0.0  \n",
       "1                    0.0  \n",
       "2                    0.0  \n",
       "3                    0.0  \n",
       "4                    0.0  \n",
       "...                  ...  \n",
       "1694                 0.0  \n",
       "1695                 0.0  \n",
       "1696                 0.0  \n",
       "1697                 0.0  \n",
       "1698                 0.0  \n",
       "\n",
       "[1699 rows x 5 columns]"
      ],
      "text/html": [
       "<div>\n",
       "<style scoped>\n",
       "    .dataframe tbody tr th:only-of-type {\n",
       "        vertical-align: middle;\n",
       "    }\n",
       "\n",
       "    .dataframe tbody tr th {\n",
       "        vertical-align: top;\n",
       "    }\n",
       "\n",
       "    .dataframe thead th {\n",
       "        text-align: right;\n",
       "    }\n",
       "</style>\n",
       "<table border=\"1\" class=\"dataframe\">\n",
       "  <thead>\n",
       "    <tr style=\"text-align: right;\">\n",
       "      <th></th>\n",
       "      <th>instance_id</th>\n",
       "      <th>underspecified</th>\n",
       "      <th>false_negative</th>\n",
       "      <th>difficulty</th>\n",
       "      <th>other_major_issues</th>\n",
       "    </tr>\n",
       "  </thead>\n",
       "  <tbody>\n",
       "    <tr>\n",
       "      <th>0</th>\n",
       "      <td>astropy__astropy-11693</td>\n",
       "      <td>1.0</td>\n",
       "      <td>3.0</td>\n",
       "      <td>15 min - 1 hour</td>\n",
       "      <td>0.0</td>\n",
       "    </tr>\n",
       "    <tr>\n",
       "      <th>1</th>\n",
       "      <td>astropy__astropy-12544</td>\n",
       "      <td>0.0</td>\n",
       "      <td>3.0</td>\n",
       "      <td>1-4 hours</td>\n",
       "      <td>0.0</td>\n",
       "    </tr>\n",
       "    <tr>\n",
       "      <th>2</th>\n",
       "      <td>astropy__astropy-12825</td>\n",
       "      <td>1.0</td>\n",
       "      <td>2.0</td>\n",
       "      <td>1-4 hours</td>\n",
       "      <td>0.0</td>\n",
       "    </tr>\n",
       "    <tr>\n",
       "      <th>3</th>\n",
       "      <td>astropy__astropy-12842</td>\n",
       "      <td>1.0</td>\n",
       "      <td>2.0</td>\n",
       "      <td>1-4 hours</td>\n",
       "      <td>0.0</td>\n",
       "    </tr>\n",
       "    <tr>\n",
       "      <th>4</th>\n",
       "      <td>astropy__astropy-12880</td>\n",
       "      <td>1.0</td>\n",
       "      <td>3.0</td>\n",
       "      <td>&lt;15 min fix</td>\n",
       "      <td>0.0</td>\n",
       "    </tr>\n",
       "    <tr>\n",
       "      <th>...</th>\n",
       "      <td>...</td>\n",
       "      <td>...</td>\n",
       "      <td>...</td>\n",
       "      <td>...</td>\n",
       "      <td>...</td>\n",
       "    </tr>\n",
       "    <tr>\n",
       "      <th>1694</th>\n",
       "      <td>sympy__sympy-24539</td>\n",
       "      <td>0.0</td>\n",
       "      <td>1.0</td>\n",
       "      <td>&lt;15 min fix</td>\n",
       "      <td>0.0</td>\n",
       "    </tr>\n",
       "    <tr>\n",
       "      <th>1695</th>\n",
       "      <td>sympy__sympy-24562</td>\n",
       "      <td>0.0</td>\n",
       "      <td>0.0</td>\n",
       "      <td>&lt;15 min fix</td>\n",
       "      <td>0.0</td>\n",
       "    </tr>\n",
       "    <tr>\n",
       "      <th>1696</th>\n",
       "      <td>sympy__sympy-24661</td>\n",
       "      <td>0.0</td>\n",
       "      <td>0.0</td>\n",
       "      <td>15 min - 1 hour</td>\n",
       "      <td>0.0</td>\n",
       "    </tr>\n",
       "    <tr>\n",
       "      <th>1697</th>\n",
       "      <td>sympy__sympy-24723</td>\n",
       "      <td>1.0</td>\n",
       "      <td>0.0</td>\n",
       "      <td>&lt;15 min fix</td>\n",
       "      <td>0.0</td>\n",
       "    </tr>\n",
       "    <tr>\n",
       "      <th>1698</th>\n",
       "      <td>sympy__sympy-24909</td>\n",
       "      <td>1.0</td>\n",
       "      <td>2.0</td>\n",
       "      <td>&lt;15 min fix</td>\n",
       "      <td>0.0</td>\n",
       "    </tr>\n",
       "  </tbody>\n",
       "</table>\n",
       "<p>1699 rows × 5 columns</p>\n",
       "</div>"
      ]
     },
     "execution_count": 5,
     "metadata": {},
     "output_type": "execute_result"
    }
   ],
   "execution_count": 5
  },
  {
   "metadata": {
    "ExecuteTime": {
     "end_time": "2024-11-12T10:05:16.759968Z",
     "start_time": "2024-11-12T10:05:16.755206Z"
    }
   },
   "cell_type": "code",
   "source": "annotation_data[annotation_data['instance_id'] == 'astropy__astropy-12891'][['instance_id','underspecified','false_negative', 'difficulty','other_major_issues']]",
   "id": "fa63097c61fabb1f",
   "outputs": [
    {
     "data": {
      "text/plain": [
       "               instance_id  underspecified  false_negative       difficulty  \\\n",
       "15  astropy__astropy-12891             2.0             3.0  15 min - 1 hour   \n",
       "16  astropy__astropy-12891             1.0             2.0        1-4 hours   \n",
       "17  astropy__astropy-12891             0.0             0.0        1-4 hours   \n",
       "\n",
       "    other_major_issues  \n",
       "15                 0.0  \n",
       "16                 0.0  \n",
       "17                 0.0  "
      ],
      "text/html": [
       "<div>\n",
       "<style scoped>\n",
       "    .dataframe tbody tr th:only-of-type {\n",
       "        vertical-align: middle;\n",
       "    }\n",
       "\n",
       "    .dataframe tbody tr th {\n",
       "        vertical-align: top;\n",
       "    }\n",
       "\n",
       "    .dataframe thead th {\n",
       "        text-align: right;\n",
       "    }\n",
       "</style>\n",
       "<table border=\"1\" class=\"dataframe\">\n",
       "  <thead>\n",
       "    <tr style=\"text-align: right;\">\n",
       "      <th></th>\n",
       "      <th>instance_id</th>\n",
       "      <th>underspecified</th>\n",
       "      <th>false_negative</th>\n",
       "      <th>difficulty</th>\n",
       "      <th>other_major_issues</th>\n",
       "    </tr>\n",
       "  </thead>\n",
       "  <tbody>\n",
       "    <tr>\n",
       "      <th>15</th>\n",
       "      <td>astropy__astropy-12891</td>\n",
       "      <td>2.0</td>\n",
       "      <td>3.0</td>\n",
       "      <td>15 min - 1 hour</td>\n",
       "      <td>0.0</td>\n",
       "    </tr>\n",
       "    <tr>\n",
       "      <th>16</th>\n",
       "      <td>astropy__astropy-12891</td>\n",
       "      <td>1.0</td>\n",
       "      <td>2.0</td>\n",
       "      <td>1-4 hours</td>\n",
       "      <td>0.0</td>\n",
       "    </tr>\n",
       "    <tr>\n",
       "      <th>17</th>\n",
       "      <td>astropy__astropy-12891</td>\n",
       "      <td>0.0</td>\n",
       "      <td>0.0</td>\n",
       "      <td>1-4 hours</td>\n",
       "      <td>0.0</td>\n",
       "    </tr>\n",
       "  </tbody>\n",
       "</table>\n",
       "</div>"
      ]
     },
     "execution_count": 6,
     "metadata": {},
     "output_type": "execute_result"
    }
   ],
   "execution_count": 6
  },
  {
   "metadata": {},
   "cell_type": "markdown",
   "source": "For the samples we checked, this seems to hold up. We will this continue by just looking at the aggregated dataset.",
   "id": "4e62e9d5488992cc"
  },
  {
   "metadata": {
    "ExecuteTime": {
     "end_time": "2024-11-12T10:05:16.814357Z",
     "start_time": "2024-11-12T10:05:16.811903Z"
    }
   },
   "cell_type": "code",
   "source": "del annotation_data",
   "id": "c3e41598f5980099",
   "outputs": [],
   "execution_count": 7
  },
  {
   "metadata": {
    "ExecuteTime": {
     "end_time": "2024-11-12T10:05:16.900574Z",
     "start_time": "2024-11-12T10:05:16.897856Z"
    }
   },
   "cell_type": "code",
   "source": "ensembled_annotation_data = ensembled_annotation_data[ensembled_annotation_data['filter_out'] == False]",
   "id": "352ece23c1e55b1",
   "outputs": [],
   "execution_count": 8
  },
  {
   "metadata": {
    "ExecuteTime": {
     "end_time": "2024-11-12T10:05:16.972950Z",
     "start_time": "2024-11-12T10:05:16.966300Z"
    }
   },
   "cell_type": "code",
   "source": "ensembled_annotation_data",
   "id": "156cd238971980e6",
   "outputs": [
    {
     "data": {
      "text/plain": [
       "                 instance_id  underspecified  \\\n",
       "6     astropy__astropy-12907             1.0   \n",
       "9     astropy__astropy-13033             1.0   \n",
       "15    astropy__astropy-13236             1.0   \n",
       "18    astropy__astropy-13398             0.0   \n",
       "20    astropy__astropy-13453             0.0   \n",
       "...                      ...             ...   \n",
       "1692      sympy__sympy-24443             1.0   \n",
       "1694      sympy__sympy-24539             0.0   \n",
       "1695      sympy__sympy-24562             0.0   \n",
       "1696      sympy__sympy-24661             0.0   \n",
       "1697      sympy__sympy-24723             1.0   \n",
       "\n",
       "                                   underspecified_notes  false_negative  \\\n",
       "6     The issue description is clear, explaining tha...             0.0   \n",
       "9     The issue's concern is well understood. The va...             1.0   \n",
       "15    1. It is clearly suggested that automatic conv...             0.0   \n",
       "18    Issue description is well specified. It inform...             0.0   \n",
       "20    The issue description is very clear and well-o...             0.0   \n",
       "...                                                 ...             ...   \n",
       "1692  The `_check_homomorphism` function is broken f...             0.0   \n",
       "1694  The issue is crystal clear in the ticket. It s...             1.0   \n",
       "1695  The issue raises a bug where the output of `Ra...             0.0   \n",
       "1696  The ticket is very clear. The issue is that th...             0.0   \n",
       "1697  Sympy is returning the wrong constant in the P...             0.0   \n",
       "\n",
       "                                   false_negative_notes  other_major_issues  \\\n",
       "6     The goal of the test patch is to evaluate nest...                 0.0   \n",
       "9     The error message is raised is particular to t...                 0.0   \n",
       "15    1. Issue description wants the agent to remove...                 0.0   \n",
       "18    The tests are well scoped and cover all possib...                 0.0   \n",
       "20    The `test_write_table_formatted_columns` funct...                 0.0   \n",
       "...                                                 ...                 ...   \n",
       "1692  The test patch tests the code raising error in...                 0.0   \n",
       "1694  The tests specifically check whether the `as_e...                 0.0   \n",
       "1695  The tests check that the value of `Rational(p,...                 0.0   \n",
       "1696  The tests are testing all the relational possi...                 0.0   \n",
       "1697  The test confirms the result of the formula is...                 0.0   \n",
       "\n",
       "     other_notes       difficulty  underspecified_decided_by  \\\n",
       "6            NaN  15 min - 1 hour                         75   \n",
       "9            NaN  15 min - 1 hour                         61   \n",
       "15           NaN  15 min - 1 hour                         71   \n",
       "18           NaN        1-4 hours                         12   \n",
       "20           NaN  15 min - 1 hour                         67   \n",
       "...          ...              ...                        ...   \n",
       "1692         NaN  15 min - 1 hour                         28   \n",
       "1694         NaN      <15 min fix                          7   \n",
       "1695         NaN      <15 min fix                         65   \n",
       "1696         NaN  15 min - 1 hour                          7   \n",
       "1697         NaN      <15 min fix                         59   \n",
       "\n",
       "      false_negative_decided_by  other_major_issues_decided_by  \\\n",
       "6                            75                             75   \n",
       "9                            61                             13   \n",
       "15                           71                             71   \n",
       "18                           12                             12   \n",
       "20                           67                             67   \n",
       "...                         ...                            ...   \n",
       "1692                         28                             28   \n",
       "1694                         43                              7   \n",
       "1695                         65                             65   \n",
       "1696                          7                              7   \n",
       "1697                         78                             78   \n",
       "\n",
       "     difficulty_decided_by difficulty_ensemble_decision_procedure  filter_out  \n",
       "6                 [75, 28]                               majority       False  \n",
       "9                 [13, 17]                               majority       False  \n",
       "15                    [71]                                 median       False  \n",
       "18                [12, 62]                               majority       False  \n",
       "20                [61, 28]                               majority       False  \n",
       "...                    ...                                    ...         ...  \n",
       "1692           [28, 9, 12]                               majority       False  \n",
       "1694           [7, 44, 43]                               majority       False  \n",
       "1695               [13, 7]                               majority       False  \n",
       "1696               [7, 10]                               majority       False  \n",
       "1697          [78, 59, 72]                               majority       False  \n",
       "\n",
       "[539 rows x 14 columns]"
      ],
      "text/html": [
       "<div>\n",
       "<style scoped>\n",
       "    .dataframe tbody tr th:only-of-type {\n",
       "        vertical-align: middle;\n",
       "    }\n",
       "\n",
       "    .dataframe tbody tr th {\n",
       "        vertical-align: top;\n",
       "    }\n",
       "\n",
       "    .dataframe thead th {\n",
       "        text-align: right;\n",
       "    }\n",
       "</style>\n",
       "<table border=\"1\" class=\"dataframe\">\n",
       "  <thead>\n",
       "    <tr style=\"text-align: right;\">\n",
       "      <th></th>\n",
       "      <th>instance_id</th>\n",
       "      <th>underspecified</th>\n",
       "      <th>underspecified_notes</th>\n",
       "      <th>false_negative</th>\n",
       "      <th>false_negative_notes</th>\n",
       "      <th>other_major_issues</th>\n",
       "      <th>other_notes</th>\n",
       "      <th>difficulty</th>\n",
       "      <th>underspecified_decided_by</th>\n",
       "      <th>false_negative_decided_by</th>\n",
       "      <th>other_major_issues_decided_by</th>\n",
       "      <th>difficulty_decided_by</th>\n",
       "      <th>difficulty_ensemble_decision_procedure</th>\n",
       "      <th>filter_out</th>\n",
       "    </tr>\n",
       "  </thead>\n",
       "  <tbody>\n",
       "    <tr>\n",
       "      <th>6</th>\n",
       "      <td>astropy__astropy-12907</td>\n",
       "      <td>1.0</td>\n",
       "      <td>The issue description is clear, explaining tha...</td>\n",
       "      <td>0.0</td>\n",
       "      <td>The goal of the test patch is to evaluate nest...</td>\n",
       "      <td>0.0</td>\n",
       "      <td>NaN</td>\n",
       "      <td>15 min - 1 hour</td>\n",
       "      <td>75</td>\n",
       "      <td>75</td>\n",
       "      <td>75</td>\n",
       "      <td>[75, 28]</td>\n",
       "      <td>majority</td>\n",
       "      <td>False</td>\n",
       "    </tr>\n",
       "    <tr>\n",
       "      <th>9</th>\n",
       "      <td>astropy__astropy-13033</td>\n",
       "      <td>1.0</td>\n",
       "      <td>The issue's concern is well understood. The va...</td>\n",
       "      <td>1.0</td>\n",
       "      <td>The error message is raised is particular to t...</td>\n",
       "      <td>0.0</td>\n",
       "      <td>NaN</td>\n",
       "      <td>15 min - 1 hour</td>\n",
       "      <td>61</td>\n",
       "      <td>61</td>\n",
       "      <td>13</td>\n",
       "      <td>[13, 17]</td>\n",
       "      <td>majority</td>\n",
       "      <td>False</td>\n",
       "    </tr>\n",
       "    <tr>\n",
       "      <th>15</th>\n",
       "      <td>astropy__astropy-13236</td>\n",
       "      <td>1.0</td>\n",
       "      <td>1. It is clearly suggested that automatic conv...</td>\n",
       "      <td>0.0</td>\n",
       "      <td>1. Issue description wants the agent to remove...</td>\n",
       "      <td>0.0</td>\n",
       "      <td>NaN</td>\n",
       "      <td>15 min - 1 hour</td>\n",
       "      <td>71</td>\n",
       "      <td>71</td>\n",
       "      <td>71</td>\n",
       "      <td>[71]</td>\n",
       "      <td>median</td>\n",
       "      <td>False</td>\n",
       "    </tr>\n",
       "    <tr>\n",
       "      <th>18</th>\n",
       "      <td>astropy__astropy-13398</td>\n",
       "      <td>0.0</td>\n",
       "      <td>Issue description is well specified. It inform...</td>\n",
       "      <td>0.0</td>\n",
       "      <td>The tests are well scoped and cover all possib...</td>\n",
       "      <td>0.0</td>\n",
       "      <td>NaN</td>\n",
       "      <td>1-4 hours</td>\n",
       "      <td>12</td>\n",
       "      <td>12</td>\n",
       "      <td>12</td>\n",
       "      <td>[12, 62]</td>\n",
       "      <td>majority</td>\n",
       "      <td>False</td>\n",
       "    </tr>\n",
       "    <tr>\n",
       "      <th>20</th>\n",
       "      <td>astropy__astropy-13453</td>\n",
       "      <td>0.0</td>\n",
       "      <td>The issue description is very clear and well-o...</td>\n",
       "      <td>0.0</td>\n",
       "      <td>The `test_write_table_formatted_columns` funct...</td>\n",
       "      <td>0.0</td>\n",
       "      <td>NaN</td>\n",
       "      <td>15 min - 1 hour</td>\n",
       "      <td>67</td>\n",
       "      <td>67</td>\n",
       "      <td>67</td>\n",
       "      <td>[61, 28]</td>\n",
       "      <td>majority</td>\n",
       "      <td>False</td>\n",
       "    </tr>\n",
       "    <tr>\n",
       "      <th>...</th>\n",
       "      <td>...</td>\n",
       "      <td>...</td>\n",
       "      <td>...</td>\n",
       "      <td>...</td>\n",
       "      <td>...</td>\n",
       "      <td>...</td>\n",
       "      <td>...</td>\n",
       "      <td>...</td>\n",
       "      <td>...</td>\n",
       "      <td>...</td>\n",
       "      <td>...</td>\n",
       "      <td>...</td>\n",
       "      <td>...</td>\n",
       "      <td>...</td>\n",
       "    </tr>\n",
       "    <tr>\n",
       "      <th>1692</th>\n",
       "      <td>sympy__sympy-24443</td>\n",
       "      <td>1.0</td>\n",
       "      <td>The `_check_homomorphism` function is broken f...</td>\n",
       "      <td>0.0</td>\n",
       "      <td>The test patch tests the code raising error in...</td>\n",
       "      <td>0.0</td>\n",
       "      <td>NaN</td>\n",
       "      <td>15 min - 1 hour</td>\n",
       "      <td>28</td>\n",
       "      <td>28</td>\n",
       "      <td>28</td>\n",
       "      <td>[28, 9, 12]</td>\n",
       "      <td>majority</td>\n",
       "      <td>False</td>\n",
       "    </tr>\n",
       "    <tr>\n",
       "      <th>1694</th>\n",
       "      <td>sympy__sympy-24539</td>\n",
       "      <td>0.0</td>\n",
       "      <td>The issue is crystal clear in the ticket. It s...</td>\n",
       "      <td>1.0</td>\n",
       "      <td>The tests specifically check whether the `as_e...</td>\n",
       "      <td>0.0</td>\n",
       "      <td>NaN</td>\n",
       "      <td>&lt;15 min fix</td>\n",
       "      <td>7</td>\n",
       "      <td>43</td>\n",
       "      <td>7</td>\n",
       "      <td>[7, 44, 43]</td>\n",
       "      <td>majority</td>\n",
       "      <td>False</td>\n",
       "    </tr>\n",
       "    <tr>\n",
       "      <th>1695</th>\n",
       "      <td>sympy__sympy-24562</td>\n",
       "      <td>0.0</td>\n",
       "      <td>The issue raises a bug where the output of `Ra...</td>\n",
       "      <td>0.0</td>\n",
       "      <td>The tests check that the value of `Rational(p,...</td>\n",
       "      <td>0.0</td>\n",
       "      <td>NaN</td>\n",
       "      <td>&lt;15 min fix</td>\n",
       "      <td>65</td>\n",
       "      <td>65</td>\n",
       "      <td>65</td>\n",
       "      <td>[13, 7]</td>\n",
       "      <td>majority</td>\n",
       "      <td>False</td>\n",
       "    </tr>\n",
       "    <tr>\n",
       "      <th>1696</th>\n",
       "      <td>sympy__sympy-24661</td>\n",
       "      <td>0.0</td>\n",
       "      <td>The ticket is very clear. The issue is that th...</td>\n",
       "      <td>0.0</td>\n",
       "      <td>The tests are testing all the relational possi...</td>\n",
       "      <td>0.0</td>\n",
       "      <td>NaN</td>\n",
       "      <td>15 min - 1 hour</td>\n",
       "      <td>7</td>\n",
       "      <td>7</td>\n",
       "      <td>7</td>\n",
       "      <td>[7, 10]</td>\n",
       "      <td>majority</td>\n",
       "      <td>False</td>\n",
       "    </tr>\n",
       "    <tr>\n",
       "      <th>1697</th>\n",
       "      <td>sympy__sympy-24723</td>\n",
       "      <td>1.0</td>\n",
       "      <td>Sympy is returning the wrong constant in the P...</td>\n",
       "      <td>0.0</td>\n",
       "      <td>The test confirms the result of the formula is...</td>\n",
       "      <td>0.0</td>\n",
       "      <td>NaN</td>\n",
       "      <td>&lt;15 min fix</td>\n",
       "      <td>59</td>\n",
       "      <td>78</td>\n",
       "      <td>78</td>\n",
       "      <td>[78, 59, 72]</td>\n",
       "      <td>majority</td>\n",
       "      <td>False</td>\n",
       "    </tr>\n",
       "  </tbody>\n",
       "</table>\n",
       "<p>539 rows × 14 columns</p>\n",
       "</div>"
      ]
     },
     "execution_count": 9,
     "metadata": {},
     "output_type": "execute_result"
    }
   ],
   "execution_count": 9
  },
  {
   "metadata": {},
   "cell_type": "markdown",
   "source": "We note that of the samples that 539 samples remain. That means there are still 39 more than ended up in the final SWE-Bench. The authors state that they attempt to maximize the amount of difficult samples present and then randomly sample the rest. Thus we will need to use external `instance_id` from the actual dataset to get the annotation data for the dataset.",
   "id": "43a285bf54e7195"
  },
  {
   "metadata": {
    "ExecuteTime": {
     "end_time": "2024-11-12T10:05:17.027389Z",
     "start_time": "2024-11-12T10:05:17.024914Z"
    }
   },
   "cell_type": "code",
   "source": "swe_verified_tasks = open('conf/swe_verified_tasks.txt', mode='r').read().splitlines()",
   "id": "ec4ca9d2c698c2f4",
   "outputs": [],
   "execution_count": 10
  },
  {
   "metadata": {
    "ExecuteTime": {
     "end_time": "2024-11-12T10:05:17.071609Z",
     "start_time": "2024-11-12T10:05:17.069259Z"
    }
   },
   "cell_type": "code",
   "source": "ensembled_annotation_data = ensembled_annotation_data[ensembled_annotation_data['instance_id'].isin(swe_verified_tasks)]",
   "id": "53caa05539fd45c4",
   "outputs": [],
   "execution_count": 11
  },
  {
   "metadata": {
    "ExecuteTime": {
     "end_time": "2024-11-12T10:05:17.117830Z",
     "start_time": "2024-11-12T10:05:17.112710Z"
    }
   },
   "cell_type": "code",
   "source": "ensembled_annotation_data[['instance_id','underspecified','false_negative', 'difficulty','other_major_issues']]",
   "id": "28f9fdcae0e07098",
   "outputs": [
    {
     "data": {
      "text/plain": [
       "                 instance_id  underspecified  false_negative       difficulty  \\\n",
       "6     astropy__astropy-12907             1.0             0.0  15 min - 1 hour   \n",
       "9     astropy__astropy-13033             1.0             1.0  15 min - 1 hour   \n",
       "15    astropy__astropy-13236             1.0             0.0  15 min - 1 hour   \n",
       "18    astropy__astropy-13398             0.0             0.0        1-4 hours   \n",
       "20    astropy__astropy-13453             0.0             0.0  15 min - 1 hour   \n",
       "...                      ...             ...             ...              ...   \n",
       "1688      sympy__sympy-24213             1.0             0.0  15 min - 1 hour   \n",
       "1692      sympy__sympy-24443             1.0             0.0  15 min - 1 hour   \n",
       "1694      sympy__sympy-24539             0.0             1.0      <15 min fix   \n",
       "1695      sympy__sympy-24562             0.0             0.0      <15 min fix   \n",
       "1696      sympy__sympy-24661             0.0             0.0  15 min - 1 hour   \n",
       "\n",
       "      other_major_issues  \n",
       "6                    0.0  \n",
       "9                    0.0  \n",
       "15                   0.0  \n",
       "18                   0.0  \n",
       "20                   0.0  \n",
       "...                  ...  \n",
       "1688                 0.0  \n",
       "1692                 0.0  \n",
       "1694                 0.0  \n",
       "1695                 0.0  \n",
       "1696                 0.0  \n",
       "\n",
       "[500 rows x 5 columns]"
      ],
      "text/html": [
       "<div>\n",
       "<style scoped>\n",
       "    .dataframe tbody tr th:only-of-type {\n",
       "        vertical-align: middle;\n",
       "    }\n",
       "\n",
       "    .dataframe tbody tr th {\n",
       "        vertical-align: top;\n",
       "    }\n",
       "\n",
       "    .dataframe thead th {\n",
       "        text-align: right;\n",
       "    }\n",
       "</style>\n",
       "<table border=\"1\" class=\"dataframe\">\n",
       "  <thead>\n",
       "    <tr style=\"text-align: right;\">\n",
       "      <th></th>\n",
       "      <th>instance_id</th>\n",
       "      <th>underspecified</th>\n",
       "      <th>false_negative</th>\n",
       "      <th>difficulty</th>\n",
       "      <th>other_major_issues</th>\n",
       "    </tr>\n",
       "  </thead>\n",
       "  <tbody>\n",
       "    <tr>\n",
       "      <th>6</th>\n",
       "      <td>astropy__astropy-12907</td>\n",
       "      <td>1.0</td>\n",
       "      <td>0.0</td>\n",
       "      <td>15 min - 1 hour</td>\n",
       "      <td>0.0</td>\n",
       "    </tr>\n",
       "    <tr>\n",
       "      <th>9</th>\n",
       "      <td>astropy__astropy-13033</td>\n",
       "      <td>1.0</td>\n",
       "      <td>1.0</td>\n",
       "      <td>15 min - 1 hour</td>\n",
       "      <td>0.0</td>\n",
       "    </tr>\n",
       "    <tr>\n",
       "      <th>15</th>\n",
       "      <td>astropy__astropy-13236</td>\n",
       "      <td>1.0</td>\n",
       "      <td>0.0</td>\n",
       "      <td>15 min - 1 hour</td>\n",
       "      <td>0.0</td>\n",
       "    </tr>\n",
       "    <tr>\n",
       "      <th>18</th>\n",
       "      <td>astropy__astropy-13398</td>\n",
       "      <td>0.0</td>\n",
       "      <td>0.0</td>\n",
       "      <td>1-4 hours</td>\n",
       "      <td>0.0</td>\n",
       "    </tr>\n",
       "    <tr>\n",
       "      <th>20</th>\n",
       "      <td>astropy__astropy-13453</td>\n",
       "      <td>0.0</td>\n",
       "      <td>0.0</td>\n",
       "      <td>15 min - 1 hour</td>\n",
       "      <td>0.0</td>\n",
       "    </tr>\n",
       "    <tr>\n",
       "      <th>...</th>\n",
       "      <td>...</td>\n",
       "      <td>...</td>\n",
       "      <td>...</td>\n",
       "      <td>...</td>\n",
       "      <td>...</td>\n",
       "    </tr>\n",
       "    <tr>\n",
       "      <th>1688</th>\n",
       "      <td>sympy__sympy-24213</td>\n",
       "      <td>1.0</td>\n",
       "      <td>0.0</td>\n",
       "      <td>15 min - 1 hour</td>\n",
       "      <td>0.0</td>\n",
       "    </tr>\n",
       "    <tr>\n",
       "      <th>1692</th>\n",
       "      <td>sympy__sympy-24443</td>\n",
       "      <td>1.0</td>\n",
       "      <td>0.0</td>\n",
       "      <td>15 min - 1 hour</td>\n",
       "      <td>0.0</td>\n",
       "    </tr>\n",
       "    <tr>\n",
       "      <th>1694</th>\n",
       "      <td>sympy__sympy-24539</td>\n",
       "      <td>0.0</td>\n",
       "      <td>1.0</td>\n",
       "      <td>&lt;15 min fix</td>\n",
       "      <td>0.0</td>\n",
       "    </tr>\n",
       "    <tr>\n",
       "      <th>1695</th>\n",
       "      <td>sympy__sympy-24562</td>\n",
       "      <td>0.0</td>\n",
       "      <td>0.0</td>\n",
       "      <td>&lt;15 min fix</td>\n",
       "      <td>0.0</td>\n",
       "    </tr>\n",
       "    <tr>\n",
       "      <th>1696</th>\n",
       "      <td>sympy__sympy-24661</td>\n",
       "      <td>0.0</td>\n",
       "      <td>0.0</td>\n",
       "      <td>15 min - 1 hour</td>\n",
       "      <td>0.0</td>\n",
       "    </tr>\n",
       "  </tbody>\n",
       "</table>\n",
       "<p>500 rows × 5 columns</p>\n",
       "</div>"
      ]
     },
     "execution_count": 12,
     "metadata": {},
     "output_type": "execute_result"
    }
   ],
   "execution_count": 12
  },
  {
   "metadata": {},
   "cell_type": "markdown",
   "source": "## Explore annotation data for SWE-Bench Verified samples",
   "id": "b76e48a3c42f1d8"
  },
  {
   "metadata": {},
   "cell_type": "markdown",
   "source": [
    "## Collect resolution metadata\n",
    "\n",
    "We want to know which samples were solved by how many approaches and by which, we can take this into account when deciding how we construct the train-test splits."
   ],
   "id": "3067ff4a92f079b3"
  },
  {
   "metadata": {
    "ExecuteTime": {
     "end_time": "2024-11-12T10:05:17.177674Z",
     "start_time": "2024-11-12T10:05:17.175543Z"
    }
   },
   "cell_type": "code",
   "source": [
    "path_to_coding_dir = '/'.join(os.getcwd().split('/')[0:-1])\n",
    "path_to_swe_bench_verified_experiments = 'overall-swe-bench-leaderboard-data/evaluation/verified'\n",
    "swe_bench_verified_resolution_data = []"
   ],
   "id": "4e9fcf779106ab57",
   "outputs": [],
   "execution_count": 13
  },
  {
   "metadata": {
    "ExecuteTime": {
     "end_time": "2024-11-12T10:05:17.259912Z",
     "start_time": "2024-11-12T10:05:17.257843Z"
    }
   },
   "cell_type": "code",
   "source": [
    "for instance in swe_verified_tasks:\n",
    "    swe_bench_verified_resolution_data.append({'instance_id': instance, 'was_resolved': False, 'times_solved': 0, 'solved_by': [], 'unsolved_by': []})"
   ],
   "id": "c20a044d3433d265",
   "outputs": [],
   "execution_count": 14
  },
  {
   "metadata": {
    "ExecuteTime": {
     "end_time": "2024-11-12T10:05:17.302246Z",
     "start_time": "2024-11-12T10:05:17.299979Z"
    }
   },
   "cell_type": "code",
   "source": "swe_bench_verified_resolution_data = pd.DataFrame(swe_bench_verified_resolution_data)",
   "id": "140a15151e003c66",
   "outputs": [],
   "execution_count": 15
  },
  {
   "metadata": {
    "ExecuteTime": {
     "end_time": "2024-11-12T10:05:17.507676Z",
     "start_time": "2024-11-12T10:05:17.462041Z"
    }
   },
   "cell_type": "code",
   "source": [
    "for dirpath, dirnames, filenames in os.walk(path_to_swe_bench_verified_experiments):\n",
    "    if 'results' in dirpath:\n",
    "        # We are in the deepest subdirectory for this approach, the results are located here\n",
    "        approach_slug = dirpath.split('/')[-2]\n",
    "        \n",
    "        with open(os.path.join(dirpath, 'results.json'), 'r') as f:\n",
    "            results = json.loads(f.read())\n",
    "            resolved_instances = results['resolved']\n",
    "            swe_bench_verified_resolution_data.loc[swe_bench_verified_resolution_data['instance_id'].isin(resolved_instances), 'was_resolved'] = True\n",
    "            swe_bench_verified_resolution_data.loc[swe_bench_verified_resolution_data['instance_id'].isin(resolved_instances), 'times_solved'] += 1\n",
    "            swe_bench_verified_resolution_data.loc[swe_bench_verified_resolution_data['instance_id'].isin(resolved_instances), 'solved_by'].apply(lambda x: x.append(approach_slug))\n",
    "            swe_bench_verified_resolution_data.loc[~swe_bench_verified_resolution_data['instance_id'].isin(resolved_instances), 'unsolved_by'].apply(lambda x: x.append(approach_slug))"
   ],
   "id": "c4a6c9c3efa76741",
   "outputs": [],
   "execution_count": 16
  },
  {
   "metadata": {},
   "cell_type": "markdown",
   "source": "## Explore results and develop dataset splitting procedure",
   "id": "a2255dc61f53c1e8"
  },
  {
   "metadata": {
    "ExecuteTime": {
     "end_time": "2024-11-12T10:06:37.305420Z",
     "start_time": "2024-11-12T10:06:37.303358Z"
    }
   },
   "cell_type": "code",
   "source": "swe_bench_verified_resolution_data = pd.DataFrame(swe_bench_verified_resolution_data)",
   "id": "5d887e6fde00c384",
   "outputs": [],
   "execution_count": 18
  },
  {
   "metadata": {
    "ExecuteTime": {
     "end_time": "2024-11-12T10:06:37.886674Z",
     "start_time": "2024-11-12T10:06:37.883831Z"
    }
   },
   "cell_type": "code",
   "source": "swe_bench_verified_resolution_data.was_resolved.value_counts()",
   "id": "759c9d9311d06169",
   "outputs": [
    {
     "data": {
      "text/plain": [
       "was_resolved\n",
       "True     390\n",
       "False    110\n",
       "Name: count, dtype: int64"
      ]
     },
     "execution_count": 19,
     "metadata": {},
     "output_type": "execute_result"
    }
   ],
   "execution_count": 19
  },
  {
   "metadata": {
    "ExecuteTime": {
     "end_time": "2024-11-12T10:06:38.301086Z",
     "start_time": "2024-11-12T10:06:38.297948Z"
    }
   },
   "cell_type": "code",
   "source": "swe_bench_verified_resolution_data.times_solved.value_counts()",
   "id": "19f8f4e25f3f3021",
   "outputs": [
    {
     "data": {
      "text/plain": [
       "times_solved\n",
       "0     110\n",
       "1      31\n",
       "2      28\n",
       "4      25\n",
       "3      18\n",
       "21     16\n",
       "7      15\n",
       "27     15\n",
       "14     14\n",
       "15     14\n",
       "5      13\n",
       "10     13\n",
       "17     12\n",
       "18     12\n",
       "8      12\n",
       "6      12\n",
       "19     12\n",
       "26     11\n",
       "12     11\n",
       "13     11\n",
       "23     10\n",
       "30      9\n",
       "31      9\n",
       "28      9\n",
       "22      8\n",
       "11      8\n",
       "29      7\n",
       "25      7\n",
       "20      7\n",
       "16      7\n",
       "24      6\n",
       "9       6\n",
       "32      2\n",
       "Name: count, dtype: int64"
      ]
     },
     "execution_count": 20,
     "metadata": {},
     "output_type": "execute_result"
    }
   ],
   "execution_count": 20
  },
  {
   "metadata": {
    "ExecuteTime": {
     "end_time": "2024-11-12T10:06:39.923815Z",
     "start_time": "2024-11-12T10:06:39.908266Z"
    }
   },
   "cell_type": "code",
   "source": "swe_bench_verified_resolution_data[swe_bench_verified_resolution_data['times_solved'] == 1]",
   "id": "c8615fea507de99",
   "outputs": [
    {
     "data": {
      "text/plain": [
       "                          instance_id  was_resolved  times_solved  \\\n",
       "2              astropy__astropy-13236          True             1   \n",
       "11             astropy__astropy-14369          True             1   \n",
       "14             astropy__astropy-14598          True             1   \n",
       "45               django__django-11299          True             1   \n",
       "77               django__django-12273          True             1   \n",
       "89               django__django-12774          True             1   \n",
       "98               django__django-13112          True             1   \n",
       "112              django__django-13406          True             1   \n",
       "175              django__django-15037          True             1   \n",
       "202              django__django-15695          True             1   \n",
       "204              django__django-15732          True             1   \n",
       "209              django__django-15916          True             1   \n",
       "232              django__django-16560          True             1   \n",
       "246              django__django-16938          True             1   \n",
       "254      matplotlib__matplotlib-14623          True             1   \n",
       "263      matplotlib__matplotlib-23299          True             1   \n",
       "266      matplotlib__matplotlib-23476          True             1   \n",
       "287             mwaskom__seaborn-3069          True             1   \n",
       "305               pydata__xarray-4094          True             1   \n",
       "309               pydata__xarray-4695          True             1   \n",
       "329           pylint-dev__pylint-8898          True             1   \n",
       "375  scikit-learn__scikit-learn-25747          True             1   \n",
       "381          sphinx-doc__sphinx-10323          True             1   \n",
       "397           sphinx-doc__sphinx-7985          True             1   \n",
       "407           sphinx-doc__sphinx-8593          True             1   \n",
       "413           sphinx-doc__sphinx-9230          True             1   \n",
       "414           sphinx-doc__sphinx-9258          True             1   \n",
       "435                sympy__sympy-13615          True             1   \n",
       "438                sympy__sympy-13798          True             1   \n",
       "442                sympy__sympy-13974          True             1   \n",
       "468                sympy__sympy-19040          True             1   \n",
       "\n",
       "                                            solved_by  \\\n",
       "2                                      [20240824_gru]   \n",
       "11   [20241029_OpenHands-CodeAct-2.1-sonnet-20241022]   \n",
       "14   [20241029_OpenHands-CodeAct-2.1-sonnet-20241022]   \n",
       "45                         [20241025_composio_swekit]   \n",
       "77                         [20241025_composio_swekit]   \n",
       "89                                     [20240824_gru]   \n",
       "98         [20241022_tools_claude-3-5-sonnet-updated]   \n",
       "112  [20241029_OpenHands-CodeAct-2.1-sonnet-20241022]   \n",
       "175                 [20241022_tools_claude-3-5-haiku]   \n",
       "202                               [20241023_emergent]   \n",
       "204                               [20241023_emergent]   \n",
       "209  [20241029_OpenHands-CodeAct-2.1-sonnet-20241022]   \n",
       "232                 [20241022_tools_claude-3-5-haiku]   \n",
       "246                               [20241023_emergent]   \n",
       "254                                 [20240920_solver]   \n",
       "263  [20240721_amazon-q-developer-agent-20240719-dev]   \n",
       "266                                 [20241028_solver]   \n",
       "287                                 [20240924_solver]   \n",
       "305  [20241029_OpenHands-CodeAct-2.1-sonnet-20241022]   \n",
       "309        [20241022_tools_claude-3-5-sonnet-updated]   \n",
       "329          [20241029_epam-ai-run-claude-3-5-sonnet]   \n",
       "375                        [20241025_composio_swekit]   \n",
       "381                                    [20240824_gru]   \n",
       "397        [20241022_tools_claude-3-5-sonnet-updated]   \n",
       "407  [20241029_OpenHands-CodeAct-2.1-sonnet-20241022]   \n",
       "413  [20241029_OpenHands-CodeAct-2.1-sonnet-20241022]   \n",
       "414  [20241029_OpenHands-CodeAct-2.1-sonnet-20241022]   \n",
       "435                              [20240820_honeycomb]   \n",
       "438                          [20240402_sweagent_gpt4]   \n",
       "442                     [20240617_factory_code_droid]   \n",
       "468                    [20241028_agentless-1.5_gpt4o]   \n",
       "\n",
       "                                           unsolved_by  \n",
       "2    [20240721_amazon-q-developer-agent-20240719-de...  \n",
       "11   [20240721_amazon-q-developer-agent-20240719-de...  \n",
       "14   [20240721_amazon-q-developer-agent-20240719-de...  \n",
       "45   [20240721_amazon-q-developer-agent-20240719-de...  \n",
       "77   [20240721_amazon-q-developer-agent-20240719-de...  \n",
       "89   [20240721_amazon-q-developer-agent-20240719-de...  \n",
       "98   [20240721_amazon-q-developer-agent-20240719-de...  \n",
       "112  [20240721_amazon-q-developer-agent-20240719-de...  \n",
       "175  [20240721_amazon-q-developer-agent-20240719-de...  \n",
       "202  [20240721_amazon-q-developer-agent-20240719-de...  \n",
       "204  [20240721_amazon-q-developer-agent-20240719-de...  \n",
       "209  [20240721_amazon-q-developer-agent-20240719-de...  \n",
       "232  [20240721_amazon-q-developer-agent-20240719-de...  \n",
       "246  [20240721_amazon-q-developer-agent-20240719-de...  \n",
       "254  [20240721_amazon-q-developer-agent-20240719-de...  \n",
       "263  [20240615_appmap-navie_gpt4o, 20240509_amazon-...  \n",
       "266  [20240721_amazon-q-developer-agent-20240719-de...  \n",
       "287  [20240721_amazon-q-developer-agent-20240719-de...  \n",
       "305  [20240721_amazon-q-developer-agent-20240719-de...  \n",
       "309  [20240721_amazon-q-developer-agent-20240719-de...  \n",
       "329  [20240721_amazon-q-developer-agent-20240719-de...  \n",
       "375  [20240721_amazon-q-developer-agent-20240719-de...  \n",
       "381  [20240721_amazon-q-developer-agent-20240719-de...  \n",
       "397  [20240721_amazon-q-developer-agent-20240719-de...  \n",
       "407  [20240721_amazon-q-developer-agent-20240719-de...  \n",
       "413  [20240721_amazon-q-developer-agent-20240719-de...  \n",
       "414  [20240721_amazon-q-developer-agent-20240719-de...  \n",
       "435  [20240721_amazon-q-developer-agent-20240719-de...  \n",
       "438  [20240721_amazon-q-developer-agent-20240719-de...  \n",
       "442  [20240721_amazon-q-developer-agent-20240719-de...  \n",
       "468  [20240721_amazon-q-developer-agent-20240719-de...  "
      ],
      "text/html": [
       "<div>\n",
       "<style scoped>\n",
       "    .dataframe tbody tr th:only-of-type {\n",
       "        vertical-align: middle;\n",
       "    }\n",
       "\n",
       "    .dataframe tbody tr th {\n",
       "        vertical-align: top;\n",
       "    }\n",
       "\n",
       "    .dataframe thead th {\n",
       "        text-align: right;\n",
       "    }\n",
       "</style>\n",
       "<table border=\"1\" class=\"dataframe\">\n",
       "  <thead>\n",
       "    <tr style=\"text-align: right;\">\n",
       "      <th></th>\n",
       "      <th>instance_id</th>\n",
       "      <th>was_resolved</th>\n",
       "      <th>times_solved</th>\n",
       "      <th>solved_by</th>\n",
       "      <th>unsolved_by</th>\n",
       "    </tr>\n",
       "  </thead>\n",
       "  <tbody>\n",
       "    <tr>\n",
       "      <th>2</th>\n",
       "      <td>astropy__astropy-13236</td>\n",
       "      <td>True</td>\n",
       "      <td>1</td>\n",
       "      <td>[20240824_gru]</td>\n",
       "      <td>[20240721_amazon-q-developer-agent-20240719-de...</td>\n",
       "    </tr>\n",
       "    <tr>\n",
       "      <th>11</th>\n",
       "      <td>astropy__astropy-14369</td>\n",
       "      <td>True</td>\n",
       "      <td>1</td>\n",
       "      <td>[20241029_OpenHands-CodeAct-2.1-sonnet-20241022]</td>\n",
       "      <td>[20240721_amazon-q-developer-agent-20240719-de...</td>\n",
       "    </tr>\n",
       "    <tr>\n",
       "      <th>14</th>\n",
       "      <td>astropy__astropy-14598</td>\n",
       "      <td>True</td>\n",
       "      <td>1</td>\n",
       "      <td>[20241029_OpenHands-CodeAct-2.1-sonnet-20241022]</td>\n",
       "      <td>[20240721_amazon-q-developer-agent-20240719-de...</td>\n",
       "    </tr>\n",
       "    <tr>\n",
       "      <th>45</th>\n",
       "      <td>django__django-11299</td>\n",
       "      <td>True</td>\n",
       "      <td>1</td>\n",
       "      <td>[20241025_composio_swekit]</td>\n",
       "      <td>[20240721_amazon-q-developer-agent-20240719-de...</td>\n",
       "    </tr>\n",
       "    <tr>\n",
       "      <th>77</th>\n",
       "      <td>django__django-12273</td>\n",
       "      <td>True</td>\n",
       "      <td>1</td>\n",
       "      <td>[20241025_composio_swekit]</td>\n",
       "      <td>[20240721_amazon-q-developer-agent-20240719-de...</td>\n",
       "    </tr>\n",
       "    <tr>\n",
       "      <th>89</th>\n",
       "      <td>django__django-12774</td>\n",
       "      <td>True</td>\n",
       "      <td>1</td>\n",
       "      <td>[20240824_gru]</td>\n",
       "      <td>[20240721_amazon-q-developer-agent-20240719-de...</td>\n",
       "    </tr>\n",
       "    <tr>\n",
       "      <th>98</th>\n",
       "      <td>django__django-13112</td>\n",
       "      <td>True</td>\n",
       "      <td>1</td>\n",
       "      <td>[20241022_tools_claude-3-5-sonnet-updated]</td>\n",
       "      <td>[20240721_amazon-q-developer-agent-20240719-de...</td>\n",
       "    </tr>\n",
       "    <tr>\n",
       "      <th>112</th>\n",
       "      <td>django__django-13406</td>\n",
       "      <td>True</td>\n",
       "      <td>1</td>\n",
       "      <td>[20241029_OpenHands-CodeAct-2.1-sonnet-20241022]</td>\n",
       "      <td>[20240721_amazon-q-developer-agent-20240719-de...</td>\n",
       "    </tr>\n",
       "    <tr>\n",
       "      <th>175</th>\n",
       "      <td>django__django-15037</td>\n",
       "      <td>True</td>\n",
       "      <td>1</td>\n",
       "      <td>[20241022_tools_claude-3-5-haiku]</td>\n",
       "      <td>[20240721_amazon-q-developer-agent-20240719-de...</td>\n",
       "    </tr>\n",
       "    <tr>\n",
       "      <th>202</th>\n",
       "      <td>django__django-15695</td>\n",
       "      <td>True</td>\n",
       "      <td>1</td>\n",
       "      <td>[20241023_emergent]</td>\n",
       "      <td>[20240721_amazon-q-developer-agent-20240719-de...</td>\n",
       "    </tr>\n",
       "    <tr>\n",
       "      <th>204</th>\n",
       "      <td>django__django-15732</td>\n",
       "      <td>True</td>\n",
       "      <td>1</td>\n",
       "      <td>[20241023_emergent]</td>\n",
       "      <td>[20240721_amazon-q-developer-agent-20240719-de...</td>\n",
       "    </tr>\n",
       "    <tr>\n",
       "      <th>209</th>\n",
       "      <td>django__django-15916</td>\n",
       "      <td>True</td>\n",
       "      <td>1</td>\n",
       "      <td>[20241029_OpenHands-CodeAct-2.1-sonnet-20241022]</td>\n",
       "      <td>[20240721_amazon-q-developer-agent-20240719-de...</td>\n",
       "    </tr>\n",
       "    <tr>\n",
       "      <th>232</th>\n",
       "      <td>django__django-16560</td>\n",
       "      <td>True</td>\n",
       "      <td>1</td>\n",
       "      <td>[20241022_tools_claude-3-5-haiku]</td>\n",
       "      <td>[20240721_amazon-q-developer-agent-20240719-de...</td>\n",
       "    </tr>\n",
       "    <tr>\n",
       "      <th>246</th>\n",
       "      <td>django__django-16938</td>\n",
       "      <td>True</td>\n",
       "      <td>1</td>\n",
       "      <td>[20241023_emergent]</td>\n",
       "      <td>[20240721_amazon-q-developer-agent-20240719-de...</td>\n",
       "    </tr>\n",
       "    <tr>\n",
       "      <th>254</th>\n",
       "      <td>matplotlib__matplotlib-14623</td>\n",
       "      <td>True</td>\n",
       "      <td>1</td>\n",
       "      <td>[20240920_solver]</td>\n",
       "      <td>[20240721_amazon-q-developer-agent-20240719-de...</td>\n",
       "    </tr>\n",
       "    <tr>\n",
       "      <th>263</th>\n",
       "      <td>matplotlib__matplotlib-23299</td>\n",
       "      <td>True</td>\n",
       "      <td>1</td>\n",
       "      <td>[20240721_amazon-q-developer-agent-20240719-dev]</td>\n",
       "      <td>[20240615_appmap-navie_gpt4o, 20240509_amazon-...</td>\n",
       "    </tr>\n",
       "    <tr>\n",
       "      <th>266</th>\n",
       "      <td>matplotlib__matplotlib-23476</td>\n",
       "      <td>True</td>\n",
       "      <td>1</td>\n",
       "      <td>[20241028_solver]</td>\n",
       "      <td>[20240721_amazon-q-developer-agent-20240719-de...</td>\n",
       "    </tr>\n",
       "    <tr>\n",
       "      <th>287</th>\n",
       "      <td>mwaskom__seaborn-3069</td>\n",
       "      <td>True</td>\n",
       "      <td>1</td>\n",
       "      <td>[20240924_solver]</td>\n",
       "      <td>[20240721_amazon-q-developer-agent-20240719-de...</td>\n",
       "    </tr>\n",
       "    <tr>\n",
       "      <th>305</th>\n",
       "      <td>pydata__xarray-4094</td>\n",
       "      <td>True</td>\n",
       "      <td>1</td>\n",
       "      <td>[20241029_OpenHands-CodeAct-2.1-sonnet-20241022]</td>\n",
       "      <td>[20240721_amazon-q-developer-agent-20240719-de...</td>\n",
       "    </tr>\n",
       "    <tr>\n",
       "      <th>309</th>\n",
       "      <td>pydata__xarray-4695</td>\n",
       "      <td>True</td>\n",
       "      <td>1</td>\n",
       "      <td>[20241022_tools_claude-3-5-sonnet-updated]</td>\n",
       "      <td>[20240721_amazon-q-developer-agent-20240719-de...</td>\n",
       "    </tr>\n",
       "    <tr>\n",
       "      <th>329</th>\n",
       "      <td>pylint-dev__pylint-8898</td>\n",
       "      <td>True</td>\n",
       "      <td>1</td>\n",
       "      <td>[20241029_epam-ai-run-claude-3-5-sonnet]</td>\n",
       "      <td>[20240721_amazon-q-developer-agent-20240719-de...</td>\n",
       "    </tr>\n",
       "    <tr>\n",
       "      <th>375</th>\n",
       "      <td>scikit-learn__scikit-learn-25747</td>\n",
       "      <td>True</td>\n",
       "      <td>1</td>\n",
       "      <td>[20241025_composio_swekit]</td>\n",
       "      <td>[20240721_amazon-q-developer-agent-20240719-de...</td>\n",
       "    </tr>\n",
       "    <tr>\n",
       "      <th>381</th>\n",
       "      <td>sphinx-doc__sphinx-10323</td>\n",
       "      <td>True</td>\n",
       "      <td>1</td>\n",
       "      <td>[20240824_gru]</td>\n",
       "      <td>[20240721_amazon-q-developer-agent-20240719-de...</td>\n",
       "    </tr>\n",
       "    <tr>\n",
       "      <th>397</th>\n",
       "      <td>sphinx-doc__sphinx-7985</td>\n",
       "      <td>True</td>\n",
       "      <td>1</td>\n",
       "      <td>[20241022_tools_claude-3-5-sonnet-updated]</td>\n",
       "      <td>[20240721_amazon-q-developer-agent-20240719-de...</td>\n",
       "    </tr>\n",
       "    <tr>\n",
       "      <th>407</th>\n",
       "      <td>sphinx-doc__sphinx-8593</td>\n",
       "      <td>True</td>\n",
       "      <td>1</td>\n",
       "      <td>[20241029_OpenHands-CodeAct-2.1-sonnet-20241022]</td>\n",
       "      <td>[20240721_amazon-q-developer-agent-20240719-de...</td>\n",
       "    </tr>\n",
       "    <tr>\n",
       "      <th>413</th>\n",
       "      <td>sphinx-doc__sphinx-9230</td>\n",
       "      <td>True</td>\n",
       "      <td>1</td>\n",
       "      <td>[20241029_OpenHands-CodeAct-2.1-sonnet-20241022]</td>\n",
       "      <td>[20240721_amazon-q-developer-agent-20240719-de...</td>\n",
       "    </tr>\n",
       "    <tr>\n",
       "      <th>414</th>\n",
       "      <td>sphinx-doc__sphinx-9258</td>\n",
       "      <td>True</td>\n",
       "      <td>1</td>\n",
       "      <td>[20241029_OpenHands-CodeAct-2.1-sonnet-20241022]</td>\n",
       "      <td>[20240721_amazon-q-developer-agent-20240719-de...</td>\n",
       "    </tr>\n",
       "    <tr>\n",
       "      <th>435</th>\n",
       "      <td>sympy__sympy-13615</td>\n",
       "      <td>True</td>\n",
       "      <td>1</td>\n",
       "      <td>[20240820_honeycomb]</td>\n",
       "      <td>[20240721_amazon-q-developer-agent-20240719-de...</td>\n",
       "    </tr>\n",
       "    <tr>\n",
       "      <th>438</th>\n",
       "      <td>sympy__sympy-13798</td>\n",
       "      <td>True</td>\n",
       "      <td>1</td>\n",
       "      <td>[20240402_sweagent_gpt4]</td>\n",
       "      <td>[20240721_amazon-q-developer-agent-20240719-de...</td>\n",
       "    </tr>\n",
       "    <tr>\n",
       "      <th>442</th>\n",
       "      <td>sympy__sympy-13974</td>\n",
       "      <td>True</td>\n",
       "      <td>1</td>\n",
       "      <td>[20240617_factory_code_droid]</td>\n",
       "      <td>[20240721_amazon-q-developer-agent-20240719-de...</td>\n",
       "    </tr>\n",
       "    <tr>\n",
       "      <th>468</th>\n",
       "      <td>sympy__sympy-19040</td>\n",
       "      <td>True</td>\n",
       "      <td>1</td>\n",
       "      <td>[20241028_agentless-1.5_gpt4o]</td>\n",
       "      <td>[20240721_amazon-q-developer-agent-20240719-de...</td>\n",
       "    </tr>\n",
       "  </tbody>\n",
       "</table>\n",
       "</div>"
      ]
     },
     "execution_count": 21,
     "metadata": {},
     "output_type": "execute_result"
    }
   ],
   "execution_count": 21
  },
  {
   "metadata": {
    "ExecuteTime": {
     "end_time": "2024-11-12T10:06:41.623374Z",
     "start_time": "2024-11-12T10:06:41.619837Z"
    }
   },
   "cell_type": "code",
   "source": "swe_bench_verified = pd.merge(ensembled_annotation_data, swe_bench_verified_resolution_data, on='instance_id', how='inner')",
   "id": "2bfdb4277e4c3685",
   "outputs": [],
   "execution_count": 22
  },
  {
   "metadata": {},
   "cell_type": "markdown",
   "source": "### Are `false_negative` samples empirically more difficult?",
   "id": "b057163611800a69"
  },
  {
   "metadata": {
    "ExecuteTime": {
     "end_time": "2024-11-12T10:06:45.132378Z",
     "start_time": "2024-11-12T10:06:45.128626Z"
    }
   },
   "cell_type": "code",
   "source": "swe_bench_verified['solved_by'].apply(lambda x: len(x) == 0).value_counts()",
   "id": "1fec664b0e225fc6",
   "outputs": [
    {
     "data": {
      "text/plain": [
       "solved_by\n",
       "False    390\n",
       "True     110\n",
       "Name: count, dtype: int64"
      ]
     },
     "execution_count": 23,
     "metadata": {},
     "output_type": "execute_result"
    }
   ],
   "execution_count": 23
  },
  {
   "metadata": {
    "ExecuteTime": {
     "end_time": "2024-11-12T10:06:46.264613Z",
     "start_time": "2024-11-12T10:06:46.261720Z"
    }
   },
   "cell_type": "code",
   "source": "390/500",
   "id": "3d3127547505f316",
   "outputs": [
    {
     "data": {
      "text/plain": [
       "0.78"
      ]
     },
     "execution_count": 24,
     "metadata": {},
     "output_type": "execute_result"
    }
   ],
   "execution_count": 24
  },
  {
   "metadata": {},
   "cell_type": "markdown",
   "source": "A surprising by, product here, is that ~78% of samples in SWE-Bench Verified were solved by at least one system. However, the top resolution rate as of 5.11.24 is OpenHands+CodeAct with 53%. So there is something of a 25% gain just lying around.",
   "id": "3a88cf7e991758f5"
  },
  {
   "metadata": {
    "ExecuteTime": {
     "end_time": "2024-11-12T10:06:47.568639Z",
     "start_time": "2024-11-12T10:06:47.565310Z"
    }
   },
   "cell_type": "code",
   "source": "swe_bench_verified[swe_bench_verified['false_negative'] == 1]['solved_by'].apply(lambda x: len(x) > 0).value_counts()",
   "id": "5f781623df3d6429",
   "outputs": [
    {
     "data": {
      "text/plain": [
       "solved_by\n",
       "True     136\n",
       "False     61\n",
       "Name: count, dtype: int64"
      ]
     },
     "execution_count": 25,
     "metadata": {},
     "output_type": "execute_result"
    }
   ],
   "execution_count": 25
  },
  {
   "metadata": {
    "ExecuteTime": {
     "end_time": "2024-11-12T10:06:49.958266Z",
     "start_time": "2024-11-12T10:06:49.955135Z"
    }
   },
   "cell_type": "code",
   "source": "61/136",
   "id": "64178b39ae0d2964",
   "outputs": [
    {
     "data": {
      "text/plain": [
       "0.4485294117647059"
      ]
     },
     "execution_count": 26,
     "metadata": {},
     "output_type": "execute_result"
    }
   ],
   "execution_count": 26
  },
  {
   "metadata": {
    "ExecuteTime": {
     "end_time": "2024-11-12T10:06:50.366647Z",
     "start_time": "2024-11-12T10:06:50.363054Z"
    }
   },
   "cell_type": "code",
   "source": "swe_bench_verified[swe_bench_verified['false_negative'] == 0]['solved_by'].apply(lambda x: len(x) > 0).value_counts()",
   "id": "ca9687443d190ea2",
   "outputs": [
    {
     "data": {
      "text/plain": [
       "solved_by\n",
       "True     254\n",
       "False     49\n",
       "Name: count, dtype: int64"
      ]
     },
     "execution_count": 27,
     "metadata": {},
     "output_type": "execute_result"
    }
   ],
   "execution_count": 27
  },
  {
   "metadata": {
    "ExecuteTime": {
     "end_time": "2024-11-12T10:06:50.715854Z",
     "start_time": "2024-11-12T10:06:50.713744Z"
    }
   },
   "cell_type": "code",
   "source": "49/254",
   "id": "d15a6470226002ee",
   "outputs": [
    {
     "data": {
      "text/plain": [
       "0.19291338582677164"
      ]
     },
     "execution_count": 28,
     "metadata": {},
     "output_type": "execute_result"
    }
   ],
   "execution_count": 28
  },
  {
   "metadata": {},
   "cell_type": "markdown",
   "source": "It does seem like samples that have well-specified tests that cover every possible solution are ~25% points more likely to be correctly resolved. To ensure this isnt confounded by difficulty, let's also correct for this.",
   "id": "99b605bd12231e49"
  },
  {
   "metadata": {
    "ExecuteTime": {
     "end_time": "2024-11-12T10:06:51.591170Z",
     "start_time": "2024-11-12T10:06:51.583148Z"
    }
   },
   "cell_type": "code",
   "source": [
    "for difficulty_level in swe_bench_verified.difficulty.unique():\n",
    "    value_counts_for_well_specified_tests = swe_bench_verified[(swe_bench_verified['false_negative'] == 0) & (swe_bench_verified['difficulty'] == difficulty_level)]['solved_by'].apply(lambda x: len(x) > 0).value_counts()\n",
    "    \n",
    "    value_counts_for_ambiguous_tests = swe_bench_verified[(swe_bench_verified['false_negative'] == 1) & (swe_bench_verified['difficulty'] == difficulty_level)]['solved_by'].apply(lambda x: len(x) > 0).value_counts()\n",
    "    \n",
    "    ratio_well_defined = 'N/A' if len(value_counts_for_well_specified_tests) == 0 else round(value_counts_for_well_specified_tests.iloc[1]/value_counts_for_well_specified_tests.iloc[0], 2)\n",
    "    ratio_ambiguous = 'N/A' if len(value_counts_for_ambiguous_tests) == 0 else round(value_counts_for_ambiguous_tests.iloc[1]/value_counts_for_ambiguous_tests.iloc[0], 2)\n",
    "    \n",
    "    print(f'For difficulty level \"{difficulty_level} and {len(swe_bench_verified[swe_bench_verified[\"difficulty\"] == difficulty_level])} samples within this category:\"\\n'\n",
    "          f'\\tfor well-specified tests (false_negative == 0) the ratio of unresolved to resolved samples is: {ratio_well_defined}\"\\n'\n",
    "          f'\\tfor ambiguous tests (false_negative == 1) the ratio of unresolved to resolved samples is: {ratio_ambiguous}\"\\n\\n')"
   ],
   "id": "c9e5cec92eb20696",
   "outputs": [
    {
     "name": "stdout",
     "output_type": "stream",
     "text": [
      "For difficulty level \"15 min - 1 hour and 261 samples within this category:\"\n",
      "\tfor well-specified tests (false_negative == 0) the ratio of unresolved to resolved samples is: 0.24\"\n",
      "\tfor ambiguous tests (false_negative == 1) the ratio of unresolved to resolved samples is: 0.44\"\n",
      "\n",
      "\n",
      "For difficulty level \"1-4 hours and 42 samples within this category:\"\n",
      "\tfor well-specified tests (false_negative == 0) the ratio of unresolved to resolved samples is: 0.38\"\n",
      "\tfor ambiguous tests (false_negative == 1) the ratio of unresolved to resolved samples is: 0.55\"\n",
      "\n",
      "\n",
      "For difficulty level \"<15 min fix and 194 samples within this category:\"\n",
      "\tfor well-specified tests (false_negative == 0) the ratio of unresolved to resolved samples is: 0.08\"\n",
      "\tfor ambiguous tests (false_negative == 1) the ratio of unresolved to resolved samples is: 0.13\"\n",
      "\n",
      "\n",
      "For difficulty level \">4 hours and 3 samples within this category:\"\n",
      "\tfor well-specified tests (false_negative == 0) the ratio of unresolved to resolved samples is: 0.5\"\n",
      "\tfor ambiguous tests (false_negative == 1) the ratio of unresolved to resolved samples is: N/A\"\n",
      "\n",
      "\n"
     ]
    }
   ],
   "execution_count": 29
  },
  {
   "metadata": {},
   "cell_type": "markdown",
   "source": "Let's see if the effect of the test ambiguity on sample resolution rate is statistically significant.",
   "id": "c2631bad40614b7"
  },
  {
   "metadata": {
    "ExecuteTime": {
     "end_time": "2024-11-12T10:06:52.786415Z",
     "start_time": "2024-11-12T10:06:52.783700Z"
    }
   },
   "cell_type": "code",
   "source": "chi2_contingency(np.array([[254, 49], [136, 61]]))",
   "id": "7c40af50713a098a",
   "outputs": [
    {
     "data": {
      "text/plain": [
       "Chi2ContingencyResult(statistic=np.float64(14.374026235110815), pvalue=np.float64(0.00014985518751667933), dof=1, expected_freq=array([[236.34,  66.66],\n",
       "       [153.66,  43.34]]))"
      ]
     },
     "execution_count": 30,
     "metadata": {},
     "output_type": "execute_result"
    }
   ],
   "execution_count": 30
  },
  {
   "metadata": {},
   "cell_type": "markdown",
   "source": "Thus our findings are significant at alpha=0.01 and we will include this feature in our considerations for re-shuffling data.",
   "id": "f5482bcd196bc2d6"
  },
  {
   "metadata": {},
   "cell_type": "markdown",
   "source": "### Does `difficulty` in samples impact resolution rate?",
   "id": "9e954425997b3d93"
  },
  {
   "metadata": {
    "ExecuteTime": {
     "end_time": "2024-11-12T10:06:54.411095Z",
     "start_time": "2024-11-12T10:06:54.405377Z"
    }
   },
   "cell_type": "code",
   "source": [
    "f_observed = []\n",
    "for difficulty_level in swe_bench_verified.difficulty.unique():\n",
    "    value_counts = swe_bench_verified[swe_bench_verified['difficulty'] == difficulty_level]['solved_by'].apply(lambda x: len(x) > 0).value_counts()\n",
    "    f_observed.append([value_counts.iloc[0], value_counts.iloc[1]])\n",
    "    \n",
    "f_observed = np.array(f_observed)\n",
    "chi2_contingency(f_observed)"
   ],
   "id": "29d60f1626c40e25",
   "outputs": [
    {
     "data": {
      "text/plain": [
       "Chi2ContingencyResult(statistic=np.float64(23.694524193460836), pvalue=np.float64(2.893023073317954e-05), dof=3, expected_freq=array([[211.41,  49.59],\n",
       "       [ 34.02,   7.98],\n",
       "       [157.14,  36.86],\n",
       "       [  2.43,   0.57]]))"
      ]
     },
     "execution_count": 31,
     "metadata": {},
     "output_type": "execute_result"
    }
   ],
   "execution_count": 31
  },
  {
   "metadata": {},
   "cell_type": "markdown",
   "source": "This is also statistically significant at alpha=0.01.",
   "id": "26f3023af56ea15c"
  },
  {
   "metadata": {},
   "cell_type": "markdown",
   "source": "### Are `underspecified` samples empirically more difficult?",
   "id": "7f6a487b0fe5833"
  },
  {
   "metadata": {
    "ExecuteTime": {
     "end_time": "2024-11-12T10:06:57.097552Z",
     "start_time": "2024-11-12T10:06:57.091446Z"
    }
   },
   "cell_type": "code",
   "source": [
    "f_observed = []\n",
    "for difficulty_level in swe_bench_verified.underspecified.unique():\n",
    "    value_counts = swe_bench_verified[swe_bench_verified['underspecified'] == difficulty_level]['solved_by'].apply(lambda x: len(x) > 0).value_counts()\n",
    "    f_observed.append([value_counts.iloc[0], value_counts.iloc[1]])\n",
    "    \n",
    "f_observed = np.array(f_observed)\n",
    "chi2_contingency(f_observed)"
   ],
   "id": "17d7d2bcdfc3c33a",
   "outputs": [
    {
     "data": {
      "text/plain": [
       "Chi2ContingencyResult(statistic=np.float64(0.3822139542840044), pvalue=np.float64(0.5364207407505894), dof=1, expected_freq=array([[204.36,  57.64],\n",
       "       [185.64,  52.36]]))"
      ]
     },
     "execution_count": 32,
     "metadata": {},
     "output_type": "execute_result"
    }
   ],
   "execution_count": 32
  },
  {
   "metadata": {
    "ExecuteTime": {
     "end_time": "2024-11-12T10:06:57.540272Z",
     "start_time": "2024-11-12T10:06:57.536350Z"
    }
   },
   "cell_type": "code",
   "source": "swe_bench_verified[swe_bench_verified['underspecified'] == 1]['solved_by'].apply(lambda x: len(x) > 0).value_counts()",
   "id": "4e3053a0307ddc69",
   "outputs": [
    {
     "data": {
      "text/plain": [
       "solved_by\n",
       "True     201\n",
       "False     61\n",
       "Name: count, dtype: int64"
      ]
     },
     "execution_count": 33,
     "metadata": {},
     "output_type": "execute_result"
    }
   ],
   "execution_count": 33
  },
  {
   "metadata": {
    "ExecuteTime": {
     "end_time": "2024-11-12T10:07:00.459992Z",
     "start_time": "2024-11-12T10:07:00.457272Z"
    }
   },
   "cell_type": "code",
   "source": "61/201",
   "id": "e766e7f6cedce089",
   "outputs": [
    {
     "data": {
      "text/plain": [
       "0.3034825870646766"
      ]
     },
     "execution_count": 34,
     "metadata": {},
     "output_type": "execute_result"
    }
   ],
   "execution_count": 34
  },
  {
   "metadata": {
    "ExecuteTime": {
     "end_time": "2024-11-12T10:07:05.447197Z",
     "start_time": "2024-11-12T10:07:05.442800Z"
    }
   },
   "cell_type": "code",
   "source": "swe_bench_verified[swe_bench_verified['underspecified'] == 0]['solved_by'].apply(lambda x: len(x) > 0).value_counts()",
   "id": "d4205f58026adfe1",
   "outputs": [
    {
     "data": {
      "text/plain": [
       "solved_by\n",
       "True     189\n",
       "False     49\n",
       "Name: count, dtype: int64"
      ]
     },
     "execution_count": 35,
     "metadata": {},
     "output_type": "execute_result"
    }
   ],
   "execution_count": 35
  },
  {
   "metadata": {
    "ExecuteTime": {
     "end_time": "2024-11-12T10:07:06.545380Z",
     "start_time": "2024-11-12T10:07:06.542803Z"
    }
   },
   "cell_type": "code",
   "source": "49/189",
   "id": "81e18fe946a3c388",
   "outputs": [
    {
     "data": {
      "text/plain": [
       "0.25925925925925924"
      ]
     },
     "execution_count": 36,
     "metadata": {},
     "output_type": "execute_result"
    }
   ],
   "execution_count": 36
  },
  {
   "metadata": {},
   "cell_type": "markdown",
   "source": [
    "### Computing `empiric_difficulty` \n",
    "\n",
    "We define empiric difficulty as the inverse ratio of agents that have solved a sample over the amount of agents competing on SWE-Bench. This way samples that were solved by all agents have an `empiric_difficulty` of 0 and unsolved samples have an `empiric_difficulty` of 1."
   ],
   "id": "26ecbdb84a461733"
  },
  {
   "metadata": {
    "ExecuteTime": {
     "end_time": "2024-11-12T10:07:07.751245Z",
     "start_time": "2024-11-12T10:07:07.749220Z"
    }
   },
   "cell_type": "code",
   "source": "number_of_competing_agents = len(swe_bench_verified.loc[0, 'solved_by'] + swe_bench_verified.loc[0, 'unsolved_by'])",
   "id": "a787b1d1ead82c55",
   "outputs": [],
   "execution_count": 37
  },
  {
   "metadata": {
    "ExecuteTime": {
     "end_time": "2024-11-12T10:07:08.391034Z",
     "start_time": "2024-11-12T10:07:08.388744Z"
    }
   },
   "cell_type": "code",
   "source": "swe_bench_verified['empiric_difficulty'] = round(1-(swe_bench_verified['times_solved']/number_of_competing_agents),2) # Round to be able to compare (otherwise trailing float differences make it hard)",
   "id": "4fe2e8e5e48b2942",
   "outputs": [],
   "execution_count": 38
  },
  {
   "metadata": {},
   "cell_type": "markdown",
   "source": "How do `empiric_difficulty` and `difficulty` co-occur?",
   "id": "3292a18ff992e473"
  },
  {
   "metadata": {
    "ExecuteTime": {
     "end_time": "2024-11-12T10:07:09.883004Z",
     "start_time": "2024-11-12T10:07:09.880392Z"
    }
   },
   "cell_type": "code",
   "source": [
    "mapping = {\n",
    "    '<15 min fix': 0,\n",
    "    '15 min - 1 hour': 1,\n",
    "    '1-4 hours': 2,\n",
    "    '>4 hours': 3\n",
    "}\n",
    "swe_bench_verified['difficulty_encoded'] = swe_bench_verified['difficulty'].map(mapping)"
   ],
   "id": "78d0f90c232c33e2",
   "outputs": [],
   "execution_count": 39
  },
  {
   "metadata": {
    "ExecuteTime": {
     "end_time": "2024-11-12T10:07:10.512274Z",
     "start_time": "2024-11-12T10:07:10.508883Z"
    }
   },
   "cell_type": "code",
   "source": "swe_bench_verified['empiric_difficulty'].corr(swe_bench_verified['difficulty_encoded'])",
   "id": "7829c809a4b498d5",
   "outputs": [
    {
     "data": {
      "text/plain": [
       "np.float64(0.44514115819875383)"
      ]
     },
     "execution_count": 40,
     "metadata": {},
     "output_type": "execute_result"
    }
   ],
   "execution_count": 40
  },
  {
   "metadata": {},
   "cell_type": "markdown",
   "source": "We note a moderate correlation between the difficulty rating provided by OpenAI via annotation and the empiric difficulty of the samples based on the resolution rate of systems competing on SWE-Bench Verified.",
   "id": "733d406e543cdb78"
  },
  {
   "metadata": {
    "ExecuteTime": {
     "end_time": "2024-11-12T10:07:15.837440Z",
     "start_time": "2024-11-12T10:07:15.284397Z"
    }
   },
   "cell_type": "code",
   "source": [
    "# Mapping the difficulty levels to numerics\n",
    "if 'difficulty_encoded' not in swe_bench_verified.columns:\n",
    "    swe_bench_verified['difficulty_encoded'] = swe_bench_verified['difficulty'].map(mapping)\n",
    "\n",
    "# Create subplots\n",
    "fig, axes = plt.subplots(nrows=2, ncols=2, figsize=(10, 6))\n",
    "\n",
    "# Titles for the subplots\n",
    "titles = ['<15 min fix', '15 min - 1 hour', '1-4 hours', '>4 hours']\n",
    "\n",
    "# Loop through each difficulty level and plot histogram\n",
    "for idx, ax in enumerate(axes.flat):\n",
    "    difficulty_level = titles[idx]\n",
    "    data = swe_bench_verified[swe_bench_verified['difficulty_encoded'] == idx]['empiric_difficulty']\n",
    "    ax.hist(data, bins=len(swe_bench_verified.empiric_difficulty.unique()), alpha=0.7, color='blue', edgecolor='black', range=[0,1])\n",
    "    ax.set_xticks(np.arange(0, 1.1, 0.1))\n",
    "    ax.set_title(f'Empiric Difficulty Distribution: {difficulty_level}')\n",
    "    ax.set_xlabel('Empiric Difficulty')\n",
    "    ax.set_ylabel('Frequency')\n",
    "\n",
    "plt.tight_layout()\n",
    "plt.savefig('report_resources/empiric_difficulty_distribution.pdf')"
   ],
   "id": "f51eedfdeb1ffc1a",
   "outputs": [
    {
     "data": {
      "text/plain": [
       "<Figure size 1000x600 with 4 Axes>"
      ],
      "image/png": "[encoded data removed]"
     },
     "metadata": {},
     "output_type": "display_data"
    }
   ],
   "execution_count": 41
  },
  {
   "metadata": {},
   "cell_type": "markdown",
   "source": "We also visually observe this, for lower difficulty categories, the distribution is more evenly spread across empiric difficulty levels and for the two most difficulty categories, we exclusively observe unsolved samples or samples that were only solved by few systems.",
   "id": "fefbaf34f010dd69"
  },
  {
   "metadata": {},
   "cell_type": "markdown",
   "source": [
    "## Splitting the dataset\n",
    "For splitting the dataset, we will consider the statistically significantly related features `difficulty` and `false_positive`. Based on these we will perform stratified splitting. We will then use `empiric_difficulty` to validate an even spread of difficulty across the two splits and make adjustments if needed."
   ],
   "id": "17e88652b554ff5"
  },
  {
   "metadata": {
    "ExecuteTime": {
     "end_time": "2024-11-12T10:13:24.975035Z",
     "start_time": "2024-11-12T10:13:24.972180Z"
    }
   },
   "cell_type": "code",
   "source": "swe_bench_verified['difficulty_slugged'] = swe_bench_verified['difficulty'].apply(lambda x: '_'.join(x.split(' ')))",
   "id": "30bb21b20918c952",
   "outputs": [],
   "execution_count": 58
  },
  {
   "metadata": {},
   "cell_type": "markdown",
   "source": "If we include `empiric_difficulty` here already, our classes become too small.",
   "id": "e088d886e0b917d5"
  },
  {
   "metadata": {
    "ExecuteTime": {
     "end_time": "2024-11-12T10:13:25.846598Z",
     "start_time": "2024-11-12T10:13:25.844289Z"
    }
   },
   "cell_type": "code",
   "source": "swe_bench_verified['stratify_column'] = swe_bench_verified['difficulty_slugged'].astype(str) + '_' + swe_bench_verified['false_negative'].astype(str)",
   "id": "633346a37bd81b2a",
   "outputs": [],
   "execution_count": 59
  },
  {
   "metadata": {
    "ExecuteTime": {
     "end_time": "2024-11-12T10:14:02.183288Z",
     "start_time": "2024-11-12T10:14:02.179928Z"
    }
   },
   "cell_type": "code",
   "source": "train_df, test_df = train_test_split(swe_bench_verified, test_size=0.1, stratify=swe_bench_verified['stratify_column'], random_state=42)",
   "id": "dc9258c8b8c1a3ce",
   "outputs": [],
   "execution_count": 65
  },
  {
   "metadata": {
    "ExecuteTime": {
     "end_time": "2024-11-12T10:14:02.852527Z",
     "start_time": "2024-11-12T10:14:02.763871Z"
    }
   },
   "cell_type": "code",
   "source": [
    "def build_stratification_class_deviation_plot(train_df: pd.DataFrame, test_df: pd.DataFrame):    \n",
    "    fig, ax = plt.subplots(figsize=(6, 5))  \n",
    "    \n",
    "    data = train_df.stratify_column.value_counts(normalize=True).sub(test_df.stratify_column.value_counts(normalize=True), fill_value=0) * 100\n",
    "    \n",
    "    colors = ['red' if abs(value) > 2.01 else 'green' for value in data]\n",
    "    \n",
    "    ax.bar(train_df.stratify_column.unique(), data, alpha=0.7, color=colors, edgecolor='black')\n",
    "    ax.set_title('Stratification: Percent Deviation within Classes \\nBetween Train- and Test-Split')\n",
    "    ax.set_xlabel('Stratification Column')\n",
    "    ax.set_ylabel('Deviation in %')\n",
    "    plt.gcf().subplots_adjust(bottom=0.25)\n",
    "    plt.xticks(rotation=45, ha='right')\n",
    "    \n",
    "    return plt\n",
    "plt = build_stratification_class_deviation_plot(train_df, test_df)\n",
    "plt.savefig('report_resources/train_test_difficulty_deviation.pdf')"
   ],
   "id": "a68d15a2e727e5e5",
   "outputs": [
    {
     "data": {
      "text/plain": [
       "<Figure size 600x500 with 1 Axes>"
      ],
      "image/png": "[encoded data removed]"
     },
     "metadata": {},
     "output_type": "display_data"
    }
   ],
   "execution_count": 66
  },
  {
   "metadata": {},
   "cell_type": "markdown",
   "source": [
    "The stratification worked quite well, the deviations are below 1.25% with respect to the stratification classes defined by `stratification_column`. Furthermore, we note that the negative deviations indicate an over representation in the test-split, since we compute the deviation through train - test. We note that the simplest class < 15min quick fix is more prevalent in the train split. As for the hardest classes. For 1-4 hours, we have an over representation of the harder case with underspecified tests. For the easier case, we have a slight over representation in train split. For tasks that were estimated to take the longest by annotators, we have a slight under representation in the test-split. \n",
    "\n",
    "Overall, there is some indication that the difficulty levels across train-test splits are well balance, with the test split seeming to be slightly more difficult. Before we decide whether further adjustments are needed, let's also consult the empiric difficulty distribution."
   ],
   "id": "71ab6f8099fde315"
  },
  {
   "metadata": {
    "ExecuteTime": {
     "end_time": "2024-11-12T10:14:09.895124Z",
     "start_time": "2024-11-12T10:14:09.703164Z"
    }
   },
   "cell_type": "code",
   "source": [
    "def build_empiric_difficulty_deviation_plot(train_df: pd.DataFrame, test_df: pd.DataFrame):\n",
    "    \"\"\"\n",
    "    Plots the percent deviation of empirical difficulty percentages between train and test datasets.\n",
    "\n",
    "    This function calculates the percent deviation of empirical difficulties between the\n",
    "    train and test datasets, and visualizes it as a bar plot. The empirical difficulties are \n",
    "    grouped, and the deviation is color-coded: red for significant deviations and green for \n",
    "    non-significant deviations. The threshold for a significant deviation is set to 2.01%,\n",
    "    we use this instead of 2% to account for floating point inaccuracies.\n",
    "\n",
    "    Args:\n",
    "        train_df (pd.DataFrame): The training dataset containing an 'empiric_difficulty' column.\n",
    "        test_df (pd.DataFrame): The test dataset containing an 'empiric_difficulty' column.\n",
    "\n",
    "    Returns:\n",
    "        plt: The matplotlib.pyplot object containing the bar plot.\n",
    "    \"\"\"\n",
    "    # Removed the incorrect tuple unpacking of plt.figure and set up ax correctly \n",
    "    _, ax = plt.subplots(figsize=(6, 5))  \n",
    "    \n",
    "    # Loop through each difficulty level and plot histogram\n",
    "    data = train_df.empiric_difficulty.value_counts(normalize=True).sub(test_df.empiric_difficulty.value_counts(normalize=True), fill_value=0) * 100\n",
    "    data = data.sort_index()\n",
    "    empiric_difficulty_labels = [str(label) for label in data.index]\n",
    "    \n",
    "    colors = ['red' if abs(value) > 2.01 else 'green' for value in data]\n",
    "    \n",
    "    ax.bar(empiric_difficulty_labels, data, alpha=0.7, color=colors, edgecolor='black')\n",
    "    ax.set_title('Empiric Difficulty: Percent Deviation within Classes \\nBetween Train- and Test-Split')\n",
    "    ax.set_xlabel('Empiric Difficulty')\n",
    "    ax.set_ylabel('Deviation in %')\n",
    "    \n",
    "    plt.axhline(y=2, color='r', linestyle='--')\n",
    "    plt.axhline(y=-2, color='r', linestyle='--')\n",
    "    \n",
    "    plt.xticks(rotation=90)\n",
    "    plt.tight_layout()\n",
    "    return plt\n",
    "\n",
    "plt = build_empiric_difficulty_deviation_plot(train_df, test_df)\n",
    "plt.savefig('report_resources/train_test_empiric_difficulty_deviation.pdf')"
   ],
   "id": "e8bbeb28e667a140",
   "outputs": [
    {
     "data": {
      "text/plain": [
       "<Figure size 600x500 with 1 Axes>"
      ],
      "image/png": "[encoded data removed]"
     },
     "metadata": {},
     "output_type": "display_data"
    }
   ],
   "execution_count": 67
  },
  {
   "metadata": {},
   "cell_type": "markdown",
   "source": "This plot concerns our hunch above, that the test-split is on the more difficult side when compared to the train-split. We have a 4-6% over representation of the empirically most difficult samples (unsolved, or solved by a single system). However, on other difficulty levels the deviations are more well balanced. In line with other agentic works we settle for this slightly harder test-split, to really test the system capabilities and do not re-shuffle samples to ensure that the difficulties of the splits are as close as possible. At the same time however, we also dont further inflate the difficulty of our test-split.",
   "id": "e4def0400970b1c"
  },
  {
   "metadata": {
    "ExecuteTime": {
     "end_time": "2024-11-12T10:23:20.531168Z",
     "start_time": "2024-11-12T10:23:20.526515Z"
    }
   },
   "cell_type": "code",
   "source": "test_df.empiric_difficulty.value_counts()",
   "id": "3777f59945595d5d",
   "outputs": [
    {
     "data": {
      "text/plain": [
       "empiric_difficulty\n",
       "1.00    13\n",
       "0.97     6\n",
       "0.92     3\n",
       "0.94     3\n",
       "0.58     2\n",
       "0.56     2\n",
       "0.89     2\n",
       "0.86     2\n",
       "0.22     1\n",
       "0.47     1\n",
       "0.28     1\n",
       "0.19     1\n",
       "0.69     1\n",
       "0.64     1\n",
       "0.78     1\n",
       "0.67     1\n",
       "0.42     1\n",
       "0.81     1\n",
       "0.72     1\n",
       "0.75     1\n",
       "0.50     1\n",
       "0.17     1\n",
       "0.44     1\n",
       "0.39     1\n",
       "0.83     1\n",
       "Name: count, dtype: int64"
      ]
     },
     "execution_count": 68,
     "metadata": {},
     "output_type": "execute_result"
    }
   ],
   "execution_count": 68
  },
  {
   "metadata": {
    "ExecuteTime": {
     "end_time": "2024-11-12T10:23:56.534344Z",
     "start_time": "2024-11-12T10:23:56.522599Z"
    }
   },
   "cell_type": "code",
   "source": "test_df[['instance_id', 'times_solved','solved_by','difficulty','empiric_difficulty']].sort_values(by='empiric_difficulty', ascending=False)",
   "id": "7f256da0961bdd7b",
   "outputs": [
    {
     "data": {
      "text/plain": [
       "                          instance_id  times_solved  \\\n",
       "170              django__django-14792             0   \n",
       "337           pytest-dev__pytest-5840             0   \n",
       "198              django__django-15563             0   \n",
       "240              django__django-16667             0   \n",
       "338           pytest-dev__pytest-6197             0   \n",
       "286      matplotlib__matplotlib-26466             0   \n",
       "57               django__django-11734             0   \n",
       "498                sympy__sympy-24562             0   \n",
       "47               django__django-11400             0   \n",
       "103              django__django-13212             0   \n",
       "259      matplotlib__matplotlib-21568             0   \n",
       "399           sphinx-doc__sphinx-8056             0   \n",
       "247              django__django-16950             0   \n",
       "309               pydata__xarray-4695             1   \n",
       "254      matplotlib__matplotlib-14623             1   \n",
       "468                sympy__sympy-19040             1   \n",
       "375  scikit-learn__scikit-learn-25747             1   \n",
       "112              django__django-13406             1   \n",
       "77               django__django-12273             1   \n",
       "457                sympy__sympy-16792             2   \n",
       "41               django__django-11239             2   \n",
       "450                sympy__sympy-15599             2   \n",
       "67               django__django-11964             3   \n",
       "99               django__django-13121             3   \n",
       "465                sympy__sympy-18211             3   \n",
       "447                sympy__sympy-15017             4   \n",
       "224              django__django-16315             4   \n",
       "20              astropy__astropy-8707             5   \n",
       "71               django__django-12125             5   \n",
       "312               pydata__xarray-6599             6   \n",
       "290                psf__requests-1142             7   \n",
       "137              django__django-14007             8   \n",
       "459                sympy__sympy-17139             9   \n",
       "69               django__django-12039            10   \n",
       "377  scikit-learn__scikit-learn-25973            11   \n",
       "197              django__django-15561            12   \n",
       "462                sympy__sympy-17655            13   \n",
       "473                sympy__sympy-19954            15   \n",
       "159              django__django-14539            15   \n",
       "384          sphinx-doc__sphinx-10466            16   \n",
       "404           sphinx-doc__sphinx-8475            16   \n",
       "74               django__django-12193            18   \n",
       "141              django__django-14053            19   \n",
       "150              django__django-14349            20   \n",
       "416           sphinx-doc__sphinx-9320            21   \n",
       "302               pydata__xarray-3677            22   \n",
       "19              astropy__astropy-7671            26   \n",
       "125              django__django-13741            28   \n",
       "226              django__django-16429            29   \n",
       "178              django__django-15104            30   \n",
       "\n",
       "                                             solved_by       difficulty  \\\n",
       "170                                                 []      <15 min fix   \n",
       "337                                                 []  15 min - 1 hour   \n",
       "198                                                 []  15 min - 1 hour   \n",
       "240                                                 []  15 min - 1 hour   \n",
       "338                                                 []        1-4 hours   \n",
       "286                                                 []  15 min - 1 hour   \n",
       "57                                                  []  15 min - 1 hour   \n",
       "498                                                 []      <15 min fix   \n",
       "47                                                  []        1-4 hours   \n",
       "103                                                 []        1-4 hours   \n",
       "259                                                 []  15 min - 1 hour   \n",
       "399                                                 []  15 min - 1 hour   \n",
       "247                                                 []  15 min - 1 hour   \n",
       "309         [20241022_tools_claude-3-5-sonnet-updated]  15 min - 1 hour   \n",
       "254                                  [20240920_solver]  15 min - 1 hour   \n",
       "468                     [20241028_agentless-1.5_gpt4o]  15 min - 1 hour   \n",
       "375                         [20241025_composio_swekit]  15 min - 1 hour   \n",
       "112   [20241029_OpenHands-CodeAct-2.1-sonnet-20241022]      <15 min fix   \n",
       "77                          [20241025_composio_swekit]  15 min - 1 hour   \n",
       "457  [20241022_tools_claude-3-5-sonnet-updated, 202...  15 min - 1 hour   \n",
       "41     [20241016_composio_swekit, 20241007_nfactorial]      <15 min fix   \n",
       "450  [20241029_OpenHands-CodeAct-2.1-sonnet-2024102...  15 min - 1 hour   \n",
       "67   [20240628_autocoderover-v20240620, 20241028_ag...      <15 min fix   \n",
       "99   [20241022_tools_claude-3-5-sonnet-updated, 202...  15 min - 1 hour   \n",
       "465  [20240620_sweagent_claude3.5sonnet, 20241028_s...  15 min - 1 hour   \n",
       "447  [20241029_OpenHands-CodeAct-2.1-sonnet-2024102...      <15 min fix   \n",
       "224  [20240820_honeycomb, 20241016_composio_swekit,...  15 min - 1 hour   \n",
       "20   [20240721_amazon-q-developer-agent-20240719-de...  15 min - 1 hour   \n",
       "71   [20240721_amazon-q-developer-agent-20240719-de...      <15 min fix   \n",
       "312  [20240721_amazon-q-developer-agent-20240719-de...  15 min - 1 hour   \n",
       "290  [20240721_amazon-q-developer-agent-20240719-de...      <15 min fix   \n",
       "137  [20240721_amazon-q-developer-agent-20240719-de...        1-4 hours   \n",
       "459  [20240721_amazon-q-developer-agent-20240719-de...      <15 min fix   \n",
       "69   [20240721_amazon-q-developer-agent-20240719-de...  15 min - 1 hour   \n",
       "377  [20240615_appmap-navie_gpt4o, 20240628_autocod...      <15 min fix   \n",
       "197  [20240721_amazon-q-developer-agent-20240719-de...  15 min - 1 hour   \n",
       "462  [20240920_solver, 20241022_tools_claude-3-5-so...      <15 min fix   \n",
       "473  [20240721_amazon-q-developer-agent-20240719-de...      <15 min fix   \n",
       "159  [20240721_amazon-q-developer-agent-20240719-de...      <15 min fix   \n",
       "384  [20240721_amazon-q-developer-agent-20240719-de...  15 min - 1 hour   \n",
       "404  [20240721_amazon-q-developer-agent-20240719-de...      <15 min fix   \n",
       "74   [20240721_amazon-q-developer-agent-20240719-de...      <15 min fix   \n",
       "141  [20240615_appmap-navie_gpt4o, 20240509_amazon-...  15 min - 1 hour   \n",
       "150  [20240721_amazon-q-developer-agent-20240719-de...  15 min - 1 hour   \n",
       "416  [20240721_amazon-q-developer-agent-20240719-de...      <15 min fix   \n",
       "302  [20240721_amazon-q-developer-agent-20240719-de...  15 min - 1 hour   \n",
       "19   [20240615_appmap-navie_gpt4o, 20240509_amazon-...  15 min - 1 hour   \n",
       "125  [20240721_amazon-q-developer-agent-20240719-de...      <15 min fix   \n",
       "226  [20240721_amazon-q-developer-agent-20240719-de...      <15 min fix   \n",
       "178  [20240721_amazon-q-developer-agent-20240719-de...      <15 min fix   \n",
       "\n",
       "     empiric_difficulty  \n",
       "170                1.00  \n",
       "337                1.00  \n",
       "198                1.00  \n",
       "240                1.00  \n",
       "338                1.00  \n",
       "286                1.00  \n",
       "57                 1.00  \n",
       "498                1.00  \n",
       "47                 1.00  \n",
       "103                1.00  \n",
       "259                1.00  \n",
       "399                1.00  \n",
       "247                1.00  \n",
       "309                0.97  \n",
       "254                0.97  \n",
       "468                0.97  \n",
       "375                0.97  \n",
       "112                0.97  \n",
       "77                 0.97  \n",
       "457                0.94  \n",
       "41                 0.94  \n",
       "450                0.94  \n",
       "67                 0.92  \n",
       "99                 0.92  \n",
       "465                0.92  \n",
       "447                0.89  \n",
       "224                0.89  \n",
       "20                 0.86  \n",
       "71                 0.86  \n",
       "312                0.83  \n",
       "290                0.81  \n",
       "137                0.78  \n",
       "459                0.75  \n",
       "69                 0.72  \n",
       "377                0.69  \n",
       "197                0.67  \n",
       "462                0.64  \n",
       "473                0.58  \n",
       "159                0.58  \n",
       "384                0.56  \n",
       "404                0.56  \n",
       "74                 0.50  \n",
       "141                0.47  \n",
       "150                0.44  \n",
       "416                0.42  \n",
       "302                0.39  \n",
       "19                 0.28  \n",
       "125                0.22  \n",
       "226                0.19  \n",
       "178                0.17  "
      ],
      "text/html": [
       "<div>\n",
       "<style scoped>\n",
       "    .dataframe tbody tr th:only-of-type {\n",
       "        vertical-align: middle;\n",
       "    }\n",
       "\n",
       "    .dataframe tbody tr th {\n",
       "        vertical-align: top;\n",
       "    }\n",
       "\n",
       "    .dataframe thead th {\n",
       "        text-align: right;\n",
       "    }\n",
       "</style>\n",
       "<table border=\"1\" class=\"dataframe\">\n",
       "  <thead>\n",
       "    <tr style=\"text-align: right;\">\n",
       "      <th></th>\n",
       "      <th>instance_id</th>\n",
       "      <th>times_solved</th>\n",
       "      <th>solved_by</th>\n",
       "      <th>difficulty</th>\n",
       "      <th>empiric_difficulty</th>\n",
       "    </tr>\n",
       "  </thead>\n",
       "  <tbody>\n",
       "    <tr>\n",
       "      <th>170</th>\n",
       "      <td>django__django-14792</td>\n",
       "      <td>0</td>\n",
       "      <td>[]</td>\n",
       "      <td>&lt;15 min fix</td>\n",
       "      <td>1.00</td>\n",
       "    </tr>\n",
       "    <tr>\n",
       "      <th>337</th>\n",
       "      <td>pytest-dev__pytest-5840</td>\n",
       "      <td>0</td>\n",
       "      <td>[]</td>\n",
       "      <td>15 min - 1 hour</td>\n",
       "      <td>1.00</td>\n",
       "    </tr>\n",
       "    <tr>\n",
       "      <th>198</th>\n",
       "      <td>django__django-15563</td>\n",
       "      <td>0</td>\n",
       "      <td>[]</td>\n",
       "      <td>15 min - 1 hour</td>\n",
       "      <td>1.00</td>\n",
       "    </tr>\n",
       "    <tr>\n",
       "      <th>240</th>\n",
       "      <td>django__django-16667</td>\n",
       "      <td>0</td>\n",
       "      <td>[]</td>\n",
       "      <td>15 min - 1 hour</td>\n",
       "      <td>1.00</td>\n",
       "    </tr>\n",
       "    <tr>\n",
       "      <th>338</th>\n",
       "      <td>pytest-dev__pytest-6197</td>\n",
       "      <td>0</td>\n",
       "      <td>[]</td>\n",
       "      <td>1-4 hours</td>\n",
       "      <td>1.00</td>\n",
       "    </tr>\n",
       "    <tr>\n",
       "      <th>286</th>\n",
       "      <td>matplotlib__matplotlib-26466</td>\n",
       "      <td>0</td>\n",
       "      <td>[]</td>\n",
       "      <td>15 min - 1 hour</td>\n",
       "      <td>1.00</td>\n",
       "    </tr>\n",
       "    <tr>\n",
       "      <th>57</th>\n",
       "      <td>django__django-11734</td>\n",
       "      <td>0</td>\n",
       "      <td>[]</td>\n",
       "      <td>15 min - 1 hour</td>\n",
       "      <td>1.00</td>\n",
       "    </tr>\n",
       "    <tr>\n",
       "      <th>498</th>\n",
       "      <td>sympy__sympy-24562</td>\n",
       "      <td>0</td>\n",
       "      <td>[]</td>\n",
       "      <td>&lt;15 min fix</td>\n",
       "      <td>1.00</td>\n",
       "    </tr>\n",
       "    <tr>\n",
       "      <th>47</th>\n",
       "      <td>django__django-11400</td>\n",
       "      <td>0</td>\n",
       "      <td>[]</td>\n",
       "      <td>1-4 hours</td>\n",
       "      <td>1.00</td>\n",
       "    </tr>\n",
       "    <tr>\n",
       "      <th>103</th>\n",
       "      <td>django__django-13212</td>\n",
       "      <td>0</td>\n",
       "      <td>[]</td>\n",
       "      <td>1-4 hours</td>\n",
       "      <td>1.00</td>\n",
       "    </tr>\n",
       "    <tr>\n",
       "      <th>259</th>\n",
       "      <td>matplotlib__matplotlib-21568</td>\n",
       "      <td>0</td>\n",
       "      <td>[]</td>\n",
       "      <td>15 min - 1 hour</td>\n",
       "      <td>1.00</td>\n",
       "    </tr>\n",
       "    <tr>\n",
       "      <th>399</th>\n",
       "      <td>sphinx-doc__sphinx-8056</td>\n",
       "      <td>0</td>\n",
       "      <td>[]</td>\n",
       "      <td>15 min - 1 hour</td>\n",
       "      <td>1.00</td>\n",
       "    </tr>\n",
       "    <tr>\n",
       "      <th>247</th>\n",
       "      <td>django__django-16950</td>\n",
       "      <td>0</td>\n",
       "      <td>[]</td>\n",
       "      <td>15 min - 1 hour</td>\n",
       "      <td>1.00</td>\n",
       "    </tr>\n",
       "    <tr>\n",
       "      <th>309</th>\n",
       "      <td>pydata__xarray-4695</td>\n",
       "      <td>1</td>\n",
       "      <td>[20241022_tools_claude-3-5-sonnet-updated]</td>\n",
       "      <td>15 min - 1 hour</td>\n",
       "      <td>0.97</td>\n",
       "    </tr>\n",
       "    <tr>\n",
       "      <th>254</th>\n",
       "      <td>matplotlib__matplotlib-14623</td>\n",
       "      <td>1</td>\n",
       "      <td>[20240920_solver]</td>\n",
       "      <td>15 min - 1 hour</td>\n",
       "      <td>0.97</td>\n",
       "    </tr>\n",
       "    <tr>\n",
       "      <th>468</th>\n",
       "      <td>sympy__sympy-19040</td>\n",
       "      <td>1</td>\n",
       "      <td>[20241028_agentless-1.5_gpt4o]</td>\n",
       "      <td>15 min - 1 hour</td>\n",
       "      <td>0.97</td>\n",
       "    </tr>\n",
       "    <tr>\n",
       "      <th>375</th>\n",
       "      <td>scikit-learn__scikit-learn-25747</td>\n",
       "      <td>1</td>\n",
       "      <td>[20241025_composio_swekit]</td>\n",
       "      <td>15 min - 1 hour</td>\n",
       "      <td>0.97</td>\n",
       "    </tr>\n",
       "    <tr>\n",
       "      <th>112</th>\n",
       "      <td>django__django-13406</td>\n",
       "      <td>1</td>\n",
       "      <td>[20241029_OpenHands-CodeAct-2.1-sonnet-20241022]</td>\n",
       "      <td>&lt;15 min fix</td>\n",
       "      <td>0.97</td>\n",
       "    </tr>\n",
       "    <tr>\n",
       "      <th>77</th>\n",
       "      <td>django__django-12273</td>\n",
       "      <td>1</td>\n",
       "      <td>[20241025_composio_swekit]</td>\n",
       "      <td>15 min - 1 hour</td>\n",
       "      <td>0.97</td>\n",
       "    </tr>\n",
       "    <tr>\n",
       "      <th>457</th>\n",
       "      <td>sympy__sympy-16792</td>\n",
       "      <td>2</td>\n",
       "      <td>[20241022_tools_claude-3-5-sonnet-updated, 202...</td>\n",
       "      <td>15 min - 1 hour</td>\n",
       "      <td>0.94</td>\n",
       "    </tr>\n",
       "    <tr>\n",
       "      <th>41</th>\n",
       "      <td>django__django-11239</td>\n",
       "      <td>2</td>\n",
       "      <td>[20241016_composio_swekit, 20241007_nfactorial]</td>\n",
       "      <td>&lt;15 min fix</td>\n",
       "      <td>0.94</td>\n",
       "    </tr>\n",
       "    <tr>\n",
       "      <th>450</th>\n",
       "      <td>sympy__sympy-15599</td>\n",
       "      <td>2</td>\n",
       "      <td>[20241029_OpenHands-CodeAct-2.1-sonnet-2024102...</td>\n",
       "      <td>15 min - 1 hour</td>\n",
       "      <td>0.94</td>\n",
       "    </tr>\n",
       "    <tr>\n",
       "      <th>67</th>\n",
       "      <td>django__django-11964</td>\n",
       "      <td>3</td>\n",
       "      <td>[20240628_autocoderover-v20240620, 20241028_ag...</td>\n",
       "      <td>&lt;15 min fix</td>\n",
       "      <td>0.92</td>\n",
       "    </tr>\n",
       "    <tr>\n",
       "      <th>99</th>\n",
       "      <td>django__django-13121</td>\n",
       "      <td>3</td>\n",
       "      <td>[20241022_tools_claude-3-5-sonnet-updated, 202...</td>\n",
       "      <td>15 min - 1 hour</td>\n",
       "      <td>0.92</td>\n",
       "    </tr>\n",
       "    <tr>\n",
       "      <th>465</th>\n",
       "      <td>sympy__sympy-18211</td>\n",
       "      <td>3</td>\n",
       "      <td>[20240620_sweagent_claude3.5sonnet, 20241028_s...</td>\n",
       "      <td>15 min - 1 hour</td>\n",
       "      <td>0.92</td>\n",
       "    </tr>\n",
       "    <tr>\n",
       "      <th>447</th>\n",
       "      <td>sympy__sympy-15017</td>\n",
       "      <td>4</td>\n",
       "      <td>[20241029_OpenHands-CodeAct-2.1-sonnet-2024102...</td>\n",
       "      <td>&lt;15 min fix</td>\n",
       "      <td>0.89</td>\n",
       "    </tr>\n",
       "    <tr>\n",
       "      <th>224</th>\n",
       "      <td>django__django-16315</td>\n",
       "      <td>4</td>\n",
       "      <td>[20240820_honeycomb, 20241016_composio_swekit,...</td>\n",
       "      <td>15 min - 1 hour</td>\n",
       "      <td>0.89</td>\n",
       "    </tr>\n",
       "    <tr>\n",
       "      <th>20</th>\n",
       "      <td>astropy__astropy-8707</td>\n",
       "      <td>5</td>\n",
       "      <td>[20240721_amazon-q-developer-agent-20240719-de...</td>\n",
       "      <td>15 min - 1 hour</td>\n",
       "      <td>0.86</td>\n",
       "    </tr>\n",
       "    <tr>\n",
       "      <th>71</th>\n",
       "      <td>django__django-12125</td>\n",
       "      <td>5</td>\n",
       "      <td>[20240721_amazon-q-developer-agent-20240719-de...</td>\n",
       "      <td>&lt;15 min fix</td>\n",
       "      <td>0.86</td>\n",
       "    </tr>\n",
       "    <tr>\n",
       "      <th>312</th>\n",
       "      <td>pydata__xarray-6599</td>\n",
       "      <td>6</td>\n",
       "      <td>[20240721_amazon-q-developer-agent-20240719-de...</td>\n",
       "      <td>15 min - 1 hour</td>\n",
       "      <td>0.83</td>\n",
       "    </tr>\n",
       "    <tr>\n",
       "      <th>290</th>\n",
       "      <td>psf__requests-1142</td>\n",
       "      <td>7</td>\n",
       "      <td>[20240721_amazon-q-developer-agent-20240719-de...</td>\n",
       "      <td>&lt;15 min fix</td>\n",
       "      <td>0.81</td>\n",
       "    </tr>\n",
       "    <tr>\n",
       "      <th>137</th>\n",
       "      <td>django__django-14007</td>\n",
       "      <td>8</td>\n",
       "      <td>[20240721_amazon-q-developer-agent-20240719-de...</td>\n",
       "      <td>1-4 hours</td>\n",
       "      <td>0.78</td>\n",
       "    </tr>\n",
       "    <tr>\n",
       "      <th>459</th>\n",
       "      <td>sympy__sympy-17139</td>\n",
       "      <td>9</td>\n",
       "      <td>[20240721_amazon-q-developer-agent-20240719-de...</td>\n",
       "      <td>&lt;15 min fix</td>\n",
       "      <td>0.75</td>\n",
       "    </tr>\n",
       "    <tr>\n",
       "      <th>69</th>\n",
       "      <td>django__django-12039</td>\n",
       "      <td>10</td>\n",
       "      <td>[20240721_amazon-q-developer-agent-20240719-de...</td>\n",
       "      <td>15 min - 1 hour</td>\n",
       "      <td>0.72</td>\n",
       "    </tr>\n",
       "    <tr>\n",
       "      <th>377</th>\n",
       "      <td>scikit-learn__scikit-learn-25973</td>\n",
       "      <td>11</td>\n",
       "      <td>[20240615_appmap-navie_gpt4o, 20240628_autocod...</td>\n",
       "      <td>&lt;15 min fix</td>\n",
       "      <td>0.69</td>\n",
       "    </tr>\n",
       "    <tr>\n",
       "      <th>197</th>\n",
       "      <td>django__django-15561</td>\n",
       "      <td>12</td>\n",
       "      <td>[20240721_amazon-q-developer-agent-20240719-de...</td>\n",
       "      <td>15 min - 1 hour</td>\n",
       "      <td>0.67</td>\n",
       "    </tr>\n",
       "    <tr>\n",
       "      <th>462</th>\n",
       "      <td>sympy__sympy-17655</td>\n",
       "      <td>13</td>\n",
       "      <td>[20240920_solver, 20241022_tools_claude-3-5-so...</td>\n",
       "      <td>&lt;15 min fix</td>\n",
       "      <td>0.64</td>\n",
       "    </tr>\n",
       "    <tr>\n",
       "      <th>473</th>\n",
       "      <td>sympy__sympy-19954</td>\n",
       "      <td>15</td>\n",
       "      <td>[20240721_amazon-q-developer-agent-20240719-de...</td>\n",
       "      <td>&lt;15 min fix</td>\n",
       "      <td>0.58</td>\n",
       "    </tr>\n",
       "    <tr>\n",
       "      <th>159</th>\n",
       "      <td>django__django-14539</td>\n",
       "      <td>15</td>\n",
       "      <td>[20240721_amazon-q-developer-agent-20240719-de...</td>\n",
       "      <td>&lt;15 min fix</td>\n",
       "      <td>0.58</td>\n",
       "    </tr>\n",
       "    <tr>\n",
       "      <th>384</th>\n",
       "      <td>sphinx-doc__sphinx-10466</td>\n",
       "      <td>16</td>\n",
       "      <td>[20240721_amazon-q-developer-agent-20240719-de...</td>\n",
       "      <td>15 min - 1 hour</td>\n",
       "      <td>0.56</td>\n",
       "    </tr>\n",
       "    <tr>\n",
       "      <th>404</th>\n",
       "      <td>sphinx-doc__sphinx-8475</td>\n",
       "      <td>16</td>\n",
       "      <td>[20240721_amazon-q-developer-agent-20240719-de...</td>\n",
       "      <td>&lt;15 min fix</td>\n",
       "      <td>0.56</td>\n",
       "    </tr>\n",
       "    <tr>\n",
       "      <th>74</th>\n",
       "      <td>django__django-12193</td>\n",
       "      <td>18</td>\n",
       "      <td>[20240721_amazon-q-developer-agent-20240719-de...</td>\n",
       "      <td>&lt;15 min fix</td>\n",
       "      <td>0.50</td>\n",
       "    </tr>\n",
       "    <tr>\n",
       "      <th>141</th>\n",
       "      <td>django__django-14053</td>\n",
       "      <td>19</td>\n",
       "      <td>[20240615_appmap-navie_gpt4o, 20240509_amazon-...</td>\n",
       "      <td>15 min - 1 hour</td>\n",
       "      <td>0.47</td>\n",
       "    </tr>\n",
       "    <tr>\n",
       "      <th>150</th>\n",
       "      <td>django__django-14349</td>\n",
       "      <td>20</td>\n",
       "      <td>[20240721_amazon-q-developer-agent-20240719-de...</td>\n",
       "      <td>15 min - 1 hour</td>\n",
       "      <td>0.44</td>\n",
       "    </tr>\n",
       "    <tr>\n",
       "      <th>416</th>\n",
       "      <td>sphinx-doc__sphinx-9320</td>\n",
       "      <td>21</td>\n",
       "      <td>[20240721_amazon-q-developer-agent-20240719-de...</td>\n",
       "      <td>&lt;15 min fix</td>\n",
       "      <td>0.42</td>\n",
       "    </tr>\n",
       "    <tr>\n",
       "      <th>302</th>\n",
       "      <td>pydata__xarray-3677</td>\n",
       "      <td>22</td>\n",
       "      <td>[20240721_amazon-q-developer-agent-20240719-de...</td>\n",
       "      <td>15 min - 1 hour</td>\n",
       "      <td>0.39</td>\n",
       "    </tr>\n",
       "    <tr>\n",
       "      <th>19</th>\n",
       "      <td>astropy__astropy-7671</td>\n",
       "      <td>26</td>\n",
       "      <td>[20240615_appmap-navie_gpt4o, 20240509_amazon-...</td>\n",
       "      <td>15 min - 1 hour</td>\n",
       "      <td>0.28</td>\n",
       "    </tr>\n",
       "    <tr>\n",
       "      <th>125</th>\n",
       "      <td>django__django-13741</td>\n",
       "      <td>28</td>\n",
       "      <td>[20240721_amazon-q-developer-agent-20240719-de...</td>\n",
       "      <td>&lt;15 min fix</td>\n",
       "      <td>0.22</td>\n",
       "    </tr>\n",
       "    <tr>\n",
       "      <th>226</th>\n",
       "      <td>django__django-16429</td>\n",
       "      <td>29</td>\n",
       "      <td>[20240721_amazon-q-developer-agent-20240719-de...</td>\n",
       "      <td>&lt;15 min fix</td>\n",
       "      <td>0.19</td>\n",
       "    </tr>\n",
       "    <tr>\n",
       "      <th>178</th>\n",
       "      <td>django__django-15104</td>\n",
       "      <td>30</td>\n",
       "      <td>[20240721_amazon-q-developer-agent-20240719-de...</td>\n",
       "      <td>&lt;15 min fix</td>\n",
       "      <td>0.17</td>\n",
       "    </tr>\n",
       "  </tbody>\n",
       "</table>\n",
       "</div>"
      ]
     },
     "execution_count": 71,
     "metadata": {},
     "output_type": "execute_result"
    }
   ],
   "execution_count": 71
  },
  {
   "metadata": {
    "ExecuteTime": {
     "end_time": "2024-11-12T10:24:36.467365Z",
     "start_time": "2024-11-12T10:24:36.464414Z"
    }
   },
   "cell_type": "code",
   "source": "train_df.shape",
   "id": "15db22e8ae72a29d",
   "outputs": [
    {
     "data": {
      "text/plain": [
       "(450, 22)"
      ]
     },
     "execution_count": 72,
     "metadata": {},
     "output_type": "execute_result"
    }
   ],
   "execution_count": 72
  },
  {
   "metadata": {
    "ExecuteTime": {
     "end_time": "2024-11-12T10:24:37.148317Z",
     "start_time": "2024-11-12T10:24:37.145202Z"
    }
   },
   "cell_type": "code",
   "source": "test_df.shape",
   "id": "6f939a80c5dadb6e",
   "outputs": [
    {
     "data": {
      "text/plain": [
       "(50, 22)"
      ]
     },
     "execution_count": 73,
     "metadata": {},
     "output_type": "execute_result"
    }
   ],
   "execution_count": 73
  },
  {
   "metadata": {
    "ExecuteTime": {
     "end_time": "2024-11-12T10:24:38.059802Z",
     "start_time": "2024-11-12T10:24:38.049348Z"
    }
   },
   "cell_type": "code",
   "source": [
    "train_df.to_json(os.path.join(os.getcwd(), 'train.json'), indent=4, orient='records', force_ascii=False)\n",
    "test_df.to_json(os.path.join(os.getcwd(), 'test.json'), indent=4, orient='records', force_ascii=False)"
   ],
   "id": "b9ef7ade01565f3f",
   "outputs": [],
   "execution_count": 74
  },
  {
   "metadata": {
    "ExecuteTime": {
     "end_time": "2024-11-12T10:24:39.839029Z",
     "start_time": "2024-11-12T10:24:39.835241Z"
    }
   },
   "cell_type": "code",
   "source": [
    "with open(os.path.join(os.getcwd(), 'conf', 'swe_verified_train_tasks.txt'), 'w+') as f:\n",
    "    for instance in train_df.loc[:, \"instance_id\"]:\n",
    "        f.write(f\"{instance}\\n\")\n",
    "        \n",
    "with open(os.path.join(os.getcwd(), 'conf', 'swe_verified_test_tasks.txt'), 'w+') as f:\n",
    "    for instance in test_df.loc[:, \"instance_id\"]:\n",
    "        f.write(f\"{instance}\\n\")"
   ],
   "id": "350a7e2643033add",
   "outputs": [],
   "execution_count": 75
  },
  {
   "metadata": {
    "ExecuteTime": {
     "end_time": "2024-11-12T10:24:41.111111Z",
     "start_time": "2024-11-12T10:24:41.102516Z"
    }
   },
   "cell_type": "code",
   "source": "swe_bench_verified.to_json(os.path.join(os.getcwd(), 'data/swe_bench_verified_resolution_data.json'), indent=4, orient='records', force_ascii=False)",
   "id": "f24fcc0889882de9",
   "outputs": [],
   "execution_count": 76
  },
  {
   "metadata": {},
   "cell_type": "markdown",
   "source": [
    "# For documentation only: \n",
    "## Reshuffle until we have an more well balanced spread of empiric difficulty"
   ],
   "id": "41f8cabb6f55503c"
  },
  {
   "metadata": {
    "ExecuteTime": {
     "end_time": "2024-11-12T10:07:59.224672Z",
     "start_time": "2024-11-12T10:07:59.219485Z"
    }
   },
   "cell_type": "code",
   "source": [
    "def move(row: pd.Series, src: pd.DataFrame, dst: pd.DataFrame) -> Tuple[pd.DataFrame, pd.DataFrame]:\n",
    "    \"\"\"\n",
    "    Moves a specific row from one DataFrame to another.\n",
    "\n",
    "        Parameters:\n",
    "            row (pd.Series): The row to move from the source DataFrame to the destination DataFrame.\n",
    "            src (pd.DataFrame): The source DataFrame from which the row will be removed.\n",
    "            dst (pd.DataFrame): The destination DataFrame to which the row will be added.\n",
    "\n",
    "        Returns:\n",
    "            tuple: A tuple containing the updated source and destination DataFrames.\n",
    "    \"\"\"\n",
    "    src.drop(row.index, inplace=True)\n",
    "    dst = pd.concat([dst, row_to_shift])\n",
    "    \n",
    "    return src, dst\n",
    "\n",
    "def get_minimum_deviation_stratification_class(train_df: pd.DataFrame, test_df: pd.DataFrame) -> str:\n",
    "    \"\"\"\n",
    "    Determines which stratification class has the minimum deviation (closest to zero)\n",
    "    in frequency between the training and testing datasets.\n",
    "\n",
    "    Parameters:\n",
    "        train_df (pd.DataFrame): The training dataset containing the stratification column.\n",
    "        test_df (pd.DataFrame): The testing dataset containing the stratification column.\n",
    "\n",
    "    Returns:\n",
    "        The stratification class label with the minimum deviation in frequency \n",
    "        between the training and testing datasets.\n",
    "    \"\"\"\n",
    "    stratify_column_percent_deviation = train_df.stratify_column.value_counts(normalize=True).sub(test_df.stratify_column.value_counts(normalize=True), fill_value=0)\n",
    "    return stratify_column_percent_deviation.abs().idxmin()\n",
    "\n",
    "def determine_row_to_shift_from(candidate_rows: pd.DataFrame, stratify_min_index: str) -> pd.Series:\n",
    "    \"\"\"\n",
    "    Determines a row to shift from a given DataFrame of candidate rows.\n",
    "\n",
    "    This function first attempts to sample a row from the candidate rows that match a specified minimum deviation class (stratify_min_index). If no rows match this criterion, it falls back to sampling a random row from the candidate rows.\n",
    "\n",
    "    Arguments:\n",
    "        candidate_rows (pd.DataFrame): The DataFrame containing candidate rows to choose from.\n",
    "        stratify_min_index (str): The value used to stratify the candidate rows and select rows from the minimum deviation class.\n",
    "\n",
    "    Returns:\n",
    "        pd.Series: The row selected to be shifted from the candidate rows.\n",
    "    \"\"\"\n",
    "    if len(candidate_rows[candidate_rows['stratify_column'] == stratify_min_index]) > 0:\n",
    "        row_to_shift = candidate_rows[candidate_rows['stratify_column'] == stratify_min_index].sample(random_state=42)\n",
    "    else: \n",
    "        row_to_shift = candidate_rows.sample(random_state=42)\n",
    "        print(f'Unable to select candidate from minimum deviation class {stratify_min_index}, backing off to sampling a random row.')\n",
    "        \n",
    "    return row_to_shift"
   ],
   "id": "4db93a8c1b20ccb8",
   "outputs": [],
   "execution_count": 47
  },
  {
   "metadata": {
    "ExecuteTime": {
     "end_time": "2024-11-12T10:07:59.657045Z",
     "start_time": "2024-11-12T10:07:59.618763Z"
    }
   },
   "cell_type": "code",
   "source": [
    "empiric_difficulty_percent_deviations = train_df.empiric_difficulty.value_counts(normalize=True).sub(test_df.empiric_difficulty.value_counts(normalize=True), fill_value=0) * 100\n",
    "\n",
    "i = 0\n",
    "while empiric_difficulty_percent_deviations.max() > 2 or empiric_difficulty_percent_deviations.min() < -2: \n",
    "    i += 1\n",
    "    print(f'---- ITERATION {i} ----')\n",
    "    max_value = empiric_difficulty_percent_deviations.max()\n",
    "    max_index = empiric_difficulty_percent_deviations.idxmax()\n",
    "    min_value = empiric_difficulty_percent_deviations.min()\n",
    "    min_index = empiric_difficulty_percent_deviations.idxmin()\n",
    "    \n",
    "    print(f\"Maximum value in data: {max_value} at index {max_index}\")\n",
    "    print(f\"Minimum value in data: {min_value} at index {min_index}\")\n",
    "    \n",
    "    stratify_min_index = get_minimum_deviation_stratification_class(train_df, test_df)\n",
    "    \n",
    "    # train - test \n",
    "    #   => Max class has too many elements in train\n",
    "    #   => Min class has too many elements in test\n",
    "    # Shift from min_index in test to train and from max_index in train to test\n",
    "    candidate_rows = train_df[train_df['empiric_difficulty'] == max_index]\n",
    "    row_to_shift = determine_row_to_shift_from(candidate_rows, stratify_min_index)\n",
    "    train_df, test_df = move(row_to_shift, src=train_df, dst=test_df)\n",
    "    print(f'Moved \"{row_to_shift[\"instance_id\"].values[0]}\" with empiric difficulty \"{row_to_shift[\"empiric_difficulty\"].values[0]}\" from train to test split.')\n",
    "    \n",
    "    stratify_min_index = get_minimum_deviation_stratification_class(train_df, test_df)\n",
    "    \n",
    "    candidate_rows = test_df[test_df['empiric_difficulty'] == min_index]\n",
    "    row_to_shift = determine_row_to_shift_from(candidate_rows, stratify_min_index)\n",
    "    test_df, train_df  = move(row_to_shift, src=test_df, dst=train_df)\n",
    "    print(f'Moved \"{row_to_shift[\"instance_id\"].values[0]}\" with empiric difficulty \"{row_to_shift[\"empiric_difficulty\"].values[0]}\" from test to train split.\\n')\n",
    "    \n",
    "    empiric_difficulty_percent_deviations = train_df.empiric_difficulty.value_counts(normalize=True).sub(test_df.empiric_difficulty.value_counts(normalize=True), fill_value=0) * 100"
   ],
   "id": "8463f6e5b7e407d9",
   "outputs": [
    {
     "name": "stdout",
     "output_type": "stream",
     "text": [
      "---- ITERATION 1 ----\n",
      "Maximum value in data: 3.3333333333333335 at index 0.25\n",
      "Minimum value in data: -6.444444444444445 at index 0.97\n",
      "Unable to select candidate from minimum deviation class 1-4_hours_0.0, backing off to sampling a random row.\n",
      "Moved \"django__django-13670\" with empiric difficulty \"0.25\" from train to test split.\n",
      "Unable to select candidate from minimum deviation class 1-4_hours_0.0, backing off to sampling a random row.\n",
      "Moved \"sympy__sympy-19040\" with empiric difficulty \"0.97\" from test to train split.\n",
      "\n",
      "---- ITERATION 2 ----\n",
      "Maximum value in data: 3.111111111111111 at index 0.61\n",
      "Minimum value in data: -4.4444444444444455 at index 1.0\n",
      "Unable to select candidate from minimum deviation class 1-4_hours_0.0, backing off to sampling a random row.\n",
      "Moved \"django__django-15380\" with empiric difficulty \"0.61\" from train to test split.\n",
      "Moved \"django__django-11734\" with empiric difficulty \"1.0\" from test to train split.\n",
      "\n",
      "---- ITERATION 3 ----\n",
      "Maximum value in data: 2.666666666666667 at index 0.53\n",
      "Minimum value in data: -4.222222222222223 at index 0.97\n",
      "Unable to select candidate from minimum deviation class 1-4_hours_0.0, backing off to sampling a random row.\n",
      "Moved \"scikit-learn__scikit-learn-26323\" with empiric difficulty \"0.53\" from train to test split.\n",
      "Unable to select candidate from minimum deviation class 1-4_hours_0.0, backing off to sampling a random row.\n",
      "Moved \"django__django-12273\" with empiric difficulty \"0.97\" from test to train split.\n",
      "\n",
      "---- ITERATION 4 ----\n",
      "Maximum value in data: 2.2222222222222223 at index 0.36\n",
      "Minimum value in data: -2.888888888888889 at index 0.56\n",
      "Unable to select candidate from minimum deviation class 1-4_hours_0.0, backing off to sampling a random row.\n",
      "Moved \"sympy__sympy-19637\" with empiric difficulty \"0.36\" from train to test split.\n",
      "Unable to select candidate from minimum deviation class 1-4_hours_0.0, backing off to sampling a random row.\n",
      "Moved \"sphinx-doc__sphinx-8475\" with empiric difficulty \"0.56\" from test to train split.\n",
      "\n",
      "---- ITERATION 5 ----\n",
      "Maximum value in data: 2.0 at index 0.14\n",
      "Minimum value in data: -2.6666666666666665 at index 0.92\n",
      "Unable to select candidate from minimum deviation class 1-4_hours_0.0, backing off to sampling a random row.\n",
      "Moved \"pylint-dev__pylint-6903\" with empiric difficulty \"0.14\" from train to test split.\n",
      "Unable to select candidate from minimum deviation class 1-4_hours_0.0, backing off to sampling a random row.\n",
      "Moved \"django__django-13121\" with empiric difficulty \"0.92\" from test to train split.\n",
      "\n",
      "---- ITERATION 6 ----\n",
      "Maximum value in data: 1.5555555555555556 at index 0.31\n",
      "Minimum value in data: -2.2222222222222228 at index 1.0\n",
      "Unable to select candidate from minimum deviation class 1-4_hours_0.0, backing off to sampling a random row.\n",
      "Moved \"sympy__sympy-24539\" with empiric difficulty \"0.31\" from train to test split.\n",
      "Unable to select candidate from minimum deviation class 1-4_hours_0.0, backing off to sampling a random row.\n",
      "Moved \"django__django-13212\" with empiric difficulty \"1.0\" from test to train split.\n",
      "\n",
      "---- ITERATION 7 ----\n",
      "Maximum value in data: 1.3333333333333335 at index 0.33\n",
      "Minimum value in data: -2.0000000000000004 at index 0.97\n",
      "Unable to select candidate from minimum deviation class 1-4_hours_0.0, backing off to sampling a random row.\n",
      "Moved \"sympy__sympy-24443\" with empiric difficulty \"0.33\" from train to test split.\n",
      "Moved \"matplotlib__matplotlib-14623\" with empiric difficulty \"0.97\" from test to train split.\n",
      "\n"
     ]
    }
   ],
   "execution_count": 48
  },
  {
   "metadata": {
    "ExecuteTime": {
     "end_time": "2024-11-12T10:08:01.390985Z",
     "start_time": "2024-11-12T10:08:01.221379Z"
    }
   },
   "cell_type": "code",
   "source": [
    "plt = build_empiric_difficulty_deviation_plot(train_df, test_df)\n",
    "plt.savefig('report_resources/train_test_empiric_difficulty_deviation-after_correction.pdf')"
   ],
   "id": "5db58840cf86d53a",
   "outputs": [
    {
     "data": {
      "text/plain": [
       "<Figure size 600x500 with 1 Axes>"
      ],
      "image/png": "[encoded data removed]"
     },
     "metadata": {},
     "output_type": "display_data"
    }
   ],
   "execution_count": 49
  },
  {
   "metadata": {
    "ExecuteTime": {
     "end_time": "2024-11-12T10:08:05.506487Z",
     "start_time": "2024-11-12T10:08:05.415690Z"
    }
   },
   "cell_type": "code",
   "source": [
    "plt = build_stratification_class_deviation_plot(train_df, test_df)\n",
    "plt.savefig('report_resources/train_test_difficulty_deviation-after_correction.pdf')"
   ],
   "id": "9fbbc40f206211b4",
   "outputs": [
    {
     "data": {
      "text/plain": [
       "<Figure size 600x500 with 1 Axes>"
      ],
      "image/png": "[encoded data removed]"
     },
     "metadata": {},
     "output_type": "display_data"
    }
   ],
   "execution_count": 50
  },
  {
   "metadata": {},
   "cell_type": "markdown",
   "source": "## Hardest Setting, 90-10 split with only unresolved samples in test-split",
   "id": "8f8c95a4a6f60365"
  },
  {
   "metadata": {
    "ExecuteTime": {
     "end_time": "2024-11-06T13:11:31.695602Z",
     "start_time": "2024-11-06T13:11:31.692038Z"
    }
   },
   "cell_type": "code",
   "source": "test_df = swe_bench_verified[swe_bench_verified['times_solved'] == 0].sample(n=50, random_state=42)",
   "id": "1f91084215daa337",
   "outputs": [],
   "execution_count": 324
  },
  {
   "metadata": {
    "ExecuteTime": {
     "end_time": "2024-11-06T13:12:38.726031Z",
     "start_time": "2024-11-06T13:12:38.722713Z"
    }
   },
   "cell_type": "code",
   "source": "train_df = swe_bench_verified.drop(test_df.index, inplace=False)",
   "id": "1bdec28e338908ac",
   "outputs": [],
   "execution_count": 326
  },
  {
   "metadata": {
    "ExecuteTime": {
     "end_time": "2024-11-06T13:13:19.427087Z",
     "start_time": "2024-11-06T13:13:19.341853Z"
    }
   },
   "cell_type": "code",
   "source": [
    "plt = build_stratification_class_deviation_plot(train_df, test_df)\n",
    "plt.show()"
   ],
   "id": "990d1d13b9447999",
   "outputs": [
    {
     "data": {
      "text/plain": [
       "<Figure size 600x500 with 1 Axes>"
      ],
      "image/png": "[encoded data removed]"
     },
     "metadata": {},
     "output_type": "display_data"
    }
   ],
   "execution_count": 329
  },
  {
   "metadata": {},
   "cell_type": "markdown",
   "source": "We see that in this setting, in line what we have seen already above, we oversample the most difficult classes of samples: >4hrs, 1hr to 4hrs with good tests, 15min to 1hr with poor tests in the test-split. ",
   "id": "3e55c1931c300963"
  },
  {
   "metadata": {},
   "cell_type": "code",
   "outputs": [],
   "execution_count": null,
   "source": "",
   "id": "262411516fd177"
  }
 ],
 "metadata": {
  "kernelspec": {
   "display_name": "Python 3",
   "language": "python",
   "name": "python3"
  },
  "language_info": {
   "codemirror_mode": {
    "name": "ipython",
    "version": 2
   },
   "file_extension": ".py",
   "mimetype": "text/x-python",
   "name": "python",
   "nbconvert_exporter": "python",
   "pygments_lexer": "ipython2",
   "version": "2.7.6"
  }
 },
 "nbformat": 4,
 "nbformat_minor": 5
}
