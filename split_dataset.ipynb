{
 "cells": [
  {
   "metadata": {},
   "cell_type": "markdown",
   "source": [
    "# Exploratory Data Analysis (EDA) of SWE-Bench Verified Annotation Data\n",
    "\n",
    "To determine which instances of SWE-Bench Verified are to be moved into the train- and which into the test-split and to develop the methodology for doing so, we will make use of the SWE-Bench Verified annotation data [provided by OpenAI.](https://openai.com/index/introducing-swe-bench-verified/)"
   ],
   "id": "9e01dfaca78caea1"
  },
  {
   "metadata": {},
   "cell_type": "markdown",
   "source": "## Get annotation data for SWE-Bench Verified samples",
   "id": "19a0771f51ffc647"
  },
  {
   "metadata": {
    "ExecuteTime": {
     "end_time": "2024-11-05T12:31:53.705956Z",
     "start_time": "2024-11-05T12:31:53.703616Z"
    }
   },
   "cell_type": "code",
   "source": [
    "from scipy.stats import chi2_contingency\n",
    "import numpy as np\n",
    "import pandas as pd\n",
    "import json\n",
    "import os\n",
    "import matplotlib.pyplot as plt"
   ],
   "id": "c2e53305cc6fe47b",
   "outputs": [],
   "execution_count": 136
  },
  {
   "cell_type": "code",
   "id": "initial_id",
   "metadata": {
    "collapsed": true,
    "ExecuteTime": {
     "end_time": "2024-11-05T07:47:13.763400Z",
     "start_time": "2024-11-05T07:47:13.699552Z"
    }
   },
   "source": [
    "annotation_data = pd.read_csv('swe-bench-annotation-results/samples_with_3_annotations_public.csv')\n",
    "ensembled_annotation_data = pd.read_csv('swe-bench-annotation-results/ensembled_annotations_public.csv')"
   ],
   "outputs": [],
   "execution_count": 2
  },
  {
   "metadata": {
    "ExecuteTime": {
     "end_time": "2024-10-30T11:54:32.576483Z",
     "start_time": "2024-10-30T11:54:32.566343Z"
    }
   },
   "cell_type": "code",
   "source": "annotation_data.info()",
   "id": "8e7135c648f5155b",
   "outputs": [
    {
     "name": "stdout",
     "output_type": "stream",
     "text": [
      "<class 'pandas.core.frame.DataFrame'>\n",
      "RangeIndex: 5097 entries, 0 to 5096\n",
      "Data columns (total 20 columns):\n",
      " #   Column                      Non-Null Count  Dtype  \n",
      "---  ------                      --------------  -----  \n",
      " 0   instance_id                 5097 non-null   object \n",
      " 1   user_id                     5097 non-null   int64  \n",
      " 2   difficulty                  5096 non-null   object \n",
      " 3   difficulty_notes            5077 non-null   object \n",
      " 4   underspecified              5093 non-null   float64\n",
      " 5   underspecified_notes        5096 non-null   object \n",
      " 6   false_negative              5092 non-null   float64\n",
      " 7   false_negative_notes        5095 non-null   object \n",
      " 8   other_major_issues          5068 non-null   float64\n",
      " 9   other_notes                 328 non-null    object \n",
      " 10  annotator_confidence        5097 non-null   int64  \n",
      " 11  claimed_at                  5097 non-null   object \n",
      " 12  updated_at                  5097 non-null   object \n",
      " 13  submitted_at                5097 non-null   object \n",
      " 14  reviews                     0 non-null      float64\n",
      " 15  comments                    0 non-null      float64\n",
      " 16  task_batch_name             5097 non-null   object \n",
      " 17  problematic                 5097 non-null   bool   \n",
      " 18  underspecified_problematic  5097 non-null   bool   \n",
      " 19  false_negative_problematic  5097 non-null   bool   \n",
      "dtypes: bool(3), float64(5), int64(2), object(10)\n",
      "memory usage: 692.0+ KB\n"
     ]
    }
   ],
   "execution_count": 5
  },
  {
   "metadata": {
    "ExecuteTime": {
     "end_time": "2024-10-30T11:54:36.800503Z",
     "start_time": "2024-10-30T11:54:36.794299Z"
    }
   },
   "cell_type": "code",
   "source": "ensembled_annotation_data.info()",
   "id": "bc368157122be446",
   "outputs": [
    {
     "name": "stdout",
     "output_type": "stream",
     "text": [
      "<class 'pandas.core.frame.DataFrame'>\n",
      "RangeIndex: 1699 entries, 0 to 1698\n",
      "Data columns (total 14 columns):\n",
      " #   Column                                  Non-Null Count  Dtype  \n",
      "---  ------                                  --------------  -----  \n",
      " 0   instance_id                             1699 non-null   object \n",
      " 1   underspecified                          1699 non-null   float64\n",
      " 2   underspecified_notes                    1699 non-null   object \n",
      " 3   false_negative                          1699 non-null   float64\n",
      " 4   false_negative_notes                    1699 non-null   object \n",
      " 5   other_major_issues                      1699 non-null   float64\n",
      " 6   other_notes                             203 non-null    object \n",
      " 7   difficulty                              1699 non-null   object \n",
      " 8   underspecified_decided_by               1699 non-null   int64  \n",
      " 9   false_negative_decided_by               1699 non-null   int64  \n",
      " 10  other_major_issues_decided_by           1699 non-null   int64  \n",
      " 11  difficulty_decided_by                   1699 non-null   object \n",
      " 12  difficulty_ensemble_decision_procedure  1699 non-null   object \n",
      " 13  filter_out                              1699 non-null   bool   \n",
      "dtypes: bool(1), float64(3), int64(3), object(7)\n",
      "memory usage: 174.3+ KB\n"
     ]
    }
   ],
   "execution_count": 6
  },
  {
   "metadata": {},
   "cell_type": "markdown",
   "source": "The ensembled annotation data file contains the annotations aggregate to an `instance_id` level with respect to the 1699 instance ids from SWE-Bench that they investigated. The data are aggregated by taking the maximum value, according to their blogpost. Let's quickly check this qualitatively.",
   "id": "155e62591c20f7cf"
  },
  {
   "metadata": {
    "ExecuteTime": {
     "end_time": "2024-11-05T07:47:37.338422Z",
     "start_time": "2024-11-05T07:47:37.327681Z"
    }
   },
   "cell_type": "code",
   "source": "ensembled_annotation_data[['instance_id','underspecified','false_negative', 'difficulty','other_major_issues']]",
   "id": "9d51ce6d741f70bc",
   "outputs": [
    {
     "data": {
      "text/plain": [
       "                 instance_id  underspecified  false_negative       difficulty  \\\n",
       "0     astropy__astropy-11693             1.0             3.0  15 min - 1 hour   \n",
       "1     astropy__astropy-12544             0.0             3.0        1-4 hours   \n",
       "2     astropy__astropy-12825             1.0             2.0        1-4 hours   \n",
       "3     astropy__astropy-12842             1.0             2.0        1-4 hours   \n",
       "4     astropy__astropy-12880             1.0             3.0      <15 min fix   \n",
       "...                      ...             ...             ...              ...   \n",
       "1694      sympy__sympy-24539             0.0             1.0      <15 min fix   \n",
       "1695      sympy__sympy-24562             0.0             0.0      <15 min fix   \n",
       "1696      sympy__sympy-24661             0.0             0.0  15 min - 1 hour   \n",
       "1697      sympy__sympy-24723             1.0             0.0      <15 min fix   \n",
       "1698      sympy__sympy-24909             1.0             2.0      <15 min fix   \n",
       "\n",
       "      other_major_issues  \n",
       "0                    0.0  \n",
       "1                    0.0  \n",
       "2                    0.0  \n",
       "3                    0.0  \n",
       "4                    0.0  \n",
       "...                  ...  \n",
       "1694                 0.0  \n",
       "1695                 0.0  \n",
       "1696                 0.0  \n",
       "1697                 0.0  \n",
       "1698                 0.0  \n",
       "\n",
       "[1699 rows x 5 columns]"
      ],
      "text/html": [
       "<div>\n",
       "<style scoped>\n",
       "    .dataframe tbody tr th:only-of-type {\n",
       "        vertical-align: middle;\n",
       "    }\n",
       "\n",
       "    .dataframe tbody tr th {\n",
       "        vertical-align: top;\n",
       "    }\n",
       "\n",
       "    .dataframe thead th {\n",
       "        text-align: right;\n",
       "    }\n",
       "</style>\n",
       "<table border=\"1\" class=\"dataframe\">\n",
       "  <thead>\n",
       "    <tr style=\"text-align: right;\">\n",
       "      <th></th>\n",
       "      <th>instance_id</th>\n",
       "      <th>underspecified</th>\n",
       "      <th>false_negative</th>\n",
       "      <th>difficulty</th>\n",
       "      <th>other_major_issues</th>\n",
       "    </tr>\n",
       "  </thead>\n",
       "  <tbody>\n",
       "    <tr>\n",
       "      <th>0</th>\n",
       "      <td>astropy__astropy-11693</td>\n",
       "      <td>1.0</td>\n",
       "      <td>3.0</td>\n",
       "      <td>15 min - 1 hour</td>\n",
       "      <td>0.0</td>\n",
       "    </tr>\n",
       "    <tr>\n",
       "      <th>1</th>\n",
       "      <td>astropy__astropy-12544</td>\n",
       "      <td>0.0</td>\n",
       "      <td>3.0</td>\n",
       "      <td>1-4 hours</td>\n",
       "      <td>0.0</td>\n",
       "    </tr>\n",
       "    <tr>\n",
       "      <th>2</th>\n",
       "      <td>astropy__astropy-12825</td>\n",
       "      <td>1.0</td>\n",
       "      <td>2.0</td>\n",
       "      <td>1-4 hours</td>\n",
       "      <td>0.0</td>\n",
       "    </tr>\n",
       "    <tr>\n",
       "      <th>3</th>\n",
       "      <td>astropy__astropy-12842</td>\n",
       "      <td>1.0</td>\n",
       "      <td>2.0</td>\n",
       "      <td>1-4 hours</td>\n",
       "      <td>0.0</td>\n",
       "    </tr>\n",
       "    <tr>\n",
       "      <th>4</th>\n",
       "      <td>astropy__astropy-12880</td>\n",
       "      <td>1.0</td>\n",
       "      <td>3.0</td>\n",
       "      <td>&lt;15 min fix</td>\n",
       "      <td>0.0</td>\n",
       "    </tr>\n",
       "    <tr>\n",
       "      <th>...</th>\n",
       "      <td>...</td>\n",
       "      <td>...</td>\n",
       "      <td>...</td>\n",
       "      <td>...</td>\n",
       "      <td>...</td>\n",
       "    </tr>\n",
       "    <tr>\n",
       "      <th>1694</th>\n",
       "      <td>sympy__sympy-24539</td>\n",
       "      <td>0.0</td>\n",
       "      <td>1.0</td>\n",
       "      <td>&lt;15 min fix</td>\n",
       "      <td>0.0</td>\n",
       "    </tr>\n",
       "    <tr>\n",
       "      <th>1695</th>\n",
       "      <td>sympy__sympy-24562</td>\n",
       "      <td>0.0</td>\n",
       "      <td>0.0</td>\n",
       "      <td>&lt;15 min fix</td>\n",
       "      <td>0.0</td>\n",
       "    </tr>\n",
       "    <tr>\n",
       "      <th>1696</th>\n",
       "      <td>sympy__sympy-24661</td>\n",
       "      <td>0.0</td>\n",
       "      <td>0.0</td>\n",
       "      <td>15 min - 1 hour</td>\n",
       "      <td>0.0</td>\n",
       "    </tr>\n",
       "    <tr>\n",
       "      <th>1697</th>\n",
       "      <td>sympy__sympy-24723</td>\n",
       "      <td>1.0</td>\n",
       "      <td>0.0</td>\n",
       "      <td>&lt;15 min fix</td>\n",
       "      <td>0.0</td>\n",
       "    </tr>\n",
       "    <tr>\n",
       "      <th>1698</th>\n",
       "      <td>sympy__sympy-24909</td>\n",
       "      <td>1.0</td>\n",
       "      <td>2.0</td>\n",
       "      <td>&lt;15 min fix</td>\n",
       "      <td>0.0</td>\n",
       "    </tr>\n",
       "  </tbody>\n",
       "</table>\n",
       "<p>1699 rows × 5 columns</p>\n",
       "</div>"
      ]
     },
     "execution_count": 3,
     "metadata": {},
     "output_type": "execute_result"
    }
   ],
   "execution_count": 3
  },
  {
   "metadata": {
    "ExecuteTime": {
     "end_time": "2024-10-30T12:08:11.925548Z",
     "start_time": "2024-10-30T12:08:11.919041Z"
    }
   },
   "cell_type": "code",
   "source": "annotation_data[annotation_data['instance_id'] == 'astropy__astropy-12891'][['instance_id','underspecified','false_negative', 'difficulty','other_major_issues']]",
   "id": "fa63097c61fabb1f",
   "outputs": [
    {
     "data": {
      "text/plain": [
       "               instance_id  underspecified  false_negative       difficulty  \\\n",
       "15  astropy__astropy-12891             2.0             3.0  15 min - 1 hour   \n",
       "16  astropy__astropy-12891             1.0             2.0        1-4 hours   \n",
       "17  astropy__astropy-12891             0.0             0.0        1-4 hours   \n",
       "\n",
       "    other_major_issues  \n",
       "15                 0.0  \n",
       "16                 0.0  \n",
       "17                 0.0  "
      ],
      "text/html": [
       "<div>\n",
       "<style scoped>\n",
       "    .dataframe tbody tr th:only-of-type {\n",
       "        vertical-align: middle;\n",
       "    }\n",
       "\n",
       "    .dataframe tbody tr th {\n",
       "        vertical-align: top;\n",
       "    }\n",
       "\n",
       "    .dataframe thead th {\n",
       "        text-align: right;\n",
       "    }\n",
       "</style>\n",
       "<table border=\"1\" class=\"dataframe\">\n",
       "  <thead>\n",
       "    <tr style=\"text-align: right;\">\n",
       "      <th></th>\n",
       "      <th>instance_id</th>\n",
       "      <th>underspecified</th>\n",
       "      <th>false_negative</th>\n",
       "      <th>difficulty</th>\n",
       "      <th>other_major_issues</th>\n",
       "    </tr>\n",
       "  </thead>\n",
       "  <tbody>\n",
       "    <tr>\n",
       "      <th>15</th>\n",
       "      <td>astropy__astropy-12891</td>\n",
       "      <td>2.0</td>\n",
       "      <td>3.0</td>\n",
       "      <td>15 min - 1 hour</td>\n",
       "      <td>0.0</td>\n",
       "    </tr>\n",
       "    <tr>\n",
       "      <th>16</th>\n",
       "      <td>astropy__astropy-12891</td>\n",
       "      <td>1.0</td>\n",
       "      <td>2.0</td>\n",
       "      <td>1-4 hours</td>\n",
       "      <td>0.0</td>\n",
       "    </tr>\n",
       "    <tr>\n",
       "      <th>17</th>\n",
       "      <td>astropy__astropy-12891</td>\n",
       "      <td>0.0</td>\n",
       "      <td>0.0</td>\n",
       "      <td>1-4 hours</td>\n",
       "      <td>0.0</td>\n",
       "    </tr>\n",
       "  </tbody>\n",
       "</table>\n",
       "</div>"
      ]
     },
     "execution_count": 16,
     "metadata": {},
     "output_type": "execute_result"
    }
   ],
   "execution_count": 16
  },
  {
   "metadata": {},
   "cell_type": "markdown",
   "source": "For the samples we checked, this seems to hold up. We will this continue by just looking at the aggregated dataset.",
   "id": "4e62e9d5488992cc"
  },
  {
   "metadata": {
    "ExecuteTime": {
     "end_time": "2024-11-05T07:47:44.485090Z",
     "start_time": "2024-11-05T07:47:44.481690Z"
    }
   },
   "cell_type": "code",
   "source": "del annotation_data",
   "id": "c3e41598f5980099",
   "outputs": [],
   "execution_count": 4
  },
  {
   "metadata": {
    "ExecuteTime": {
     "end_time": "2024-11-05T07:47:50.952511Z",
     "start_time": "2024-11-05T07:47:50.949230Z"
    }
   },
   "cell_type": "code",
   "source": "ensembled_annotation_data = ensembled_annotation_data[ensembled_annotation_data['filter_out'] == False]",
   "id": "352ece23c1e55b1",
   "outputs": [],
   "execution_count": 5
  },
  {
   "metadata": {
    "ExecuteTime": {
     "end_time": "2024-11-05T07:47:51.417953Z",
     "start_time": "2024-11-05T07:47:51.411192Z"
    }
   },
   "cell_type": "code",
   "source": "ensembled_annotation_data",
   "id": "156cd238971980e6",
   "outputs": [
    {
     "data": {
      "text/plain": [
       "                 instance_id  underspecified  \\\n",
       "6     astropy__astropy-12907             1.0   \n",
       "9     astropy__astropy-13033             1.0   \n",
       "15    astropy__astropy-13236             1.0   \n",
       "18    astropy__astropy-13398             0.0   \n",
       "20    astropy__astropy-13453             0.0   \n",
       "...                      ...             ...   \n",
       "1692      sympy__sympy-24443             1.0   \n",
       "1694      sympy__sympy-24539             0.0   \n",
       "1695      sympy__sympy-24562             0.0   \n",
       "1696      sympy__sympy-24661             0.0   \n",
       "1697      sympy__sympy-24723             1.0   \n",
       "\n",
       "                                   underspecified_notes  false_negative  \\\n",
       "6     The issue description is clear, explaining tha...             0.0   \n",
       "9     The issue's concern is well understood. The va...             1.0   \n",
       "15    1. It is clearly suggested that automatic conv...             0.0   \n",
       "18    Issue description is well specified. It inform...             0.0   \n",
       "20    The issue description is very clear and well-o...             0.0   \n",
       "...                                                 ...             ...   \n",
       "1692  The `_check_homomorphism` function is broken f...             0.0   \n",
       "1694  The issue is crystal clear in the ticket. It s...             1.0   \n",
       "1695  The issue raises a bug where the output of `Ra...             0.0   \n",
       "1696  The ticket is very clear. The issue is that th...             0.0   \n",
       "1697  Sympy is returning the wrong constant in the P...             0.0   \n",
       "\n",
       "                                   false_negative_notes  other_major_issues  \\\n",
       "6     The goal of the test patch is to evaluate nest...                 0.0   \n",
       "9     The error message is raised is particular to t...                 0.0   \n",
       "15    1. Issue description wants the agent to remove...                 0.0   \n",
       "18    The tests are well scoped and cover all possib...                 0.0   \n",
       "20    The `test_write_table_formatted_columns` funct...                 0.0   \n",
       "...                                                 ...                 ...   \n",
       "1692  The test patch tests the code raising error in...                 0.0   \n",
       "1694  The tests specifically check whether the `as_e...                 0.0   \n",
       "1695  The tests check that the value of `Rational(p,...                 0.0   \n",
       "1696  The tests are testing all the relational possi...                 0.0   \n",
       "1697  The test confirms the result of the formula is...                 0.0   \n",
       "\n",
       "     other_notes       difficulty  underspecified_decided_by  \\\n",
       "6            NaN  15 min - 1 hour                         75   \n",
       "9            NaN  15 min - 1 hour                         61   \n",
       "15           NaN  15 min - 1 hour                         71   \n",
       "18           NaN        1-4 hours                         12   \n",
       "20           NaN  15 min - 1 hour                         67   \n",
       "...          ...              ...                        ...   \n",
       "1692         NaN  15 min - 1 hour                         28   \n",
       "1694         NaN      <15 min fix                          7   \n",
       "1695         NaN      <15 min fix                         65   \n",
       "1696         NaN  15 min - 1 hour                          7   \n",
       "1697         NaN      <15 min fix                         59   \n",
       "\n",
       "      false_negative_decided_by  other_major_issues_decided_by  \\\n",
       "6                            75                             75   \n",
       "9                            61                             13   \n",
       "15                           71                             71   \n",
       "18                           12                             12   \n",
       "20                           67                             67   \n",
       "...                         ...                            ...   \n",
       "1692                         28                             28   \n",
       "1694                         43                              7   \n",
       "1695                         65                             65   \n",
       "1696                          7                              7   \n",
       "1697                         78                             78   \n",
       "\n",
       "     difficulty_decided_by difficulty_ensemble_decision_procedure  filter_out  \n",
       "6                 [75, 28]                               majority       False  \n",
       "9                 [13, 17]                               majority       False  \n",
       "15                    [71]                                 median       False  \n",
       "18                [12, 62]                               majority       False  \n",
       "20                [61, 28]                               majority       False  \n",
       "...                    ...                                    ...         ...  \n",
       "1692           [28, 9, 12]                               majority       False  \n",
       "1694           [7, 44, 43]                               majority       False  \n",
       "1695               [13, 7]                               majority       False  \n",
       "1696               [7, 10]                               majority       False  \n",
       "1697          [78, 59, 72]                               majority       False  \n",
       "\n",
       "[539 rows x 14 columns]"
      ],
      "text/html": [
       "<div>\n",
       "<style scoped>\n",
       "    .dataframe tbody tr th:only-of-type {\n",
       "        vertical-align: middle;\n",
       "    }\n",
       "\n",
       "    .dataframe tbody tr th {\n",
       "        vertical-align: top;\n",
       "    }\n",
       "\n",
       "    .dataframe thead th {\n",
       "        text-align: right;\n",
       "    }\n",
       "</style>\n",
       "<table border=\"1\" class=\"dataframe\">\n",
       "  <thead>\n",
       "    <tr style=\"text-align: right;\">\n",
       "      <th></th>\n",
       "      <th>instance_id</th>\n",
       "      <th>underspecified</th>\n",
       "      <th>underspecified_notes</th>\n",
       "      <th>false_negative</th>\n",
       "      <th>false_negative_notes</th>\n",
       "      <th>other_major_issues</th>\n",
       "      <th>other_notes</th>\n",
       "      <th>difficulty</th>\n",
       "      <th>underspecified_decided_by</th>\n",
       "      <th>false_negative_decided_by</th>\n",
       "      <th>other_major_issues_decided_by</th>\n",
       "      <th>difficulty_decided_by</th>\n",
       "      <th>difficulty_ensemble_decision_procedure</th>\n",
       "      <th>filter_out</th>\n",
       "    </tr>\n",
       "  </thead>\n",
       "  <tbody>\n",
       "    <tr>\n",
       "      <th>6</th>\n",
       "      <td>astropy__astropy-12907</td>\n",
       "      <td>1.0</td>\n",
       "      <td>The issue description is clear, explaining tha...</td>\n",
       "      <td>0.0</td>\n",
       "      <td>The goal of the test patch is to evaluate nest...</td>\n",
       "      <td>0.0</td>\n",
       "      <td>NaN</td>\n",
       "      <td>15 min - 1 hour</td>\n",
       "      <td>75</td>\n",
       "      <td>75</td>\n",
       "      <td>75</td>\n",
       "      <td>[75, 28]</td>\n",
       "      <td>majority</td>\n",
       "      <td>False</td>\n",
       "    </tr>\n",
       "    <tr>\n",
       "      <th>9</th>\n",
       "      <td>astropy__astropy-13033</td>\n",
       "      <td>1.0</td>\n",
       "      <td>The issue's concern is well understood. The va...</td>\n",
       "      <td>1.0</td>\n",
       "      <td>The error message is raised is particular to t...</td>\n",
       "      <td>0.0</td>\n",
       "      <td>NaN</td>\n",
       "      <td>15 min - 1 hour</td>\n",
       "      <td>61</td>\n",
       "      <td>61</td>\n",
       "      <td>13</td>\n",
       "      <td>[13, 17]</td>\n",
       "      <td>majority</td>\n",
       "      <td>False</td>\n",
       "    </tr>\n",
       "    <tr>\n",
       "      <th>15</th>\n",
       "      <td>astropy__astropy-13236</td>\n",
       "      <td>1.0</td>\n",
       "      <td>1. It is clearly suggested that automatic conv...</td>\n",
       "      <td>0.0</td>\n",
       "      <td>1. Issue description wants the agent to remove...</td>\n",
       "      <td>0.0</td>\n",
       "      <td>NaN</td>\n",
       "      <td>15 min - 1 hour</td>\n",
       "      <td>71</td>\n",
       "      <td>71</td>\n",
       "      <td>71</td>\n",
       "      <td>[71]</td>\n",
       "      <td>median</td>\n",
       "      <td>False</td>\n",
       "    </tr>\n",
       "    <tr>\n",
       "      <th>18</th>\n",
       "      <td>astropy__astropy-13398</td>\n",
       "      <td>0.0</td>\n",
       "      <td>Issue description is well specified. It inform...</td>\n",
       "      <td>0.0</td>\n",
       "      <td>The tests are well scoped and cover all possib...</td>\n",
       "      <td>0.0</td>\n",
       "      <td>NaN</td>\n",
       "      <td>1-4 hours</td>\n",
       "      <td>12</td>\n",
       "      <td>12</td>\n",
       "      <td>12</td>\n",
       "      <td>[12, 62]</td>\n",
       "      <td>majority</td>\n",
       "      <td>False</td>\n",
       "    </tr>\n",
       "    <tr>\n",
       "      <th>20</th>\n",
       "      <td>astropy__astropy-13453</td>\n",
       "      <td>0.0</td>\n",
       "      <td>The issue description is very clear and well-o...</td>\n",
       "      <td>0.0</td>\n",
       "      <td>The `test_write_table_formatted_columns` funct...</td>\n",
       "      <td>0.0</td>\n",
       "      <td>NaN</td>\n",
       "      <td>15 min - 1 hour</td>\n",
       "      <td>67</td>\n",
       "      <td>67</td>\n",
       "      <td>67</td>\n",
       "      <td>[61, 28]</td>\n",
       "      <td>majority</td>\n",
       "      <td>False</td>\n",
       "    </tr>\n",
       "    <tr>\n",
       "      <th>...</th>\n",
       "      <td>...</td>\n",
       "      <td>...</td>\n",
       "      <td>...</td>\n",
       "      <td>...</td>\n",
       "      <td>...</td>\n",
       "      <td>...</td>\n",
       "      <td>...</td>\n",
       "      <td>...</td>\n",
       "      <td>...</td>\n",
       "      <td>...</td>\n",
       "      <td>...</td>\n",
       "      <td>...</td>\n",
       "      <td>...</td>\n",
       "      <td>...</td>\n",
       "    </tr>\n",
       "    <tr>\n",
       "      <th>1692</th>\n",
       "      <td>sympy__sympy-24443</td>\n",
       "      <td>1.0</td>\n",
       "      <td>The `_check_homomorphism` function is broken f...</td>\n",
       "      <td>0.0</td>\n",
       "      <td>The test patch tests the code raising error in...</td>\n",
       "      <td>0.0</td>\n",
       "      <td>NaN</td>\n",
       "      <td>15 min - 1 hour</td>\n",
       "      <td>28</td>\n",
       "      <td>28</td>\n",
       "      <td>28</td>\n",
       "      <td>[28, 9, 12]</td>\n",
       "      <td>majority</td>\n",
       "      <td>False</td>\n",
       "    </tr>\n",
       "    <tr>\n",
       "      <th>1694</th>\n",
       "      <td>sympy__sympy-24539</td>\n",
       "      <td>0.0</td>\n",
       "      <td>The issue is crystal clear in the ticket. It s...</td>\n",
       "      <td>1.0</td>\n",
       "      <td>The tests specifically check whether the `as_e...</td>\n",
       "      <td>0.0</td>\n",
       "      <td>NaN</td>\n",
       "      <td>&lt;15 min fix</td>\n",
       "      <td>7</td>\n",
       "      <td>43</td>\n",
       "      <td>7</td>\n",
       "      <td>[7, 44, 43]</td>\n",
       "      <td>majority</td>\n",
       "      <td>False</td>\n",
       "    </tr>\n",
       "    <tr>\n",
       "      <th>1695</th>\n",
       "      <td>sympy__sympy-24562</td>\n",
       "      <td>0.0</td>\n",
       "      <td>The issue raises a bug where the output of `Ra...</td>\n",
       "      <td>0.0</td>\n",
       "      <td>The tests check that the value of `Rational(p,...</td>\n",
       "      <td>0.0</td>\n",
       "      <td>NaN</td>\n",
       "      <td>&lt;15 min fix</td>\n",
       "      <td>65</td>\n",
       "      <td>65</td>\n",
       "      <td>65</td>\n",
       "      <td>[13, 7]</td>\n",
       "      <td>majority</td>\n",
       "      <td>False</td>\n",
       "    </tr>\n",
       "    <tr>\n",
       "      <th>1696</th>\n",
       "      <td>sympy__sympy-24661</td>\n",
       "      <td>0.0</td>\n",
       "      <td>The ticket is very clear. The issue is that th...</td>\n",
       "      <td>0.0</td>\n",
       "      <td>The tests are testing all the relational possi...</td>\n",
       "      <td>0.0</td>\n",
       "      <td>NaN</td>\n",
       "      <td>15 min - 1 hour</td>\n",
       "      <td>7</td>\n",
       "      <td>7</td>\n",
       "      <td>7</td>\n",
       "      <td>[7, 10]</td>\n",
       "      <td>majority</td>\n",
       "      <td>False</td>\n",
       "    </tr>\n",
       "    <tr>\n",
       "      <th>1697</th>\n",
       "      <td>sympy__sympy-24723</td>\n",
       "      <td>1.0</td>\n",
       "      <td>Sympy is returning the wrong constant in the P...</td>\n",
       "      <td>0.0</td>\n",
       "      <td>The test confirms the result of the formula is...</td>\n",
       "      <td>0.0</td>\n",
       "      <td>NaN</td>\n",
       "      <td>&lt;15 min fix</td>\n",
       "      <td>59</td>\n",
       "      <td>78</td>\n",
       "      <td>78</td>\n",
       "      <td>[78, 59, 72]</td>\n",
       "      <td>majority</td>\n",
       "      <td>False</td>\n",
       "    </tr>\n",
       "  </tbody>\n",
       "</table>\n",
       "<p>539 rows × 14 columns</p>\n",
       "</div>"
      ]
     },
     "execution_count": 6,
     "metadata": {},
     "output_type": "execute_result"
    }
   ],
   "execution_count": 6
  },
  {
   "metadata": {},
   "cell_type": "markdown",
   "source": "We note that of the samples that 539 samples remain. That means there are still 39 more than ended up in the final SWE-Bench. The authors state that they attempt to maximize the amount of difficult samples present and then randomly sample the rest. Thus we will need to use external `instance_id` from the actual dataset to get the annotation data for the dataset.",
   "id": "43a285bf54e7195"
  },
  {
   "metadata": {
    "ExecuteTime": {
     "end_time": "2024-11-05T07:47:55.006842Z",
     "start_time": "2024-11-05T07:47:55.003777Z"
    }
   },
   "cell_type": "code",
   "source": "swe_verified_tasks = open('conf/swe_verified_tasks.txt', mode='r').read().splitlines()",
   "id": "ec4ca9d2c698c2f4",
   "outputs": [],
   "execution_count": 7
  },
  {
   "metadata": {
    "ExecuteTime": {
     "end_time": "2024-11-05T07:47:55.925183Z",
     "start_time": "2024-11-05T07:47:55.920986Z"
    }
   },
   "cell_type": "code",
   "source": "ensembled_annotation_data = ensembled_annotation_data[ensembled_annotation_data['instance_id'].isin(swe_verified_tasks)]",
   "id": "53caa05539fd45c4",
   "outputs": [],
   "execution_count": 8
  },
  {
   "metadata": {
    "ExecuteTime": {
     "end_time": "2024-11-05T07:49:37.648745Z",
     "start_time": "2024-11-05T07:49:37.642879Z"
    }
   },
   "cell_type": "code",
   "source": "ensembled_annotation_data[['instance_id','underspecified','false_negative', 'difficulty','other_major_issues']]",
   "id": "28f9fdcae0e07098",
   "outputs": [
    {
     "data": {
      "text/plain": [
       "                 instance_id  underspecified  false_negative       difficulty  \\\n",
       "6     astropy__astropy-12907             1.0             0.0  15 min - 1 hour   \n",
       "9     astropy__astropy-13033             1.0             1.0  15 min - 1 hour   \n",
       "15    astropy__astropy-13236             1.0             0.0  15 min - 1 hour   \n",
       "18    astropy__astropy-13398             0.0             0.0        1-4 hours   \n",
       "20    astropy__astropy-13453             0.0             0.0  15 min - 1 hour   \n",
       "...                      ...             ...             ...              ...   \n",
       "1688      sympy__sympy-24213             1.0             0.0  15 min - 1 hour   \n",
       "1692      sympy__sympy-24443             1.0             0.0  15 min - 1 hour   \n",
       "1694      sympy__sympy-24539             0.0             1.0      <15 min fix   \n",
       "1695      sympy__sympy-24562             0.0             0.0      <15 min fix   \n",
       "1696      sympy__sympy-24661             0.0             0.0  15 min - 1 hour   \n",
       "\n",
       "      other_major_issues  \n",
       "6                    0.0  \n",
       "9                    0.0  \n",
       "15                   0.0  \n",
       "18                   0.0  \n",
       "20                   0.0  \n",
       "...                  ...  \n",
       "1688                 0.0  \n",
       "1692                 0.0  \n",
       "1694                 0.0  \n",
       "1695                 0.0  \n",
       "1696                 0.0  \n",
       "\n",
       "[500 rows x 5 columns]"
      ],
      "text/html": [
       "<div>\n",
       "<style scoped>\n",
       "    .dataframe tbody tr th:only-of-type {\n",
       "        vertical-align: middle;\n",
       "    }\n",
       "\n",
       "    .dataframe tbody tr th {\n",
       "        vertical-align: top;\n",
       "    }\n",
       "\n",
       "    .dataframe thead th {\n",
       "        text-align: right;\n",
       "    }\n",
       "</style>\n",
       "<table border=\"1\" class=\"dataframe\">\n",
       "  <thead>\n",
       "    <tr style=\"text-align: right;\">\n",
       "      <th></th>\n",
       "      <th>instance_id</th>\n",
       "      <th>underspecified</th>\n",
       "      <th>false_negative</th>\n",
       "      <th>difficulty</th>\n",
       "      <th>other_major_issues</th>\n",
       "    </tr>\n",
       "  </thead>\n",
       "  <tbody>\n",
       "    <tr>\n",
       "      <th>6</th>\n",
       "      <td>astropy__astropy-12907</td>\n",
       "      <td>1.0</td>\n",
       "      <td>0.0</td>\n",
       "      <td>15 min - 1 hour</td>\n",
       "      <td>0.0</td>\n",
       "    </tr>\n",
       "    <tr>\n",
       "      <th>9</th>\n",
       "      <td>astropy__astropy-13033</td>\n",
       "      <td>1.0</td>\n",
       "      <td>1.0</td>\n",
       "      <td>15 min - 1 hour</td>\n",
       "      <td>0.0</td>\n",
       "    </tr>\n",
       "    <tr>\n",
       "      <th>15</th>\n",
       "      <td>astropy__astropy-13236</td>\n",
       "      <td>1.0</td>\n",
       "      <td>0.0</td>\n",
       "      <td>15 min - 1 hour</td>\n",
       "      <td>0.0</td>\n",
       "    </tr>\n",
       "    <tr>\n",
       "      <th>18</th>\n",
       "      <td>astropy__astropy-13398</td>\n",
       "      <td>0.0</td>\n",
       "      <td>0.0</td>\n",
       "      <td>1-4 hours</td>\n",
       "      <td>0.0</td>\n",
       "    </tr>\n",
       "    <tr>\n",
       "      <th>20</th>\n",
       "      <td>astropy__astropy-13453</td>\n",
       "      <td>0.0</td>\n",
       "      <td>0.0</td>\n",
       "      <td>15 min - 1 hour</td>\n",
       "      <td>0.0</td>\n",
       "    </tr>\n",
       "    <tr>\n",
       "      <th>...</th>\n",
       "      <td>...</td>\n",
       "      <td>...</td>\n",
       "      <td>...</td>\n",
       "      <td>...</td>\n",
       "      <td>...</td>\n",
       "    </tr>\n",
       "    <tr>\n",
       "      <th>1688</th>\n",
       "      <td>sympy__sympy-24213</td>\n",
       "      <td>1.0</td>\n",
       "      <td>0.0</td>\n",
       "      <td>15 min - 1 hour</td>\n",
       "      <td>0.0</td>\n",
       "    </tr>\n",
       "    <tr>\n",
       "      <th>1692</th>\n",
       "      <td>sympy__sympy-24443</td>\n",
       "      <td>1.0</td>\n",
       "      <td>0.0</td>\n",
       "      <td>15 min - 1 hour</td>\n",
       "      <td>0.0</td>\n",
       "    </tr>\n",
       "    <tr>\n",
       "      <th>1694</th>\n",
       "      <td>sympy__sympy-24539</td>\n",
       "      <td>0.0</td>\n",
       "      <td>1.0</td>\n",
       "      <td>&lt;15 min fix</td>\n",
       "      <td>0.0</td>\n",
       "    </tr>\n",
       "    <tr>\n",
       "      <th>1695</th>\n",
       "      <td>sympy__sympy-24562</td>\n",
       "      <td>0.0</td>\n",
       "      <td>0.0</td>\n",
       "      <td>&lt;15 min fix</td>\n",
       "      <td>0.0</td>\n",
       "    </tr>\n",
       "    <tr>\n",
       "      <th>1696</th>\n",
       "      <td>sympy__sympy-24661</td>\n",
       "      <td>0.0</td>\n",
       "      <td>0.0</td>\n",
       "      <td>15 min - 1 hour</td>\n",
       "      <td>0.0</td>\n",
       "    </tr>\n",
       "  </tbody>\n",
       "</table>\n",
       "<p>500 rows × 5 columns</p>\n",
       "</div>"
      ]
     },
     "execution_count": 12,
     "metadata": {},
     "output_type": "execute_result"
    }
   ],
   "execution_count": 12
  },
  {
   "metadata": {},
   "cell_type": "markdown",
   "source": "## Explore annotation data for SWE-Bench Verified samples",
   "id": "b76e48a3c42f1d8"
  },
  {
   "metadata": {},
   "cell_type": "markdown",
   "source": [
    "## Collect resolution metadata\n",
    "\n",
    "We want to know which samples were solved by how many approaches and by which, we can take this into account when deciding how we construct the train-test splits."
   ],
   "id": "3067ff4a92f079b3"
  },
  {
   "metadata": {
    "ExecuteTime": {
     "end_time": "2024-10-30T14:58:50.125737Z",
     "start_time": "2024-10-30T14:58:50.122019Z"
    }
   },
   "cell_type": "code",
   "source": [
    "path_to_coding_dir = '/'.join(os.getcwd().split('/')[0:-1])\n",
    "path_to_swe_bench_verified_experiments = 'overall-swe-bench-leaderboard-data/evaluation/verified'\n",
    "swe_bench_verified_resolution_data = []"
   ],
   "id": "4e9fcf779106ab57",
   "outputs": [],
   "execution_count": 110
  },
  {
   "metadata": {
    "ExecuteTime": {
     "end_time": "2024-10-30T14:58:50.561086Z",
     "start_time": "2024-10-30T14:58:50.558331Z"
    }
   },
   "cell_type": "code",
   "source": [
    "for instance in swe_verified_tasks:\n",
    "    swe_bench_verified_resolution_data.append({'instance_id': instance, 'was_resolved': False, 'times_solved': 0, 'solved_by': [], 'unsolved_by': []})"
   ],
   "id": "c20a044d3433d265",
   "outputs": [],
   "execution_count": 111
  },
  {
   "metadata": {
    "ExecuteTime": {
     "end_time": "2024-10-30T14:58:51.901583Z",
     "start_time": "2024-10-30T14:58:51.897052Z"
    }
   },
   "cell_type": "code",
   "source": "swe_bench_verified_resolution_data = pd.DataFrame(swe_bench_verified_resolution_data)",
   "id": "140a15151e003c66",
   "outputs": [],
   "execution_count": 112
  },
  {
   "metadata": {
    "ExecuteTime": {
     "end_time": "2024-10-30T14:58:52.544689Z",
     "start_time": "2024-10-30T14:58:52.477628Z"
    }
   },
   "cell_type": "code",
   "source": [
    "for dirpath, dirnames, filenames in os.walk(path_to_swe_bench_verified_experiments):\n",
    "    if 'results' in dirpath:\n",
    "        # We are in the deepest subdirectory for this approach, the results are located here\n",
    "        approach_slug = dirpath.split('/')[-2]\n",
    "        \n",
    "        with open(os.path.join(dirpath, 'results.json'), 'r') as f:\n",
    "            results = json.loads(f.read())\n",
    "            resolved_instances = results['resolved']\n",
    "            swe_bench_verified_resolution_data.loc[swe_bench_verified_resolution_data['instance_id'].isin(resolved_instances), 'was_resolved'] = True\n",
    "            swe_bench_verified_resolution_data.loc[swe_bench_verified_resolution_data['instance_id'].isin(resolved_instances), 'times_solved'] += 1\n",
    "            swe_bench_verified_resolution_data.loc[swe_bench_verified_resolution_data['instance_id'].isin(resolved_instances), 'solved_by'].apply(lambda x: x.append(approach_slug))\n",
    "            swe_bench_verified_resolution_data.loc[~swe_bench_verified_resolution_data['instance_id'].isin(resolved_instances), 'unsolved_by'].apply(lambda x: x.append(approach_slug))"
   ],
   "id": "c4a6c9c3efa76741",
   "outputs": [],
   "execution_count": 113
  },
  {
   "metadata": {
    "ExecuteTime": {
     "end_time": "2024-10-30T14:58:53.977554Z",
     "start_time": "2024-10-30T14:58:53.970257Z"
    }
   },
   "cell_type": "code",
   "source": "swe_bench_verified_resolution_data.to_json(os.path.join(os.getcwd(), 'swe_bench_verified_resolution_data.json'), indent=4, orient='records', force_ascii=False)",
   "id": "d839677e4e991816",
   "outputs": [],
   "execution_count": 114
  },
  {
   "metadata": {},
   "cell_type": "markdown",
   "source": "## Explore results and develop dataset splitting procedure",
   "id": "a2255dc61f53c1e8"
  },
  {
   "metadata": {
    "ExecuteTime": {
     "end_time": "2024-11-05T07:50:56.211815Z",
     "start_time": "2024-11-05T07:50:56.206646Z"
    }
   },
   "cell_type": "code",
   "source": "swe_bench_verified_resolution_data = json.loads(open(os.path.join(os.getcwd(), 'swe_bench_verified_resolution_data.json')).read())",
   "id": "8d59f5e92b2d9309",
   "outputs": [],
   "execution_count": 14
  },
  {
   "metadata": {
    "ExecuteTime": {
     "end_time": "2024-11-05T07:51:42.364743Z",
     "start_time": "2024-11-05T07:51:42.362286Z"
    }
   },
   "cell_type": "code",
   "source": "swe_bench_verified_resolution_data = pd.DataFrame(swe_bench_verified_resolution_data)",
   "id": "5d887e6fde00c384",
   "outputs": [],
   "execution_count": 17
  },
  {
   "metadata": {
    "ExecuteTime": {
     "end_time": "2024-11-05T07:51:43.727861Z",
     "start_time": "2024-11-05T07:51:43.723625Z"
    }
   },
   "cell_type": "code",
   "source": "swe_bench_verified_resolution_data.was_resolved.value_counts()",
   "id": "759c9d9311d06169",
   "outputs": [
    {
     "data": {
      "text/plain": [
       "was_resolved\n",
       "True     390\n",
       "False    110\n",
       "Name: count, dtype: int64"
      ]
     },
     "execution_count": 18,
     "metadata": {},
     "output_type": "execute_result"
    }
   ],
   "execution_count": 18
  },
  {
   "metadata": {
    "ExecuteTime": {
     "end_time": "2024-10-30T14:58:56.471076Z",
     "start_time": "2024-10-30T14:58:56.464392Z"
    }
   },
   "cell_type": "code",
   "source": "swe_bench_verified_resolution_data.times_solved.value_counts()",
   "id": "19f8f4e25f3f3021",
   "outputs": [
    {
     "data": {
      "text/plain": [
       "times_solved\n",
       "0     110\n",
       "1      31\n",
       "2      28\n",
       "4      25\n",
       "3      18\n",
       "21     16\n",
       "7      15\n",
       "27     15\n",
       "14     14\n",
       "15     14\n",
       "5      13\n",
       "10     13\n",
       "17     12\n",
       "18     12\n",
       "8      12\n",
       "6      12\n",
       "19     12\n",
       "26     11\n",
       "12     11\n",
       "13     11\n",
       "23     10\n",
       "30      9\n",
       "31      9\n",
       "28      9\n",
       "22      8\n",
       "11      8\n",
       "29      7\n",
       "25      7\n",
       "20      7\n",
       "16      7\n",
       "24      6\n",
       "9       6\n",
       "32      2\n",
       "Name: count, dtype: int64"
      ]
     },
     "execution_count": 116,
     "metadata": {},
     "output_type": "execute_result"
    }
   ],
   "execution_count": 116
  },
  {
   "metadata": {
    "ExecuteTime": {
     "end_time": "2024-10-30T14:58:57.483432Z",
     "start_time": "2024-10-30T14:58:57.444442Z"
    }
   },
   "cell_type": "code",
   "source": "swe_bench_verified_resolution_data[swe_bench_verified_resolution_data['times_solved'] == 1]",
   "id": "c8615fea507de99",
   "outputs": [
    {
     "data": {
      "text/plain": [
       "                          instance_id  was_resolved  times_solved  \\\n",
       "2              astropy__astropy-13236          True             1   \n",
       "11             astropy__astropy-14369          True             1   \n",
       "14             astropy__astropy-14598          True             1   \n",
       "45               django__django-11299          True             1   \n",
       "77               django__django-12273          True             1   \n",
       "89               django__django-12774          True             1   \n",
       "98               django__django-13112          True             1   \n",
       "112              django__django-13406          True             1   \n",
       "175              django__django-15037          True             1   \n",
       "202              django__django-15695          True             1   \n",
       "204              django__django-15732          True             1   \n",
       "209              django__django-15916          True             1   \n",
       "232              django__django-16560          True             1   \n",
       "246              django__django-16938          True             1   \n",
       "254      matplotlib__matplotlib-14623          True             1   \n",
       "263      matplotlib__matplotlib-23299          True             1   \n",
       "266      matplotlib__matplotlib-23476          True             1   \n",
       "287             mwaskom__seaborn-3069          True             1   \n",
       "305               pydata__xarray-4094          True             1   \n",
       "309               pydata__xarray-4695          True             1   \n",
       "329           pylint-dev__pylint-8898          True             1   \n",
       "375  scikit-learn__scikit-learn-25747          True             1   \n",
       "381          sphinx-doc__sphinx-10323          True             1   \n",
       "397           sphinx-doc__sphinx-7985          True             1   \n",
       "407           sphinx-doc__sphinx-8593          True             1   \n",
       "413           sphinx-doc__sphinx-9230          True             1   \n",
       "414           sphinx-doc__sphinx-9258          True             1   \n",
       "435                sympy__sympy-13615          True             1   \n",
       "438                sympy__sympy-13798          True             1   \n",
       "442                sympy__sympy-13974          True             1   \n",
       "468                sympy__sympy-19040          True             1   \n",
       "\n",
       "                                            solved_by  \\\n",
       "2                                      [20240824_gru]   \n",
       "11   [20241029_OpenHands-CodeAct-2.1-sonnet-20241022]   \n",
       "14   [20241029_OpenHands-CodeAct-2.1-sonnet-20241022]   \n",
       "45                         [20241025_composio_swekit]   \n",
       "77                         [20241025_composio_swekit]   \n",
       "89                                     [20240824_gru]   \n",
       "98         [20241022_tools_claude-3-5-sonnet-updated]   \n",
       "112  [20241029_OpenHands-CodeAct-2.1-sonnet-20241022]   \n",
       "175                 [20241022_tools_claude-3-5-haiku]   \n",
       "202                               [20241023_emergent]   \n",
       "204                               [20241023_emergent]   \n",
       "209  [20241029_OpenHands-CodeAct-2.1-sonnet-20241022]   \n",
       "232                 [20241022_tools_claude-3-5-haiku]   \n",
       "246                               [20241023_emergent]   \n",
       "254                                 [20240920_solver]   \n",
       "263  [20240721_amazon-q-developer-agent-20240719-dev]   \n",
       "266                                 [20241028_solver]   \n",
       "287                                 [20240924_solver]   \n",
       "305  [20241029_OpenHands-CodeAct-2.1-sonnet-20241022]   \n",
       "309        [20241022_tools_claude-3-5-sonnet-updated]   \n",
       "329          [20241029_epam-ai-run-claude-3-5-sonnet]   \n",
       "375                        [20241025_composio_swekit]   \n",
       "381                                    [20240824_gru]   \n",
       "397        [20241022_tools_claude-3-5-sonnet-updated]   \n",
       "407  [20241029_OpenHands-CodeAct-2.1-sonnet-20241022]   \n",
       "413  [20241029_OpenHands-CodeAct-2.1-sonnet-20241022]   \n",
       "414  [20241029_OpenHands-CodeAct-2.1-sonnet-20241022]   \n",
       "435                              [20240820_honeycomb]   \n",
       "438                          [20240402_sweagent_gpt4]   \n",
       "442                     [20240617_factory_code_droid]   \n",
       "468                    [20241028_agentless-1.5_gpt4o]   \n",
       "\n",
       "                                           unsolved_by  \n",
       "2    [20240721_amazon-q-developer-agent-20240719-de...  \n",
       "11   [20240721_amazon-q-developer-agent-20240719-de...  \n",
       "14   [20240721_amazon-q-developer-agent-20240719-de...  \n",
       "45   [20240721_amazon-q-developer-agent-20240719-de...  \n",
       "77   [20240721_amazon-q-developer-agent-20240719-de...  \n",
       "89   [20240721_amazon-q-developer-agent-20240719-de...  \n",
       "98   [20240721_amazon-q-developer-agent-20240719-de...  \n",
       "112  [20240721_amazon-q-developer-agent-20240719-de...  \n",
       "175  [20240721_amazon-q-developer-agent-20240719-de...  \n",
       "202  [20240721_amazon-q-developer-agent-20240719-de...  \n",
       "204  [20240721_amazon-q-developer-agent-20240719-de...  \n",
       "209  [20240721_amazon-q-developer-agent-20240719-de...  \n",
       "232  [20240721_amazon-q-developer-agent-20240719-de...  \n",
       "246  [20240721_amazon-q-developer-agent-20240719-de...  \n",
       "254  [20240721_amazon-q-developer-agent-20240719-de...  \n",
       "263  [20240615_appmap-navie_gpt4o, 20240509_amazon-...  \n",
       "266  [20240721_amazon-q-developer-agent-20240719-de...  \n",
       "287  [20240721_amazon-q-developer-agent-20240719-de...  \n",
       "305  [20240721_amazon-q-developer-agent-20240719-de...  \n",
       "309  [20240721_amazon-q-developer-agent-20240719-de...  \n",
       "329  [20240721_amazon-q-developer-agent-20240719-de...  \n",
       "375  [20240721_amazon-q-developer-agent-20240719-de...  \n",
       "381  [20240721_amazon-q-developer-agent-20240719-de...  \n",
       "397  [20240721_amazon-q-developer-agent-20240719-de...  \n",
       "407  [20240721_amazon-q-developer-agent-20240719-de...  \n",
       "413  [20240721_amazon-q-developer-agent-20240719-de...  \n",
       "414  [20240721_amazon-q-developer-agent-20240719-de...  \n",
       "435  [20240721_amazon-q-developer-agent-20240719-de...  \n",
       "438  [20240721_amazon-q-developer-agent-20240719-de...  \n",
       "442  [20240721_amazon-q-developer-agent-20240719-de...  \n",
       "468  [20240721_amazon-q-developer-agent-20240719-de...  "
      ],
      "text/html": [
       "<div>\n",
       "<style scoped>\n",
       "    .dataframe tbody tr th:only-of-type {\n",
       "        vertical-align: middle;\n",
       "    }\n",
       "\n",
       "    .dataframe tbody tr th {\n",
       "        vertical-align: top;\n",
       "    }\n",
       "\n",
       "    .dataframe thead th {\n",
       "        text-align: right;\n",
       "    }\n",
       "</style>\n",
       "<table border=\"1\" class=\"dataframe\">\n",
       "  <thead>\n",
       "    <tr style=\"text-align: right;\">\n",
       "      <th></th>\n",
       "      <th>instance_id</th>\n",
       "      <th>was_resolved</th>\n",
       "      <th>times_solved</th>\n",
       "      <th>solved_by</th>\n",
       "      <th>unsolved_by</th>\n",
       "    </tr>\n",
       "  </thead>\n",
       "  <tbody>\n",
       "    <tr>\n",
       "      <th>2</th>\n",
       "      <td>astropy__astropy-13236</td>\n",
       "      <td>True</td>\n",
       "      <td>1</td>\n",
       "      <td>[20240824_gru]</td>\n",
       "      <td>[20240721_amazon-q-developer-agent-20240719-de...</td>\n",
       "    </tr>\n",
       "    <tr>\n",
       "      <th>11</th>\n",
       "      <td>astropy__astropy-14369</td>\n",
       "      <td>True</td>\n",
       "      <td>1</td>\n",
       "      <td>[20241029_OpenHands-CodeAct-2.1-sonnet-20241022]</td>\n",
       "      <td>[20240721_amazon-q-developer-agent-20240719-de...</td>\n",
       "    </tr>\n",
       "    <tr>\n",
       "      <th>14</th>\n",
       "      <td>astropy__astropy-14598</td>\n",
       "      <td>True</td>\n",
       "      <td>1</td>\n",
       "      <td>[20241029_OpenHands-CodeAct-2.1-sonnet-20241022]</td>\n",
       "      <td>[20240721_amazon-q-developer-agent-20240719-de...</td>\n",
       "    </tr>\n",
       "    <tr>\n",
       "      <th>45</th>\n",
       "      <td>django__django-11299</td>\n",
       "      <td>True</td>\n",
       "      <td>1</td>\n",
       "      <td>[20241025_composio_swekit]</td>\n",
       "      <td>[20240721_amazon-q-developer-agent-20240719-de...</td>\n",
       "    </tr>\n",
       "    <tr>\n",
       "      <th>77</th>\n",
       "      <td>django__django-12273</td>\n",
       "      <td>True</td>\n",
       "      <td>1</td>\n",
       "      <td>[20241025_composio_swekit]</td>\n",
       "      <td>[20240721_amazon-q-developer-agent-20240719-de...</td>\n",
       "    </tr>\n",
       "    <tr>\n",
       "      <th>89</th>\n",
       "      <td>django__django-12774</td>\n",
       "      <td>True</td>\n",
       "      <td>1</td>\n",
       "      <td>[20240824_gru]</td>\n",
       "      <td>[20240721_amazon-q-developer-agent-20240719-de...</td>\n",
       "    </tr>\n",
       "    <tr>\n",
       "      <th>98</th>\n",
       "      <td>django__django-13112</td>\n",
       "      <td>True</td>\n",
       "      <td>1</td>\n",
       "      <td>[20241022_tools_claude-3-5-sonnet-updated]</td>\n",
       "      <td>[20240721_amazon-q-developer-agent-20240719-de...</td>\n",
       "    </tr>\n",
       "    <tr>\n",
       "      <th>112</th>\n",
       "      <td>django__django-13406</td>\n",
       "      <td>True</td>\n",
       "      <td>1</td>\n",
       "      <td>[20241029_OpenHands-CodeAct-2.1-sonnet-20241022]</td>\n",
       "      <td>[20240721_amazon-q-developer-agent-20240719-de...</td>\n",
       "    </tr>\n",
       "    <tr>\n",
       "      <th>175</th>\n",
       "      <td>django__django-15037</td>\n",
       "      <td>True</td>\n",
       "      <td>1</td>\n",
       "      <td>[20241022_tools_claude-3-5-haiku]</td>\n",
       "      <td>[20240721_amazon-q-developer-agent-20240719-de...</td>\n",
       "    </tr>\n",
       "    <tr>\n",
       "      <th>202</th>\n",
       "      <td>django__django-15695</td>\n",
       "      <td>True</td>\n",
       "      <td>1</td>\n",
       "      <td>[20241023_emergent]</td>\n",
       "      <td>[20240721_amazon-q-developer-agent-20240719-de...</td>\n",
       "    </tr>\n",
       "    <tr>\n",
       "      <th>204</th>\n",
       "      <td>django__django-15732</td>\n",
       "      <td>True</td>\n",
       "      <td>1</td>\n",
       "      <td>[20241023_emergent]</td>\n",
       "      <td>[20240721_amazon-q-developer-agent-20240719-de...</td>\n",
       "    </tr>\n",
       "    <tr>\n",
       "      <th>209</th>\n",
       "      <td>django__django-15916</td>\n",
       "      <td>True</td>\n",
       "      <td>1</td>\n",
       "      <td>[20241029_OpenHands-CodeAct-2.1-sonnet-20241022]</td>\n",
       "      <td>[20240721_amazon-q-developer-agent-20240719-de...</td>\n",
       "    </tr>\n",
       "    <tr>\n",
       "      <th>232</th>\n",
       "      <td>django__django-16560</td>\n",
       "      <td>True</td>\n",
       "      <td>1</td>\n",
       "      <td>[20241022_tools_claude-3-5-haiku]</td>\n",
       "      <td>[20240721_amazon-q-developer-agent-20240719-de...</td>\n",
       "    </tr>\n",
       "    <tr>\n",
       "      <th>246</th>\n",
       "      <td>django__django-16938</td>\n",
       "      <td>True</td>\n",
       "      <td>1</td>\n",
       "      <td>[20241023_emergent]</td>\n",
       "      <td>[20240721_amazon-q-developer-agent-20240719-de...</td>\n",
       "    </tr>\n",
       "    <tr>\n",
       "      <th>254</th>\n",
       "      <td>matplotlib__matplotlib-14623</td>\n",
       "      <td>True</td>\n",
       "      <td>1</td>\n",
       "      <td>[20240920_solver]</td>\n",
       "      <td>[20240721_amazon-q-developer-agent-20240719-de...</td>\n",
       "    </tr>\n",
       "    <tr>\n",
       "      <th>263</th>\n",
       "      <td>matplotlib__matplotlib-23299</td>\n",
       "      <td>True</td>\n",
       "      <td>1</td>\n",
       "      <td>[20240721_amazon-q-developer-agent-20240719-dev]</td>\n",
       "      <td>[20240615_appmap-navie_gpt4o, 20240509_amazon-...</td>\n",
       "    </tr>\n",
       "    <tr>\n",
       "      <th>266</th>\n",
       "      <td>matplotlib__matplotlib-23476</td>\n",
       "      <td>True</td>\n",
       "      <td>1</td>\n",
       "      <td>[20241028_solver]</td>\n",
       "      <td>[20240721_amazon-q-developer-agent-20240719-de...</td>\n",
       "    </tr>\n",
       "    <tr>\n",
       "      <th>287</th>\n",
       "      <td>mwaskom__seaborn-3069</td>\n",
       "      <td>True</td>\n",
       "      <td>1</td>\n",
       "      <td>[20240924_solver]</td>\n",
       "      <td>[20240721_amazon-q-developer-agent-20240719-de...</td>\n",
       "    </tr>\n",
       "    <tr>\n",
       "      <th>305</th>\n",
       "      <td>pydata__xarray-4094</td>\n",
       "      <td>True</td>\n",
       "      <td>1</td>\n",
       "      <td>[20241029_OpenHands-CodeAct-2.1-sonnet-20241022]</td>\n",
       "      <td>[20240721_amazon-q-developer-agent-20240719-de...</td>\n",
       "    </tr>\n",
       "    <tr>\n",
       "      <th>309</th>\n",
       "      <td>pydata__xarray-4695</td>\n",
       "      <td>True</td>\n",
       "      <td>1</td>\n",
       "      <td>[20241022_tools_claude-3-5-sonnet-updated]</td>\n",
       "      <td>[20240721_amazon-q-developer-agent-20240719-de...</td>\n",
       "    </tr>\n",
       "    <tr>\n",
       "      <th>329</th>\n",
       "      <td>pylint-dev__pylint-8898</td>\n",
       "      <td>True</td>\n",
       "      <td>1</td>\n",
       "      <td>[20241029_epam-ai-run-claude-3-5-sonnet]</td>\n",
       "      <td>[20240721_amazon-q-developer-agent-20240719-de...</td>\n",
       "    </tr>\n",
       "    <tr>\n",
       "      <th>375</th>\n",
       "      <td>scikit-learn__scikit-learn-25747</td>\n",
       "      <td>True</td>\n",
       "      <td>1</td>\n",
       "      <td>[20241025_composio_swekit]</td>\n",
       "      <td>[20240721_amazon-q-developer-agent-20240719-de...</td>\n",
       "    </tr>\n",
       "    <tr>\n",
       "      <th>381</th>\n",
       "      <td>sphinx-doc__sphinx-10323</td>\n",
       "      <td>True</td>\n",
       "      <td>1</td>\n",
       "      <td>[20240824_gru]</td>\n",
       "      <td>[20240721_amazon-q-developer-agent-20240719-de...</td>\n",
       "    </tr>\n",
       "    <tr>\n",
       "      <th>397</th>\n",
       "      <td>sphinx-doc__sphinx-7985</td>\n",
       "      <td>True</td>\n",
       "      <td>1</td>\n",
       "      <td>[20241022_tools_claude-3-5-sonnet-updated]</td>\n",
       "      <td>[20240721_amazon-q-developer-agent-20240719-de...</td>\n",
       "    </tr>\n",
       "    <tr>\n",
       "      <th>407</th>\n",
       "      <td>sphinx-doc__sphinx-8593</td>\n",
       "      <td>True</td>\n",
       "      <td>1</td>\n",
       "      <td>[20241029_OpenHands-CodeAct-2.1-sonnet-20241022]</td>\n",
       "      <td>[20240721_amazon-q-developer-agent-20240719-de...</td>\n",
       "    </tr>\n",
       "    <tr>\n",
       "      <th>413</th>\n",
       "      <td>sphinx-doc__sphinx-9230</td>\n",
       "      <td>True</td>\n",
       "      <td>1</td>\n",
       "      <td>[20241029_OpenHands-CodeAct-2.1-sonnet-20241022]</td>\n",
       "      <td>[20240721_amazon-q-developer-agent-20240719-de...</td>\n",
       "    </tr>\n",
       "    <tr>\n",
       "      <th>414</th>\n",
       "      <td>sphinx-doc__sphinx-9258</td>\n",
       "      <td>True</td>\n",
       "      <td>1</td>\n",
       "      <td>[20241029_OpenHands-CodeAct-2.1-sonnet-20241022]</td>\n",
       "      <td>[20240721_amazon-q-developer-agent-20240719-de...</td>\n",
       "    </tr>\n",
       "    <tr>\n",
       "      <th>435</th>\n",
       "      <td>sympy__sympy-13615</td>\n",
       "      <td>True</td>\n",
       "      <td>1</td>\n",
       "      <td>[20240820_honeycomb]</td>\n",
       "      <td>[20240721_amazon-q-developer-agent-20240719-de...</td>\n",
       "    </tr>\n",
       "    <tr>\n",
       "      <th>438</th>\n",
       "      <td>sympy__sympy-13798</td>\n",
       "      <td>True</td>\n",
       "      <td>1</td>\n",
       "      <td>[20240402_sweagent_gpt4]</td>\n",
       "      <td>[20240721_amazon-q-developer-agent-20240719-de...</td>\n",
       "    </tr>\n",
       "    <tr>\n",
       "      <th>442</th>\n",
       "      <td>sympy__sympy-13974</td>\n",
       "      <td>True</td>\n",
       "      <td>1</td>\n",
       "      <td>[20240617_factory_code_droid]</td>\n",
       "      <td>[20240721_amazon-q-developer-agent-20240719-de...</td>\n",
       "    </tr>\n",
       "    <tr>\n",
       "      <th>468</th>\n",
       "      <td>sympy__sympy-19040</td>\n",
       "      <td>True</td>\n",
       "      <td>1</td>\n",
       "      <td>[20241028_agentless-1.5_gpt4o]</td>\n",
       "      <td>[20240721_amazon-q-developer-agent-20240719-de...</td>\n",
       "    </tr>\n",
       "  </tbody>\n",
       "</table>\n",
       "</div>"
      ]
     },
     "execution_count": 117,
     "metadata": {},
     "output_type": "execute_result"
    }
   ],
   "execution_count": 117
  },
  {
   "metadata": {
    "ExecuteTime": {
     "end_time": "2024-11-05T08:24:27.979429Z",
     "start_time": "2024-11-05T08:24:27.964918Z"
    }
   },
   "cell_type": "code",
   "outputs": [
    {
     "data": {
      "text/plain": [
       "                instance_id  underspecified  \\\n",
       "0    astropy__astropy-12907             1.0   \n",
       "1    astropy__astropy-13033             1.0   \n",
       "2    astropy__astropy-13236             1.0   \n",
       "3    astropy__astropy-13398             0.0   \n",
       "4    astropy__astropy-13453             0.0   \n",
       "..                      ...             ...   \n",
       "495      sympy__sympy-24213             1.0   \n",
       "496      sympy__sympy-24443             1.0   \n",
       "497      sympy__sympy-24539             0.0   \n",
       "498      sympy__sympy-24562             0.0   \n",
       "499      sympy__sympy-24661             0.0   \n",
       "\n",
       "                                  underspecified_notes  false_negative  \\\n",
       "0    The issue description is clear, explaining tha...             0.0   \n",
       "1    The issue's concern is well understood. The va...             1.0   \n",
       "2    1. It is clearly suggested that automatic conv...             0.0   \n",
       "3    Issue description is well specified. It inform...             0.0   \n",
       "4    The issue description is very clear and well-o...             0.0   \n",
       "..                                                 ...             ...   \n",
       "495  The issue description is somewhat vague and co...             0.0   \n",
       "496  The `_check_homomorphism` function is broken f...             0.0   \n",
       "497  The issue is crystal clear in the ticket. It s...             1.0   \n",
       "498  The issue raises a bug where the output of `Ra...             0.0   \n",
       "499  The ticket is very clear. The issue is that th...             0.0   \n",
       "\n",
       "                                  false_negative_notes  other_major_issues  \\\n",
       "0    The goal of the test patch is to evaluate nest...                 0.0   \n",
       "1    The error message is raised is particular to t...                 0.0   \n",
       "2    1. Issue description wants the agent to remove...                 0.0   \n",
       "3    The tests are well scoped and cover all possib...                 0.0   \n",
       "4    The `test_write_table_formatted_columns` funct...                 0.0   \n",
       "..                                                 ...                 ...   \n",
       "495  The tests perfectly cover the issue highlighte...                 0.0   \n",
       "496  The test patch tests the code raising error in...                 0.0   \n",
       "497  The tests specifically check whether the `as_e...                 0.0   \n",
       "498  The tests check that the value of `Rational(p,...                 0.0   \n",
       "499  The tests are testing all the relational possi...                 0.0   \n",
       "\n",
       "    other_notes       difficulty  underspecified_decided_by  \\\n",
       "0           NaN  15 min - 1 hour                         75   \n",
       "1           NaN  15 min - 1 hour                         61   \n",
       "2           NaN  15 min - 1 hour                         71   \n",
       "3           NaN        1-4 hours                         12   \n",
       "4           NaN  15 min - 1 hour                         67   \n",
       "..          ...              ...                        ...   \n",
       "495         NaN  15 min - 1 hour                         31   \n",
       "496         NaN  15 min - 1 hour                         28   \n",
       "497         NaN      <15 min fix                          7   \n",
       "498         NaN      <15 min fix                         65   \n",
       "499         NaN  15 min - 1 hour                          7   \n",
       "\n",
       "     false_negative_decided_by  other_major_issues_decided_by  \\\n",
       "0                           75                             75   \n",
       "1                           61                             13   \n",
       "2                           71                             71   \n",
       "3                           12                             12   \n",
       "4                           67                             67   \n",
       "..                         ...                            ...   \n",
       "495                         31                             31   \n",
       "496                         28                             28   \n",
       "497                         43                              7   \n",
       "498                         65                             65   \n",
       "499                          7                              7   \n",
       "\n",
       "    difficulty_decided_by difficulty_ensemble_decision_procedure  filter_out  \\\n",
       "0                [75, 28]                               majority       False   \n",
       "1                [13, 17]                               majority       False   \n",
       "2                    [71]                                 median       False   \n",
       "3                [12, 62]                               majority       False   \n",
       "4                [61, 28]                               majority       False   \n",
       "..                    ...                                    ...         ...   \n",
       "495              [31, 39]                               majority       False   \n",
       "496           [28, 9, 12]                               majority       False   \n",
       "497           [7, 44, 43]                               majority       False   \n",
       "498               [13, 7]                               majority       False   \n",
       "499               [7, 10]                               majority       False   \n",
       "\n",
       "     was_resolved  times_solved  \\\n",
       "0            True             7   \n",
       "1           False             0   \n",
       "2            True             1   \n",
       "3           False             0   \n",
       "4            True             2   \n",
       "..            ...           ...   \n",
       "495          True            28   \n",
       "496          True            24   \n",
       "497          True            25   \n",
       "498         False             0   \n",
       "499          True            10   \n",
       "\n",
       "                                             solved_by  \\\n",
       "0    [20240920_solver, 20241028_agentless-1.5_gpt4o...   \n",
       "1                                                   []   \n",
       "2                                       [20240824_gru]   \n",
       "3                                                   []   \n",
       "4    [20241028_agentless-1.5_gpt4o, 20241022_tools_...   \n",
       "..                                                 ...   \n",
       "495  [20240721_amazon-q-developer-agent-20240719-de...   \n",
       "496  [20240615_appmap-navie_gpt4o, 20240628_autocod...   \n",
       "497  [20240721_amazon-q-developer-agent-20240719-de...   \n",
       "498                                                 []   \n",
       "499  [20240721_amazon-q-developer-agent-20240719-de...   \n",
       "\n",
       "                                           unsolved_by  \n",
       "0    [20240721_amazon-q-developer-agent-20240719-de...  \n",
       "1    [20240721_amazon-q-developer-agent-20240719-de...  \n",
       "2    [20240721_amazon-q-developer-agent-20240719-de...  \n",
       "3    [20240721_amazon-q-developer-agent-20240719-de...  \n",
       "4    [20240721_amazon-q-developer-agent-20240719-de...  \n",
       "..                                                 ...  \n",
       "495  [20231010_rag_claude2, 20240402_sweagent_claud...  \n",
       "496  [20240721_amazon-q-developer-agent-20240719-de...  \n",
       "497  [20240509_amazon-q-developer-agent-20240430-de...  \n",
       "498  [20240721_amazon-q-developer-agent-20240719-de...  \n",
       "499  [20240615_appmap-navie_gpt4o, 20240628_autocod...  \n",
       "\n",
       "[500 rows x 18 columns]"
      ],
      "text/html": [
       "<div>\n",
       "<style scoped>\n",
       "    .dataframe tbody tr th:only-of-type {\n",
       "        vertical-align: middle;\n",
       "    }\n",
       "\n",
       "    .dataframe tbody tr th {\n",
       "        vertical-align: top;\n",
       "    }\n",
       "\n",
       "    .dataframe thead th {\n",
       "        text-align: right;\n",
       "    }\n",
       "</style>\n",
       "<table border=\"1\" class=\"dataframe\">\n",
       "  <thead>\n",
       "    <tr style=\"text-align: right;\">\n",
       "      <th></th>\n",
       "      <th>instance_id</th>\n",
       "      <th>underspecified</th>\n",
       "      <th>underspecified_notes</th>\n",
       "      <th>false_negative</th>\n",
       "      <th>false_negative_notes</th>\n",
       "      <th>other_major_issues</th>\n",
       "      <th>other_notes</th>\n",
       "      <th>difficulty</th>\n",
       "      <th>underspecified_decided_by</th>\n",
       "      <th>false_negative_decided_by</th>\n",
       "      <th>other_major_issues_decided_by</th>\n",
       "      <th>difficulty_decided_by</th>\n",
       "      <th>difficulty_ensemble_decision_procedure</th>\n",
       "      <th>filter_out</th>\n",
       "      <th>was_resolved</th>\n",
       "      <th>times_solved</th>\n",
       "      <th>solved_by</th>\n",
       "      <th>unsolved_by</th>\n",
       "    </tr>\n",
       "  </thead>\n",
       "  <tbody>\n",
       "    <tr>\n",
       "      <th>0</th>\n",
       "      <td>astropy__astropy-12907</td>\n",
       "      <td>1.0</td>\n",
       "      <td>The issue description is clear, explaining tha...</td>\n",
       "      <td>0.0</td>\n",
       "      <td>The goal of the test patch is to evaluate nest...</td>\n",
       "      <td>0.0</td>\n",
       "      <td>NaN</td>\n",
       "      <td>15 min - 1 hour</td>\n",
       "      <td>75</td>\n",
       "      <td>75</td>\n",
       "      <td>75</td>\n",
       "      <td>[75, 28]</td>\n",
       "      <td>majority</td>\n",
       "      <td>False</td>\n",
       "      <td>True</td>\n",
       "      <td>7</td>\n",
       "      <td>[20240920_solver, 20241028_agentless-1.5_gpt4o...</td>\n",
       "      <td>[20240721_amazon-q-developer-agent-20240719-de...</td>\n",
       "    </tr>\n",
       "    <tr>\n",
       "      <th>1</th>\n",
       "      <td>astropy__astropy-13033</td>\n",
       "      <td>1.0</td>\n",
       "      <td>The issue's concern is well understood. The va...</td>\n",
       "      <td>1.0</td>\n",
       "      <td>The error message is raised is particular to t...</td>\n",
       "      <td>0.0</td>\n",
       "      <td>NaN</td>\n",
       "      <td>15 min - 1 hour</td>\n",
       "      <td>61</td>\n",
       "      <td>61</td>\n",
       "      <td>13</td>\n",
       "      <td>[13, 17]</td>\n",
       "      <td>majority</td>\n",
       "      <td>False</td>\n",
       "      <td>False</td>\n",
       "      <td>0</td>\n",
       "      <td>[]</td>\n",
       "      <td>[20240721_amazon-q-developer-agent-20240719-de...</td>\n",
       "    </tr>\n",
       "    <tr>\n",
       "      <th>2</th>\n",
       "      <td>astropy__astropy-13236</td>\n",
       "      <td>1.0</td>\n",
       "      <td>1. It is clearly suggested that automatic conv...</td>\n",
       "      <td>0.0</td>\n",
       "      <td>1. Issue description wants the agent to remove...</td>\n",
       "      <td>0.0</td>\n",
       "      <td>NaN</td>\n",
       "      <td>15 min - 1 hour</td>\n",
       "      <td>71</td>\n",
       "      <td>71</td>\n",
       "      <td>71</td>\n",
       "      <td>[71]</td>\n",
       "      <td>median</td>\n",
       "      <td>False</td>\n",
       "      <td>True</td>\n",
       "      <td>1</td>\n",
       "      <td>[20240824_gru]</td>\n",
       "      <td>[20240721_amazon-q-developer-agent-20240719-de...</td>\n",
       "    </tr>\n",
       "    <tr>\n",
       "      <th>3</th>\n",
       "      <td>astropy__astropy-13398</td>\n",
       "      <td>0.0</td>\n",
       "      <td>Issue description is well specified. It inform...</td>\n",
       "      <td>0.0</td>\n",
       "      <td>The tests are well scoped and cover all possib...</td>\n",
       "      <td>0.0</td>\n",
       "      <td>NaN</td>\n",
       "      <td>1-4 hours</td>\n",
       "      <td>12</td>\n",
       "      <td>12</td>\n",
       "      <td>12</td>\n",
       "      <td>[12, 62]</td>\n",
       "      <td>majority</td>\n",
       "      <td>False</td>\n",
       "      <td>False</td>\n",
       "      <td>0</td>\n",
       "      <td>[]</td>\n",
       "      <td>[20240721_amazon-q-developer-agent-20240719-de...</td>\n",
       "    </tr>\n",
       "    <tr>\n",
       "      <th>4</th>\n",
       "      <td>astropy__astropy-13453</td>\n",
       "      <td>0.0</td>\n",
       "      <td>The issue description is very clear and well-o...</td>\n",
       "      <td>0.0</td>\n",
       "      <td>The `test_write_table_formatted_columns` funct...</td>\n",
       "      <td>0.0</td>\n",
       "      <td>NaN</td>\n",
       "      <td>15 min - 1 hour</td>\n",
       "      <td>67</td>\n",
       "      <td>67</td>\n",
       "      <td>67</td>\n",
       "      <td>[61, 28]</td>\n",
       "      <td>majority</td>\n",
       "      <td>False</td>\n",
       "      <td>True</td>\n",
       "      <td>2</td>\n",
       "      <td>[20241028_agentless-1.5_gpt4o, 20241022_tools_...</td>\n",
       "      <td>[20240721_amazon-q-developer-agent-20240719-de...</td>\n",
       "    </tr>\n",
       "    <tr>\n",
       "      <th>...</th>\n",
       "      <td>...</td>\n",
       "      <td>...</td>\n",
       "      <td>...</td>\n",
       "      <td>...</td>\n",
       "      <td>...</td>\n",
       "      <td>...</td>\n",
       "      <td>...</td>\n",
       "      <td>...</td>\n",
       "      <td>...</td>\n",
       "      <td>...</td>\n",
       "      <td>...</td>\n",
       "      <td>...</td>\n",
       "      <td>...</td>\n",
       "      <td>...</td>\n",
       "      <td>...</td>\n",
       "      <td>...</td>\n",
       "      <td>...</td>\n",
       "      <td>...</td>\n",
       "    </tr>\n",
       "    <tr>\n",
       "      <th>495</th>\n",
       "      <td>sympy__sympy-24213</td>\n",
       "      <td>1.0</td>\n",
       "      <td>The issue description is somewhat vague and co...</td>\n",
       "      <td>0.0</td>\n",
       "      <td>The tests perfectly cover the issue highlighte...</td>\n",
       "      <td>0.0</td>\n",
       "      <td>NaN</td>\n",
       "      <td>15 min - 1 hour</td>\n",
       "      <td>31</td>\n",
       "      <td>31</td>\n",
       "      <td>31</td>\n",
       "      <td>[31, 39]</td>\n",
       "      <td>majority</td>\n",
       "      <td>False</td>\n",
       "      <td>True</td>\n",
       "      <td>28</td>\n",
       "      <td>[20240721_amazon-q-developer-agent-20240719-de...</td>\n",
       "      <td>[20231010_rag_claude2, 20240402_sweagent_claud...</td>\n",
       "    </tr>\n",
       "    <tr>\n",
       "      <th>496</th>\n",
       "      <td>sympy__sympy-24443</td>\n",
       "      <td>1.0</td>\n",
       "      <td>The `_check_homomorphism` function is broken f...</td>\n",
       "      <td>0.0</td>\n",
       "      <td>The test patch tests the code raising error in...</td>\n",
       "      <td>0.0</td>\n",
       "      <td>NaN</td>\n",
       "      <td>15 min - 1 hour</td>\n",
       "      <td>28</td>\n",
       "      <td>28</td>\n",
       "      <td>28</td>\n",
       "      <td>[28, 9, 12]</td>\n",
       "      <td>majority</td>\n",
       "      <td>False</td>\n",
       "      <td>True</td>\n",
       "      <td>24</td>\n",
       "      <td>[20240615_appmap-navie_gpt4o, 20240628_autocod...</td>\n",
       "      <td>[20240721_amazon-q-developer-agent-20240719-de...</td>\n",
       "    </tr>\n",
       "    <tr>\n",
       "      <th>497</th>\n",
       "      <td>sympy__sympy-24539</td>\n",
       "      <td>0.0</td>\n",
       "      <td>The issue is crystal clear in the ticket. It s...</td>\n",
       "      <td>1.0</td>\n",
       "      <td>The tests specifically check whether the `as_e...</td>\n",
       "      <td>0.0</td>\n",
       "      <td>NaN</td>\n",
       "      <td>&lt;15 min fix</td>\n",
       "      <td>7</td>\n",
       "      <td>43</td>\n",
       "      <td>7</td>\n",
       "      <td>[7, 44, 43]</td>\n",
       "      <td>majority</td>\n",
       "      <td>False</td>\n",
       "      <td>True</td>\n",
       "      <td>25</td>\n",
       "      <td>[20240721_amazon-q-developer-agent-20240719-de...</td>\n",
       "      <td>[20240509_amazon-q-developer-agent-20240430-de...</td>\n",
       "    </tr>\n",
       "    <tr>\n",
       "      <th>498</th>\n",
       "      <td>sympy__sympy-24562</td>\n",
       "      <td>0.0</td>\n",
       "      <td>The issue raises a bug where the output of `Ra...</td>\n",
       "      <td>0.0</td>\n",
       "      <td>The tests check that the value of `Rational(p,...</td>\n",
       "      <td>0.0</td>\n",
       "      <td>NaN</td>\n",
       "      <td>&lt;15 min fix</td>\n",
       "      <td>65</td>\n",
       "      <td>65</td>\n",
       "      <td>65</td>\n",
       "      <td>[13, 7]</td>\n",
       "      <td>majority</td>\n",
       "      <td>False</td>\n",
       "      <td>False</td>\n",
       "      <td>0</td>\n",
       "      <td>[]</td>\n",
       "      <td>[20240721_amazon-q-developer-agent-20240719-de...</td>\n",
       "    </tr>\n",
       "    <tr>\n",
       "      <th>499</th>\n",
       "      <td>sympy__sympy-24661</td>\n",
       "      <td>0.0</td>\n",
       "      <td>The ticket is very clear. The issue is that th...</td>\n",
       "      <td>0.0</td>\n",
       "      <td>The tests are testing all the relational possi...</td>\n",
       "      <td>0.0</td>\n",
       "      <td>NaN</td>\n",
       "      <td>15 min - 1 hour</td>\n",
       "      <td>7</td>\n",
       "      <td>7</td>\n",
       "      <td>7</td>\n",
       "      <td>[7, 10]</td>\n",
       "      <td>majority</td>\n",
       "      <td>False</td>\n",
       "      <td>True</td>\n",
       "      <td>10</td>\n",
       "      <td>[20240721_amazon-q-developer-agent-20240719-de...</td>\n",
       "      <td>[20240615_appmap-navie_gpt4o, 20240628_autocod...</td>\n",
       "    </tr>\n",
       "  </tbody>\n",
       "</table>\n",
       "<p>500 rows × 18 columns</p>\n",
       "</div>"
      ]
     },
     "execution_count": 26,
     "metadata": {},
     "output_type": "execute_result"
    }
   ],
   "execution_count": 26,
   "source": "swe_bench_verified = pd.merge(ensembled_annotation_data, swe_bench_verified_resolution_data, on='instance_id', how='inner')",
   "id": "2bfdb4277e4c3685"
  },
  {
   "metadata": {},
   "cell_type": "markdown",
   "source": "### Are `underspecified` samples empirically more difficult?",
   "id": "61acdda3ed84c16a"
  },
  {
   "metadata": {
    "ExecuteTime": {
     "end_time": "2024-11-05T08:27:35.171488Z",
     "start_time": "2024-11-05T08:27:35.167792Z"
    }
   },
   "cell_type": "code",
   "source": "swe_bench_verified[swe_bench_verified['underspecified'] == 1]['solved_by'].apply(lambda x: len(x) > 1).value_counts()",
   "id": "e5883ae64298fa4c",
   "outputs": [
    {
     "data": {
      "text/plain": [
       "solved_by\n",
       "True     188\n",
       "False     74\n",
       "Name: count, dtype: int64"
      ]
     },
     "execution_count": 31,
     "metadata": {},
     "output_type": "execute_result"
    }
   ],
   "execution_count": 31
  },
  {
   "metadata": {
    "ExecuteTime": {
     "end_time": "2024-11-05T08:30:18.650965Z",
     "start_time": "2024-11-05T08:30:18.647378Z"
    }
   },
   "cell_type": "code",
   "source": "74/188",
   "id": "c72bcca00bf1ba72",
   "outputs": [
    {
     "data": {
      "text/plain": [
       "0.39361702127659576"
      ]
     },
     "execution_count": 34,
     "metadata": {},
     "output_type": "execute_result"
    }
   ],
   "execution_count": 34
  },
  {
   "metadata": {
    "ExecuteTime": {
     "end_time": "2024-11-05T08:27:29.618248Z",
     "start_time": "2024-11-05T08:27:29.614195Z"
    }
   },
   "cell_type": "code",
   "source": "swe_bench_verified[swe_bench_verified['underspecified'] == 0]['solved_by'].apply(lambda x: len(x) > 1).value_counts()",
   "id": "6ce7578360956727",
   "outputs": [
    {
     "data": {
      "text/plain": [
       "solved_by\n",
       "True     171\n",
       "False     67\n",
       "Name: count, dtype: int64"
      ]
     },
     "execution_count": 30,
     "metadata": {},
     "output_type": "execute_result"
    }
   ],
   "execution_count": 30
  },
  {
   "metadata": {
    "ExecuteTime": {
     "end_time": "2024-11-05T08:28:00.043460Z",
     "start_time": "2024-11-05T08:28:00.041031Z"
    }
   },
   "cell_type": "code",
   "source": "67/171",
   "id": "5b2e0f1a10754171",
   "outputs": [
    {
     "data": {
      "text/plain": [
       "0.391812865497076"
      ]
     },
     "execution_count": 32,
     "metadata": {},
     "output_type": "execute_result"
    }
   ],
   "execution_count": 32
  },
  {
   "metadata": {},
   "cell_type": "markdown",
   "source": "There is only an ~0.2% points difference between empiric resolution percentage when comparing samples for which `underspecified` is 1 or 0. Thus, we wont consider this feature when deciding how to re-shuffle the dataset.",
   "id": "faac87e03feb05e2"
  },
  {
   "metadata": {},
   "cell_type": "markdown",
   "source": "### Are `false_negative` samples empirically more difficult?",
   "id": "b057163611800a69"
  },
  {
   "metadata": {
    "ExecuteTime": {
     "end_time": "2024-11-05T09:54:02.167923Z",
     "start_time": "2024-11-05T09:54:02.164333Z"
    }
   },
   "cell_type": "code",
   "source": "swe_bench_verified['solved_by'].apply(lambda x: len(x) > 1).value_counts()",
   "id": "1fec664b0e225fc6",
   "outputs": [
    {
     "data": {
      "text/plain": [
       "solved_by\n",
       "True     359\n",
       "False    141\n",
       "Name: count, dtype: int64"
      ]
     },
     "execution_count": 60,
     "metadata": {},
     "output_type": "execute_result"
    }
   ],
   "execution_count": 60
  },
  {
   "metadata": {
    "ExecuteTime": {
     "end_time": "2024-11-05T09:57:44.631826Z",
     "start_time": "2024-11-05T09:57:44.628411Z"
    }
   },
   "cell_type": "code",
   "source": "359/500",
   "id": "3d3127547505f316",
   "outputs": [
    {
     "data": {
      "text/plain": [
       "0.718"
      ]
     },
     "execution_count": 61,
     "metadata": {},
     "output_type": "execute_result"
    }
   ],
   "execution_count": 61
  },
  {
   "metadata": {},
   "cell_type": "markdown",
   "source": "A surprising by, product here, is that ~72% of samples in SWE-Bench Verified were solved by at least one system. However, the top resolution rate as of 5.11.24 is OpenHands+CodeAct with 53%. So there is something of a 20% gain just lying around.",
   "id": "3a88cf7e991758f5"
  },
  {
   "metadata": {
    "ExecuteTime": {
     "end_time": "2024-11-05T08:31:53.154719Z",
     "start_time": "2024-11-05T08:31:53.149461Z"
    }
   },
   "cell_type": "code",
   "source": "swe_bench_verified[swe_bench_verified['false_negative'] == 1]['solved_by'].apply(lambda x: len(x) > 1).value_counts()",
   "id": "5f781623df3d6429",
   "outputs": [
    {
     "data": {
      "text/plain": [
       "solved_by\n",
       "True     124\n",
       "False     73\n",
       "Name: count, dtype: int64"
      ]
     },
     "execution_count": 35,
     "metadata": {},
     "output_type": "execute_result"
    }
   ],
   "execution_count": 35
  },
  {
   "metadata": {
    "ExecuteTime": {
     "end_time": "2024-11-05T08:32:11.722835Z",
     "start_time": "2024-11-05T08:32:11.720473Z"
    }
   },
   "cell_type": "code",
   "source": "73/124",
   "id": "64178b39ae0d2964",
   "outputs": [
    {
     "data": {
      "text/plain": [
       "0.5887096774193549"
      ]
     },
     "execution_count": 37,
     "metadata": {},
     "output_type": "execute_result"
    }
   ],
   "execution_count": 37
  },
  {
   "metadata": {
    "ExecuteTime": {
     "end_time": "2024-11-05T08:47:21.960688Z",
     "start_time": "2024-11-05T08:47:21.955869Z"
    }
   },
   "cell_type": "code",
   "source": "swe_bench_verified[swe_bench_verified['false_negative'] == 0]['solved_by'].apply(lambda x: len(x) > 1).value_counts()",
   "id": "ca9687443d190ea2",
   "outputs": [
    {
     "data": {
      "text/plain": [
       "solved_by\n",
       "True     235\n",
       "False     68\n",
       "Name: count, dtype: int64"
      ]
     },
     "execution_count": 57,
     "metadata": {},
     "output_type": "execute_result"
    }
   ],
   "execution_count": 57
  },
  {
   "metadata": {
    "ExecuteTime": {
     "end_time": "2024-11-05T08:32:17.174207Z",
     "start_time": "2024-11-05T08:32:17.172Z"
    }
   },
   "cell_type": "code",
   "source": "68/235",
   "id": "d15a6470226002ee",
   "outputs": [
    {
     "data": {
      "text/plain": [
       "0.28936170212765955"
      ]
     },
     "execution_count": 38,
     "metadata": {},
     "output_type": "execute_result"
    }
   ],
   "execution_count": 38
  },
  {
   "metadata": {},
   "cell_type": "markdown",
   "source": "It does seem like samples that have well-specified tests that cover every possible solution are ~30% points more likely to be correctly resolved. To ensure this isnt confounded by difficulty, let's also correct for this.",
   "id": "99b605bd12231e49"
  },
  {
   "metadata": {
    "ExecuteTime": {
     "end_time": "2024-11-05T10:01:35.890916Z",
     "start_time": "2024-11-05T10:01:35.880602Z"
    }
   },
   "cell_type": "code",
   "source": [
    "for difficulty_level in swe_bench_verified.difficulty.unique():\n",
    "    value_counts_for_well_specified_tests = swe_bench_verified[(swe_bench_verified['false_negative'] == 0) & (swe_bench_verified['difficulty'] == difficulty_level)]['solved_by'].apply(lambda x: len(x) > 1).value_counts()\n",
    "    \n",
    "    value_counts_for_ambiguous_tests = swe_bench_verified[(swe_bench_verified['false_negative'] == 1) & (swe_bench_verified['difficulty'] == difficulty_level)]['solved_by'].apply(lambda x: len(x) > 1).value_counts()\n",
    "    \n",
    "    ratio_well_defined = 'N/A' if len(value_counts_for_well_specified_tests) == 0 else round(value_counts_for_well_specified_tests.iloc[1]/value_counts_for_well_specified_tests.iloc[0], 2)\n",
    "    ratio_ambiguous = 'N/A' if len(value_counts_for_ambiguous_tests) == 0 else round(value_counts_for_ambiguous_tests.iloc[1]/value_counts_for_ambiguous_tests.iloc[0], 2)\n",
    "    \n",
    "    print(f'For difficulty level \"{difficulty_level} and {len(swe_bench_verified[swe_bench_verified[\"difficulty\"] == difficulty_level])} samples within this category:\"\\n'\n",
    "          f'\\tfor well-specified tests (false_negative == 0) the ratio of unresolved to resolved samples is: {ratio_well_defined}\"\\n'\n",
    "          f'\\tfor ambiguous tests (false_negative == 1) the ratio of unresolved to resolved samples is: {ratio_ambiguous}\"\\n\\n')"
   ],
   "id": "c9e5cec92eb20696",
   "outputs": [
    {
     "name": "stdout",
     "output_type": "stream",
     "text": [
      "For difficulty level \"15 min - 1 hour and 261 samples within this category:\"\n",
      "\tfor well-specified tests (false_negative == 0) the ratio of unresolved to resolved samples is: 0.36\"\n",
      "\tfor ambiguous tests (false_negative == 1) the ratio of unresolved to resolved samples is: 0.63\"\n",
      "\n",
      "\n",
      "For difficulty level \"1-4 hours and 42 samples within this category:\"\n",
      "\tfor well-specified tests (false_negative == 0) the ratio of unresolved to resolved samples is: 0.22\"\n",
      "\tfor ambiguous tests (false_negative == 1) the ratio of unresolved to resolved samples is: 0.41\"\n",
      "\n",
      "\n",
      "For difficulty level \"<15 min fix and 194 samples within this category:\"\n",
      "\tfor well-specified tests (false_negative == 0) the ratio of unresolved to resolved samples is: 0.15\"\n",
      "\tfor ambiguous tests (false_negative == 1) the ratio of unresolved to resolved samples is: 0.16\"\n",
      "\n",
      "\n",
      "For difficulty level \">4 hours and 3 samples within this category:\"\n",
      "\tfor well-specified tests (false_negative == 0) the ratio of unresolved to resolved samples is: 0.5\"\n",
      "\tfor ambiguous tests (false_negative == 1) the ratio of unresolved to resolved samples is: N/A\"\n",
      "\n",
      "\n"
     ]
    }
   ],
   "execution_count": 62
  },
  {
   "metadata": {},
   "cell_type": "markdown",
   "source": "Let's see if the effect of the test ambiguity on sample resolution rate is statistically significant.",
   "id": "c2631bad40614b7"
  },
  {
   "metadata": {
    "ExecuteTime": {
     "end_time": "2024-11-05T10:34:20.920337Z",
     "start_time": "2024-11-05T10:34:20.917160Z"
    }
   },
   "cell_type": "code",
   "source": "chi2_contingency(np.array([[235, 68], [124, 73]]))",
   "id": "7c40af50713a098a",
   "outputs": [
    {
     "data": {
      "text/plain": [
       "Chi2ContingencyResult(statistic=np.float64(11.880152109771082), pvalue=np.float64(0.0005673530755796943), dof=1, expected_freq=array([[217.554,  85.446],\n",
       "       [141.446,  55.554]]))"
      ]
     },
     "execution_count": 77,
     "metadata": {},
     "output_type": "execute_result"
    }
   ],
   "execution_count": 77
  },
  {
   "metadata": {},
   "cell_type": "markdown",
   "source": "Thus our findings are significant at alpha=0.01 and we will include this feature in our considerations for re-shuffling data.",
   "id": "f5482bcd196bc2d6"
  },
  {
   "metadata": {},
   "cell_type": "markdown",
   "source": "### Does `difficulty` in samples impact resolution rate?",
   "id": "9e954425997b3d93"
  },
  {
   "metadata": {
    "ExecuteTime": {
     "end_time": "2024-11-05T10:59:53.731765Z",
     "start_time": "2024-11-05T10:59:53.724117Z"
    }
   },
   "cell_type": "code",
   "source": [
    "f_observed = []\n",
    "for difficulty_level in swe_bench_verified.difficulty.unique():\n",
    "    value_counts = swe_bench_verified[swe_bench_verified['difficulty'] == difficulty_level]['solved_by'].apply(lambda x: len(x) > 1).value_counts()\n",
    "    f_observed.append([value_counts.iloc[0], value_counts.iloc[1]])\n",
    "    \n",
    "f_observed = np.array(f_observed)\n",
    "chi2_contingency(f_observed)"
   ],
   "id": "29d60f1626c40e25",
   "outputs": [
    {
     "data": {
      "text/plain": [
       "Chi2ContingencyResult(statistic=np.float64(22.097429902124276), pvalue=np.float64(6.225592785906641e-05), dof=3, expected_freq=array([[198.36,  62.64],\n",
       "       [ 31.92,  10.08],\n",
       "       [147.44,  46.56],\n",
       "       [  2.28,   0.72]]))"
      ]
     },
     "execution_count": 88,
     "metadata": {},
     "output_type": "execute_result"
    }
   ],
   "execution_count": 88
  },
  {
   "metadata": {},
   "cell_type": "markdown",
   "source": "This is also statistically significant at alpha=0.01.",
   "id": "26f3023af56ea15c"
  },
  {
   "metadata": {},
   "cell_type": "markdown",
   "source": [
    "### Computing `empiric_difficulty` \n",
    "\n",
    "We define empiric difficulty as the inverse ratio of agents that have solved a sample over the amount of agents competing on SWE-Bench. This way samples that were solved by all agents have an `empiric_difficulty` of 0 and unsolved samples have an `empiric_difficulty` of 1."
   ],
   "id": "26ecbdb84a461733"
  },
  {
   "metadata": {
    "ExecuteTime": {
     "end_time": "2024-11-05T11:37:04.192940Z",
     "start_time": "2024-11-05T11:37:04.190008Z"
    }
   },
   "cell_type": "code",
   "source": "number_of_competing_agents = len(swe_bench_verified.loc[0, 'solved_by'] + swe_bench_verified.loc[0, 'unsolved_by'])",
   "id": "a787b1d1ead82c55",
   "outputs": [],
   "execution_count": 108
  },
  {
   "metadata": {
    "ExecuteTime": {
     "end_time": "2024-11-05T11:38:26.461299Z",
     "start_time": "2024-11-05T11:38:26.458219Z"
    }
   },
   "cell_type": "code",
   "source": "swe_bench_verified['empiric_difficulty'] = round(1-(swe_bench_verified['times_solved']/number_of_competing_agents),2) # Round to be able to compare (otherwise trailing float differences make it hard)",
   "id": "4fe2e8e5e48b2942",
   "outputs": [],
   "execution_count": 113
  },
  {
   "metadata": {
    "ExecuteTime": {
     "end_time": "2024-11-05T11:37:13.225094Z",
     "start_time": "2024-11-05T11:37:13.216016Z"
    }
   },
   "cell_type": "code",
   "source": "swe_bench_verified.to_json(os.path.join(os.getcwd(), 'swe_bench_verified_resolution_data.json'), indent=4, orient='records', force_ascii=False)",
   "id": "920fd675a6b0c13c",
   "outputs": [],
   "execution_count": 110
  },
  {
   "metadata": {},
   "cell_type": "markdown",
   "source": "How do `empiric_difficulty` and `difficulty` co-occur?",
   "id": "3292a18ff992e473"
  },
  {
   "metadata": {
    "ExecuteTime": {
     "end_time": "2024-11-05T12:30:03.410756Z",
     "start_time": "2024-11-05T12:30:03.406872Z"
    }
   },
   "cell_type": "code",
   "source": [
    "mapping = {\n",
    "    '<15 min fix': 0,\n",
    "    '15 min - 1 hour': 1,\n",
    "    '1-4 hours': 2,\n",
    "    '>4 hours': 3\n",
    "}\n",
    "swe_bench_verified['difficulty_encoded'] = swe_bench_verified['difficulty'].map(mapping)"
   ],
   "id": "78d0f90c232c33e2",
   "outputs": [],
   "execution_count": 129
  },
  {
   "metadata": {
    "ExecuteTime": {
     "end_time": "2024-11-05T12:30:05.379611Z",
     "start_time": "2024-11-05T12:30:05.376112Z"
    }
   },
   "cell_type": "code",
   "source": "swe_bench_verified['empiric_difficulty'].corr(swe_bench_verified['difficulty_encoded'])",
   "id": "7829c809a4b498d5",
   "outputs": [
    {
     "data": {
      "text/plain": [
       "np.float64(0.44514115819875383)"
      ]
     },
     "execution_count": 130,
     "metadata": {},
     "output_type": "execute_result"
    }
   ],
   "execution_count": 130
  },
  {
   "metadata": {
    "ExecuteTime": {
     "end_time": "2024-11-05T12:32:38.237672Z",
     "start_time": "2024-11-05T12:32:38.179101Z"
    }
   },
   "cell_type": "code",
   "source": [
    "ax = swe_bench_verified[swe_bench_verified['difficulty_encoded'] == 0]['empiric_difficulty'].hist()\n",
    "ax.set_xticks(np.arange(0, 1.1, 0.1))\n",
    "plt.show()"
   ],
   "id": "19f429ae7c487bc9",
   "outputs": [
    {
     "data": {
      "text/plain": [
       "<Figure size 640x480 with 1 Axes>"
      ],
      "image/png": "[encoded data removed]"
     },
     "metadata": {},
     "output_type": "display_data"
    }
   ],
   "execution_count": 137
  },
  {
   "metadata": {
    "ExecuteTime": {
     "end_time": "2024-11-05T12:32:49.958827Z",
     "start_time": "2024-11-05T12:32:49.903984Z"
    }
   },
   "cell_type": "code",
   "source": [
    "ax = swe_bench_verified[swe_bench_verified['difficulty_encoded'] == 1]['empiric_difficulty'].hist()\n",
    "ax.set_xticks(np.arange(0, 1.1, 0.1))\n",
    "plt.show()"
   ],
   "id": "a3445aba1dc34403",
   "outputs": [
    {
     "data": {
      "text/plain": [
       "<Figure size 640x480 with 1 Axes>"
      ],
      "image/png": "[encoded data removed]"
     },
     "metadata": {},
     "output_type": "display_data"
    }
   ],
   "execution_count": 138
  },
  {
   "metadata": {
    "ExecuteTime": {
     "end_time": "2024-11-05T12:32:56.083119Z",
     "start_time": "2024-11-05T12:32:56.034242Z"
    }
   },
   "cell_type": "code",
   "source": [
    "ax = swe_bench_verified[swe_bench_verified['difficulty_encoded'] == 2]['empiric_difficulty'].hist()\n",
    "ax.set_xticks(np.arange(0, 1.1, 0.1))\n",
    "plt.show()"
   ],
   "id": "d4dc4187e5e01991",
   "outputs": [
    {
     "data": {
      "text/plain": [
       "<Figure size 640x480 with 1 Axes>"
      ],
      "image/png": "[encoded data removed]"
     },
     "metadata": {},
     "output_type": "display_data"
    }
   ],
   "execution_count": 139
  },
  {
   "metadata": {
    "ExecuteTime": {
     "end_time": "2024-11-05T12:33:00.853228Z",
     "start_time": "2024-11-05T12:33:00.802002Z"
    }
   },
   "cell_type": "code",
   "source": [
    "ax = swe_bench_verified[swe_bench_verified['difficulty_encoded'] == 3]['empiric_difficulty'].hist()\n",
    "ax.set_xticks(np.arange(0, 1.1, 0.1))\n",
    "plt.show()"
   ],
   "id": "40fe322411ffee4a",
   "outputs": [
    {
     "data": {
      "text/plain": [
       "<Figure size 640x480 with 1 Axes>"
      ],
      "image/png": "[encoded data removed]"
     },
     "metadata": {},
     "output_type": "display_data"
    }
   ],
   "execution_count": 140
  },
  {
   "metadata": {},
   "cell_type": "code",
   "outputs": [],
   "execution_count": null,
   "source": "# TODO: Turn this into a nice plot of four subplots that I can potentially use in my paper/report",
   "id": "ca180e8f6a6de367"
  },
  {
   "metadata": {
    "ExecuteTime": {
     "end_time": "2024-11-05T12:36:05.395023Z",
     "start_time": "2024-11-05T12:36:05.388366Z"
    }
   },
   "cell_type": "code",
   "source": "swe_bench_verified[swe_bench_verified['difficulty_encoded'] == 1].sort_values(by=['empiric_difficulty'], ascending=False)[['instance_id','empiric_difficulty', 'difficulty']]",
   "id": "7eff4bc918c2a6e2",
   "outputs": [
    {
     "data": {
      "text/plain": [
       "                          instance_id  empiric_difficulty       difficulty\n",
       "281      matplotlib__matplotlib-25960                1.00  15 min - 1 hour\n",
       "230              django__django-16502                1.00  15 min - 1 hour\n",
       "117              django__django-13513                1.00  15 min - 1 hour\n",
       "186              django__django-15280                1.00  15 min - 1 hour\n",
       "189              django__django-15375                1.00  15 min - 1 hour\n",
       "..                                ...                 ...              ...\n",
       "72               django__django-12143                0.17  15 min - 1 hour\n",
       "350  scikit-learn__scikit-learn-10844                0.14  15 min - 1 hour\n",
       "231              django__django-16527                0.14  15 min - 1 hour\n",
       "123              django__django-13658                0.14  15 min - 1 hour\n",
       "73               django__django-12155                0.11  15 min - 1 hour\n",
       "\n",
       "[261 rows x 3 columns]"
      ],
      "text/html": [
       "<div>\n",
       "<style scoped>\n",
       "    .dataframe tbody tr th:only-of-type {\n",
       "        vertical-align: middle;\n",
       "    }\n",
       "\n",
       "    .dataframe tbody tr th {\n",
       "        vertical-align: top;\n",
       "    }\n",
       "\n",
       "    .dataframe thead th {\n",
       "        text-align: right;\n",
       "    }\n",
       "</style>\n",
       "<table border=\"1\" class=\"dataframe\">\n",
       "  <thead>\n",
       "    <tr style=\"text-align: right;\">\n",
       "      <th></th>\n",
       "      <th>instance_id</th>\n",
       "      <th>empiric_difficulty</th>\n",
       "      <th>difficulty</th>\n",
       "    </tr>\n",
       "  </thead>\n",
       "  <tbody>\n",
       "    <tr>\n",
       "      <th>281</th>\n",
       "      <td>matplotlib__matplotlib-25960</td>\n",
       "      <td>1.00</td>\n",
       "      <td>15 min - 1 hour</td>\n",
       "    </tr>\n",
       "    <tr>\n",
       "      <th>230</th>\n",
       "      <td>django__django-16502</td>\n",
       "      <td>1.00</td>\n",
       "      <td>15 min - 1 hour</td>\n",
       "    </tr>\n",
       "    <tr>\n",
       "      <th>117</th>\n",
       "      <td>django__django-13513</td>\n",
       "      <td>1.00</td>\n",
       "      <td>15 min - 1 hour</td>\n",
       "    </tr>\n",
       "    <tr>\n",
       "      <th>186</th>\n",
       "      <td>django__django-15280</td>\n",
       "      <td>1.00</td>\n",
       "      <td>15 min - 1 hour</td>\n",
       "    </tr>\n",
       "    <tr>\n",
       "      <th>189</th>\n",
       "      <td>django__django-15375</td>\n",
       "      <td>1.00</td>\n",
       "      <td>15 min - 1 hour</td>\n",
       "    </tr>\n",
       "    <tr>\n",
       "      <th>...</th>\n",
       "      <td>...</td>\n",
       "      <td>...</td>\n",
       "      <td>...</td>\n",
       "    </tr>\n",
       "    <tr>\n",
       "      <th>72</th>\n",
       "      <td>django__django-12143</td>\n",
       "      <td>0.17</td>\n",
       "      <td>15 min - 1 hour</td>\n",
       "    </tr>\n",
       "    <tr>\n",
       "      <th>350</th>\n",
       "      <td>scikit-learn__scikit-learn-10844</td>\n",
       "      <td>0.14</td>\n",
       "      <td>15 min - 1 hour</td>\n",
       "    </tr>\n",
       "    <tr>\n",
       "      <th>231</th>\n",
       "      <td>django__django-16527</td>\n",
       "      <td>0.14</td>\n",
       "      <td>15 min - 1 hour</td>\n",
       "    </tr>\n",
       "    <tr>\n",
       "      <th>123</th>\n",
       "      <td>django__django-13658</td>\n",
       "      <td>0.14</td>\n",
       "      <td>15 min - 1 hour</td>\n",
       "    </tr>\n",
       "    <tr>\n",
       "      <th>73</th>\n",
       "      <td>django__django-12155</td>\n",
       "      <td>0.11</td>\n",
       "      <td>15 min - 1 hour</td>\n",
       "    </tr>\n",
       "  </tbody>\n",
       "</table>\n",
       "<p>261 rows × 3 columns</p>\n",
       "</div>"
      ]
     },
     "execution_count": 142,
     "metadata": {},
     "output_type": "execute_result"
    }
   ],
   "execution_count": 142
  },
  {
   "metadata": {},
   "cell_type": "code",
   "outputs": [],
   "execution_count": null,
   "source": "",
   "id": "633346a37bd81b2a"
  }
 ],
 "metadata": {
  "kernelspec": {
   "display_name": "Python 3",
   "language": "python",
   "name": "python3"
  },
  "language_info": {
   "codemirror_mode": {
    "name": "ipython",
    "version": 2
   },
   "file_extension": ".py",
   "mimetype": "text/x-python",
   "name": "python",
   "nbconvert_exporter": "python",
   "pygments_lexer": "ipython2",
   "version": "2.7.6"
  }
 },
 "nbformat": 4,
 "nbformat_minor": 5
}
